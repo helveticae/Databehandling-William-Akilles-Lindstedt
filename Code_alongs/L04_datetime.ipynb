{
 "cells": [
  {
   "cell_type": "code",
   "execution_count": 3,
   "metadata": {},
   "outputs": [
    {
     "name": "stdout",
     "output_type": "stream",
     "text": [
      "2022-11-08 16:10:10.291973\n"
     ]
    },
    {
     "data": {
      "text/plain": [
       "datetime.datetime(2022, 11, 8, 16, 10, 10, 291973)"
      ]
     },
     "execution_count": 3,
     "metadata": {},
     "output_type": "execute_result"
    }
   ],
   "source": [
    "from datetime import datetime \n",
    "\n",
    "now = datetime.now()\n",
    "# format: year-month-day hour:minute:seconds.microseconds\n",
    "print(now)\n",
    "\n",
    "now"
   ]
  },
  {
   "cell_type": "code",
   "execution_count": 4,
   "metadata": {},
   "outputs": [
    {
     "name": "stdout",
     "output_type": "stream",
     "text": [
      "Todays date is 2022-11-08\n",
      "Today is Tuesday\n",
      "Today is (abbrev) Tue\n",
      "Week is 45\n"
     ]
    }
   ],
   "source": [
    "print(f\"Todays date is {now.date()}\")\n",
    "# strftime: datetime -> str\n",
    "print(f\"Today is {now.strftime('%A')}\")\n",
    "print(f\"Today is (abbrev) {now.strftime('%a')}\")\n",
    "print(f\"Week is {now.strftime('%W')}\")"
   ]
  },
  {
   "cell_type": "code",
   "execution_count": 5,
   "metadata": {},
   "outputs": [
    {
     "name": "stdout",
     "output_type": "stream",
     "text": [
      "2024-05-25 00:00:00\n"
     ]
    },
    {
     "data": {
      "text/plain": [
       "datetime.datetime(2024, 5, 25, 0, 0)"
      ]
     },
     "execution_count": 5,
     "metadata": {},
     "output_type": "execute_result"
    }
   ],
   "source": [
    "graduation_date = \"25/5-2024\"\n",
    "# strptime: str -> datetime\n",
    "graduation_date = datetime.strptime(graduation_date, \"%d/%m-%Y\")\n",
    "print(graduation_date)\n",
    "graduation_date"
   ]
  },
  {
   "cell_type": "code",
   "execution_count": 6,
   "metadata": {},
   "outputs": [
    {
     "name": "stdout",
     "output_type": "stream",
     "text": [
      "563 days, 7:49:49.708027\n"
     ]
    },
    {
     "data": {
      "text/plain": [
       "datetime.timedelta(days=563, seconds=28189, microseconds=708027)"
      ]
     },
     "execution_count": 6,
     "metadata": {},
     "output_type": "execute_result"
    }
   ],
   "source": [
    "remaining_time = graduation_date - now\n",
    "print(remaining_time)\n",
    "remaining_time"
   ]
  },
  {
   "cell_type": "code",
   "execution_count": 7,
   "metadata": {},
   "outputs": [
    {
     "data": {
      "text/plain": [
       "'Week: 51, day: Sat'"
      ]
     },
     "execution_count": 7,
     "metadata": {},
     "output_type": "execute_result"
    }
   ],
   "source": [
    "christmas_str = \"2022-12-24\"\n",
    "\n",
    "christmas_date = datetime.strptime(christmas_str, \"%Y-%m-%d\")\n",
    "christmas_date.strftime(\"Week: %W, day: %a\")"
   ]
  }
 ],
 "metadata": {
  "kernelspec": {
   "display_name": "Python 3.9.13 ('Databehandling-William-Akilles-Lindstedt-bpWULdXK')",
   "language": "python",
   "name": "python3"
  },
  "language_info": {
   "codemirror_mode": {
    "name": "ipython",
    "version": 3
   },
   "file_extension": ".py",
   "mimetype": "text/x-python",
   "name": "python",
   "nbconvert_exporter": "python",
   "pygments_lexer": "ipython3",
   "version": "3.9.13"
  },
  "orig_nbformat": 4,
  "vscode": {
   "interpreter": {
    "hash": "08e7c39814852de79614705ad3fad31d43fa5fdc6f76ae0c28142b09245f6875"
   }
  }
 },
 "nbformat": 4,
 "nbformat_minor": 2
}
