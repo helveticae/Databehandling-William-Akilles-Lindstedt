{
 "cells": [
  {
   "cell_type": "code",
   "execution_count": 165,
   "metadata": {},
   "outputs": [
    {
     "name": "stdout",
     "output_type": "stream",
     "text": [
      "559 as byte string = 1000101111\n",
      "559 as hexadecimal string = 0x22f\n"
     ]
    }
   ],
   "source": [
    "import random as rnd\n",
    "Integer = rnd.randint(1,1024)\n",
    "\n",
    "print(f\"{Integer} as byte string = {Integer:b}\") # b as in ~byte string~\n",
    "print(f\"{Integer} as hexadecimal string = {hex(Integer)}\") # hex as in ~hexadecimal string~"
   ]
  },
  {
   "cell_type": "markdown",
   "metadata": {},
   "source": [
    "### Briefly about UTF (Unicode Transformation Format)\n",
    "- UTF-8 encodes characters into binary strings of one, two, three, or four bytes.\n",
    "- UTF-16 encodes a character into a string of either two or four bytes.\n",
    "\n",
    "As of Python 3, [all strings are unicode.](https://docs.python.org/3/howto/unicode.html)\n"
   ]
  },
  {
   "cell_type": "code",
   "execution_count": 166,
   "metadata": {},
   "outputs": [
    {
     "data": {
      "text/plain": [
       "b\"I'm a string and I must be encoded before hashing.\""
      ]
     },
     "execution_count": 166,
     "metadata": {},
     "output_type": "execute_result"
    }
   ],
   "source": [
    "str=\"I'm a string and I must be encoded before hashing.\"\n",
    "\n",
    "# convert string to bytes\n",
    "encoded=str.encode(encoding=\"UTF-8\") # UTF-8 is default (using one to four one-byte (8-bit) code units)\n",
    "\n",
    "encoded"
   ]
  },
  {
   "cell_type": "code",
   "execution_count": 167,
   "metadata": {},
   "outputs": [
    {
     "data": {
      "text/plain": [
       "\"I'm a string and I must be encoded before hashing.\""
      ]
     },
     "execution_count": 167,
     "metadata": {},
     "output_type": "execute_result"
    }
   ],
   "source": [
    "encoded.decode(encoding = \"UTF-8\")"
   ]
  },
  {
   "cell_type": "code",
   "execution_count": 168,
   "metadata": {},
   "outputs": [
    {
     "name": "stdout",
     "output_type": "stream",
     "text": [
      "b\"\\xff\\xfeI\\x00'\\x00m\\x00 \\x00a\\x00 \\x00s\\x00t\\x00r\\x00i\\x00n\\x00g\\x00 \\x00a\\x00n\\x00d\\x00 \\x00I\\x00 \\x00m\\x00u\\x00s\\x00t\\x00 \\x00b\\x00e\\x00 \\x00e\\x00n\\x00c\\x00o\\x00d\\x00e\\x00d\\x00 \\x00b\\x00e\\x00f\\x00o\\x00r\\x00e\\x00 \\x00h\\x00a\\x00s\\x00h\\x00i\\x00n\\x00g\\x00.\\x00\"\n"
     ]
    }
   ],
   "source": [
    "foo = str.encode(encoding = \"UTF-16\") # Encoded UTF-16\n",
    "print(foo)"
   ]
  },
  {
   "cell_type": "code",
   "execution_count": 169,
   "metadata": {},
   "outputs": [
    {
     "data": {
      "text/plain": [
       "\"I'm a string and I must be encoded before hashing.\""
      ]
     },
     "execution_count": 169,
     "metadata": {},
     "output_type": "execute_result"
    }
   ],
   "source": [
    "foo.decode(encoding = \"UTF-16\") # Decoded"
   ]
  },
  {
   "cell_type": "markdown",
   "metadata": {},
   "source": [
    "As shown, encoding and decoding is easily done with Python. UTF-16 is not automatically decoded, while UTF-8 is, as the default encoding for Python is UTF-8. (Probably ?)\n",
    "\n",
    "---\n",
    "## Simple hashing with SHA-256"
   ]
  },
  {
   "cell_type": "code",
   "execution_count": 170,
   "metadata": {},
   "outputs": [
    {
     "data": {
      "text/plain": [
       "'2f8ce08c2cc72327b030624aad0acf3c2dfcc0d4ad816018c6f5c1bdf64b97b5'"
      ]
     },
     "execution_count": 170,
     "metadata": {},
     "output_type": "execute_result"
    }
   ],
   "source": [
    "import hashlib\n",
    "\n",
    "# Using SHA-256\n",
    "hashed = hashlib.sha256(foo)\n",
    "\n",
    "hashed.hexdigest() # Hash value as hex string (binary value of the string in hexadecimal notation)"
   ]
  },
  {
   "cell_type": "code",
   "execution_count": 171,
   "metadata": {},
   "outputs": [
    {
     "name": "stdout",
     "output_type": "stream",
     "text": [
      "hashed.digest_size=32\n",
      "hashed.block_size=64\n"
     ]
    }
   ],
   "source": [
    "print(f\"{hashed.digest_size=}\\n{hashed.block_size=}\") # Show digest and block size"
   ]
  },
  {
   "cell_type": "code",
   "execution_count": 172,
   "metadata": {},
   "outputs": [
    {
     "name": "stdout",
     "output_type": "stream",
     "text": [
      "b\"/\\x8c\\xe0\\x8c,\\xc7#'\\xb00bJ\\xad\\n\\xcf<-\\xfc\\xc0\\xd4\\xad\\x81`\\x18\\xc6\\xf5\\xc1\\xbd\\xf6K\\x97\\xb5\"\n"
     ]
    }
   ],
   "source": [
    "print(hashed.digest()) # Hash value as bytes object (Output)"
   ]
  },
  {
   "cell_type": "markdown",
   "metadata": {},
   "source": [
    "This \"\"cannot\"\" be decrypted. However, we can check if input is matching. For example:"
   ]
  },
  {
   "cell_type": "code",
   "execution_count": 173,
   "metadata": {},
   "outputs": [
    {
     "name": "stdout",
     "output_type": "stream",
     "text": [
      "b\"^\\x88H\\x98\\xda(\\x04qQ\\xd0\\xe5o\\x8d\\xc6)'s`=\\rj\\xab\\xbd\\xd6*\\x11\\xefr\\x1d\\x15B\\xd8\"\n"
     ]
    }
   ],
   "source": [
    "my_password = \"password\".encode()\n",
    "\n",
    "hashed_password = hashlib.sha256(my_password)\n",
    "\n",
    "print(hashed_password.digest())"
   ]
  },
  {
   "cell_type": "code",
   "execution_count": 174,
   "metadata": {},
   "outputs": [
    {
     "name": "stdout",
     "output_type": "stream",
     "text": [
      "False\n",
      "True\n"
     ]
    }
   ],
   "source": [
    "user_input1 = \"wordpass\".encode()\n",
    "user_input2 = \"password\".encode()\n",
    "\n",
    "login1 = hashlib.sha256(user_input1)\n",
    "login2 = hashlib.sha256(user_input2)\n",
    "\n",
    "print(hashed_password.digest() == login1.digest())\n",
    "print(hashed_password.digest() == login2.digest())"
   ]
  }
 ],
 "metadata": {
  "kernelspec": {
   "display_name": "Python 3.9.13 ('Databehandling-William-Akilles-Lindstedt-bpWULdXK')",
   "language": "python",
   "name": "python3"
  },
  "language_info": {
   "codemirror_mode": {
    "name": "ipython",
    "version": 3
   },
   "file_extension": ".py",
   "mimetype": "text/x-python",
   "name": "python",
   "nbconvert_exporter": "python",
   "pygments_lexer": "ipython3",
   "version": "3.9.13"
  },
  "orig_nbformat": 4,
  "vscode": {
   "interpreter": {
    "hash": "08e7c39814852de79614705ad3fad31d43fa5fdc6f76ae0c28142b09245f6875"
   }
  }
 },
 "nbformat": 4,
 "nbformat_minor": 2
}
