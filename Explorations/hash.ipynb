{
 "cells": [
  {
   "cell_type": "code",
   "execution_count": 2,
   "metadata": {},
   "outputs": [
    {
     "name": "stdout",
     "output_type": "stream",
     "text": [
      "595 as byte string = 1001010011\n",
      "595 as hexadecimal string = 0x253\n"
     ]
    }
   ],
   "source": [
    "import random as rnd\n",
    "Integer = rnd.randint(1,1024)\n",
    "\n",
    "print(f\"{Integer} as byte string = {Integer:b}\") # b as in ~byte string~\n",
    "print(f\"{Integer} as hexadecimal string = {hex(Integer)}\") # hex as in ~hexadecimal string~"
   ]
  },
  {
   "cell_type": "markdown",
   "metadata": {},
   "source": [
    "### Briefly about UTF (Unicode Transformation Format)\n",
    "- UTF-8 encodes characters into binary strings of one, two, three, or four bytes.\n",
    "- UTF-16 encodes a character into a string of either two or four bytes.\n",
    "\n",
    "As of Python 3, [all strings are unicode.](https://docs.python.org/3/howto/unicode.html)\n"
   ]
  },
  {
   "cell_type": "code",
   "execution_count": 3,
   "metadata": {},
   "outputs": [
    {
     "data": {
      "text/plain": [
       "b\"I'm a string and I must be encoded before hashing.\""
      ]
     },
     "execution_count": 3,
     "metadata": {},
     "output_type": "execute_result"
    }
   ],
   "source": [
    "str=\"I'm a string and I must be encoded before hashing.\"\n",
    "\n",
    "# convert string to bytes\n",
    "encoded=str.encode(encoding=\"UTF-8\") # UTF-8 is default (using one to four one-byte (8-bit) code units)\n",
    "\n",
    "encoded"
   ]
  },
  {
   "cell_type": "code",
   "execution_count": 4,
   "metadata": {},
   "outputs": [
    {
     "data": {
      "text/plain": [
       "\"I'm a string and I must be encoded before hashing.\""
      ]
     },
     "execution_count": 4,
     "metadata": {},
     "output_type": "execute_result"
    }
   ],
   "source": [
    "encoded.decode(encoding = \"UTF-8\")"
   ]
  },
  {
   "cell_type": "code",
   "execution_count": 5,
   "metadata": {},
   "outputs": [
    {
     "name": "stdout",
     "output_type": "stream",
     "text": [
      "b\"\\xff\\xfeI\\x00'\\x00m\\x00 \\x00a\\x00 \\x00s\\x00t\\x00r\\x00i\\x00n\\x00g\\x00 \\x00a\\x00n\\x00d\\x00 \\x00I\\x00 \\x00m\\x00u\\x00s\\x00t\\x00 \\x00b\\x00e\\x00 \\x00e\\x00n\\x00c\\x00o\\x00d\\x00e\\x00d\\x00 \\x00b\\x00e\\x00f\\x00o\\x00r\\x00e\\x00 \\x00h\\x00a\\x00s\\x00h\\x00i\\x00n\\x00g\\x00.\\x00\"\n"
     ]
    }
   ],
   "source": [
    "foo = str.encode(encoding = \"UTF-16\") # Encoded UTF-16\n",
    "print(foo)"
   ]
  },
  {
   "cell_type": "code",
   "execution_count": 6,
   "metadata": {},
   "outputs": [
    {
     "data": {
      "text/plain": [
       "\"I'm a string and I must be encoded before hashing.\""
      ]
     },
     "execution_count": 6,
     "metadata": {},
     "output_type": "execute_result"
    }
   ],
   "source": [
    "foo.decode(encoding = \"UTF-16\") # Decoded"
   ]
  },
  {
   "cell_type": "markdown",
   "metadata": {},
   "source": [
    "As shown, encoding and decoding is easily done with Python. UTF-16 is not automatically decoded, while UTF-8 is, as the default encoding for Python is UTF-8. (Probably ?)\n",
    "\n",
    "---\n",
    "## Simple hashing with SHA-256"
   ]
  },
  {
   "cell_type": "code",
   "execution_count": 7,
   "metadata": {},
   "outputs": [
    {
     "data": {
      "text/plain": [
       "'2f8ce08c2cc72327b030624aad0acf3c2dfcc0d4ad816018c6f5c1bdf64b97b5'"
      ]
     },
     "execution_count": 7,
     "metadata": {},
     "output_type": "execute_result"
    }
   ],
   "source": [
    "import hashlib\n",
    "\n",
    "# Using SHA-256\n",
    "hashed = hashlib.sha256(foo)\n",
    "\n",
    "hashed.hexdigest() # Hash value as hex string (binary value of the string in hexadecimal notation)"
   ]
  },
  {
   "cell_type": "code",
   "execution_count": 8,
   "metadata": {},
   "outputs": [
    {
     "name": "stdout",
     "output_type": "stream",
     "text": [
      "hashed.digest_size=32\n",
      "hashed.block_size=64\n"
     ]
    }
   ],
   "source": [
    "print(f\"{hashed.digest_size=}\\n{hashed.block_size=}\") # Show digest and block size"
   ]
  },
  {
   "cell_type": "code",
   "execution_count": 9,
   "metadata": {},
   "outputs": [
    {
     "name": "stdout",
     "output_type": "stream",
     "text": [
      "b\"/\\x8c\\xe0\\x8c,\\xc7#'\\xb00bJ\\xad\\n\\xcf<-\\xfc\\xc0\\xd4\\xad\\x81`\\x18\\xc6\\xf5\\xc1\\xbd\\xf6K\\x97\\xb5\"\n"
     ]
    }
   ],
   "source": [
    "print(hashed.digest()) # Hash value as bytes object (Output)"
   ]
  },
  {
   "cell_type": "markdown",
   "metadata": {},
   "source": [
    "This \"\"cannot\"\" be decrypted. However, we can check if input is matching. For example:"
   ]
  },
  {
   "cell_type": "code",
   "execution_count": 10,
   "metadata": {},
   "outputs": [
    {
     "name": "stdout",
     "output_type": "stream",
     "text": [
      "b\"^\\x88H\\x98\\xda(\\x04qQ\\xd0\\xe5o\\x8d\\xc6)'s`=\\rj\\xab\\xbd\\xd6*\\x11\\xefr\\x1d\\x15B\\xd8\"\n"
     ]
    }
   ],
   "source": [
    "my_password = \"password\".encode()\n",
    "\n",
    "hashed_password = hashlib.sha256(my_password)\n",
    "\n",
    "print(hashed_password.digest())"
   ]
  },
  {
   "cell_type": "code",
   "execution_count": 11,
   "metadata": {},
   "outputs": [
    {
     "name": "stdout",
     "output_type": "stream",
     "text": [
      "False\n",
      "True\n"
     ]
    }
   ],
   "source": [
    "user_input1 = \"wordpass\".encode()\n",
    "user_input2 = \"password\".encode()\n",
    "\n",
    "login1 = hashlib.sha256(user_input1)\n",
    "login2 = hashlib.sha256(user_input2)\n",
    "\n",
    "print(hashed_password.digest() == login1.digest())\n",
    "print(hashed_password.digest() == login2.digest())"
   ]
  },
  {
   "cell_type": "markdown",
   "metadata": {},
   "source": [
    "---\n",
    "\n",
    "## Login/authentication model with hashlib\n",
    "\n",
    "It's a mess, but it works??\n",
    "\n",
    "Just add some error handling and store user keys in better format?"
   ]
  },
  {
   "cell_type": "code",
   "execution_count": 12,
   "metadata": {},
   "outputs": [
    {
     "name": "stdout",
     "output_type": "stream",
     "text": [
      "new_user_instance.get_pw()='user2_password'\n",
      "new_user_instance.get_uid()='user2'\n",
      "hash_pw running\n",
      "pw hash value as <class 'bytes'>: b'\\xca\\x8e\\xdf\\xfe\"\\xc5,/\\xe4\\xeb\\xfc\\x08\">\\xbe\\x03\\xa2\\x7f_o\\xf2\\n\\xbdo\\xac\\x11\\x06\\xd2BC\\x0e\\xce'\n",
      "As hex: ca8edffe22c52c2fe4ebfc08223ebe03a27f5f6ff20abd6fac1106d242430ece\n"
     ]
    },
    {
     "data": {
      "text/plain": [
       "{'user0': 'f4c628bd9e27adddfda2f883edd88f7d8aa74e713d7e7e6fdbbd581a12b084a5',\n",
       " 'user1': '89501b04efa10ea485d2c338c6685155f7a0cc4e437d9eb604ccc81b8bf1b178',\n",
       " 'user2': 'ca8edffe22c52c2fe4ebfc08223ebe03a27f5f6ff20abd6fac1106d242430ece'}"
      ]
     },
     "execution_count": 12,
     "metadata": {},
     "output_type": "execute_result"
    }
   ],
   "source": [
    "from __future__ import annotations\n",
    "\n",
    "# Probably shouldn't save user credentials in running Python dictionary, but uhhh, yea.\n",
    "\n",
    "# Store key pair for user id and hashed password, hex value\n",
    "super_safe_dictionary = {\n",
    "    \n",
    "    \"user0\": 'f4c628bd9e27adddfda2f883edd88f7d8aa74e713d7e7e6fdbbd581a12b084a5',\n",
    "    \"user1\": '89501b04efa10ea485d2c338c6685155f7a0cc4e437d9eb604ccc81b8bf1b178'    \n",
    "    \n",
    "    }\n",
    "\n",
    "\n",
    "def utf16(i):\n",
    "    \"\"\"\n",
    "    Function to make sure all strings have valid and compatible unicode.\n",
    "    Not sure if this is neccessary at all, or if it makes any different at the moment.\n",
    "    \"\"\"\n",
    "    always_string = i.__str__()\n",
    "    return always_string.encode(encoding = \"UTF-16\")\n",
    "\n",
    "\n",
    "class pin:\n",
    "    \"\"\"\n",
    "    Creates unique hashed passwords.\n",
    "    no idea if it's even remotely safe\n",
    "    \"\"\"\n",
    "    \n",
    "    def __init__(self, uid: str, pw: str) -> None:\n",
    "        self._uid = uid\n",
    "        self._pw = pw\n",
    "\n",
    "    def get_uid(self) -> str:\n",
    "        return self._uid\n",
    "\n",
    "    def set_uid(self, value) -> None:\n",
    "        self._uid = value\n",
    "\n",
    "    def get_pw(self) -> str:\n",
    "        \"If called before hash_pw(), return plaintext pw to check for requirements, etc.\"\n",
    "\n",
    "        return self._pw\n",
    "    \n",
    "    def hash_pw(self, value: str) -> None:\n",
    "        \"Creates hash from user id and password\"\n",
    "        # TODO: exception handling\n",
    "\n",
    "        print(\"hash_pw running\")\n",
    "\n",
    "        # Encode user id and password\n",
    "        id_encoded = utf16(self._uid)\n",
    "        value = utf16(value)\n",
    "\n",
    "        # Take last character from user id for flavor\n",
    "        soy_sauce = self._uid[-1]\n",
    "        soy_sauce = utf16(soy_sauce)\n",
    "\n",
    "        # Merge UTF-16 encoded values of password and user id to create unique hash value\n",
    "        super_safe_password = soy_sauce + id_encoded + value + soy_sauce\n",
    "        hash = hashlib.sha256(super_safe_password)\n",
    "        self._pw = hash.digest()\n",
    "\n",
    "\n",
    "# Testing new user creation\n",
    "\n",
    "# Enter user id and password testing\n",
    "user_input_id = \"user2\"\n",
    "user_input_pw = \"user2_password\"\n",
    "\n",
    "# If new user:\n",
    "new_user_instance = pin(user_input_id,user_input_pw)\n",
    "\n",
    "# Plaintext password, only here for testing\n",
    "print(f\"{new_user_instance.get_pw()=}\")\n",
    "\n",
    "# Print user id, just for testing\n",
    "print(f\"{new_user_instance.get_uid()=}\")\n",
    "\n",
    "# Hash user password\n",
    "new_user_instance.hash_pw(user_input_pw)\n",
    "\n",
    "# Print hash value, just for testing\n",
    "print(f\"pw hash value as {type(new_user_instance.get_pw())}: {new_user_instance.get_pw()}\")\n",
    "\n",
    "#Convert to hex values and save in dictionary - probably should convert it to hex in with class method instead\n",
    "a = new_user_instance.get_pw()\n",
    "a = a.hex()\n",
    "\n",
    "print(f\"As hex: {a}\")\n",
    "\n",
    "super_safe_dictionary[new_user_instance.get_uid()] = a\n",
    "\n",
    "super_safe_dictionary\n",
    "\n"
   ]
  },
  {
   "cell_type": "markdown",
   "metadata": {},
   "source": [
    "Nice. We can create key value pairs. Let's check if we can log in."
   ]
  },
  {
   "cell_type": "code",
   "execution_count": 37,
   "metadata": {},
   "outputs": [
    {
     "name": "stdout",
     "output_type": "stream",
     "text": [
      "user2 found. Enter password:\n",
      "Entered password: user2_password\n",
      "hash_pw running\n",
      "Success\n"
     ]
    }
   ],
   "source": [
    "my_user_id = \"user2\"\n",
    "\n",
    "if my_user_id in super_safe_dictionary:\n",
    "    print(f\"{my_user_id} found. Enter password:\")\n",
    "    my_password = \"user2_password\"\n",
    "\n",
    "    print(f\"Entered password: {my_password}\")\n",
    "\n",
    "    login_session = pin(my_user_id, my_password)\n",
    "\n",
    "    login_session.hash_pw(my_password)\n",
    "    login_session.set_uid(my_user_id)\n",
    "\n",
    "    # and yeah we gotta do the hex conversion again\n",
    "    a = login_session.get_pw()\n",
    "    a = a.hex()\n",
    "    \n",
    "    if a == super_safe_dictionary.get(my_user_id):\n",
    "        print(\"Success\")\n",
    "    else:\n",
    "        print(\"Incorrect password\")\n",
    "\n",
    "else:\n",
    "    print(f\"{my_user_id} does not exist. Create user?\")"
   ]
  },
  {
   "cell_type": "markdown",
   "metadata": {},
   "source": [
    "Nice."
   ]
  }
 ],
 "metadata": {
  "kernelspec": {
   "display_name": "Python 3.9.13 ('Databehandling-William-Akilles-Lindstedt-bpWULdXK')",
   "language": "python",
   "name": "python3"
  },
  "language_info": {
   "codemirror_mode": {
    "name": "ipython",
    "version": 3
   },
   "file_extension": ".py",
   "mimetype": "text/x-python",
   "name": "python",
   "nbconvert_exporter": "python",
   "pygments_lexer": "ipython3",
   "version": "3.9.13"
  },
  "orig_nbformat": 4,
  "vscode": {
   "interpreter": {
    "hash": "08e7c39814852de79614705ad3fad31d43fa5fdc6f76ae0c28142b09245f6875"
   }
  }
 },
 "nbformat": 4,
 "nbformat_minor": 2
}
