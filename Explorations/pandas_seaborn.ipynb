{
 "cells": [
  {
   "cell_type": "code",
   "execution_count": 48,
   "metadata": {},
   "outputs": [
    {
     "data": {
      "text/plain": [
       "<AxesSubplot: >"
      ]
     },
     "execution_count": 48,
     "metadata": {},
     "output_type": "execute_result"
    },
    {
     "data": {
      "image/png": "[encoded data removed]",
      "text/plain": [
       "<Figure size 640x480 with 1 Axes>"
      ]
     },
     "metadata": {},
     "output_type": "display_data"
    }
   ],
   "source": [
    "import pandas as pd\n",
    "import time\n",
    "import numpy as np\n",
    "import seaborn as sns\n",
    "\n",
    "def past_year_ls(start_year:int):\n",
    "    year_li = []\n",
    "\n",
    "    for i in range(1+time.gmtime()[0]-start_year):\n",
    "        year_li.append(start_year + i)\n",
    "    \n",
    "    return year_li\n",
    "\n",
    "def random_noise_array(steps:int):\n",
    "    return np.random.normal(0.0,1,steps)\n",
    "\n",
    "a = random_noise_array(len(past_year_ls(1999)))\n",
    "b = past_year_ls(1999)\n",
    "\n",
    "my_series = pd.Series(a,b)\n",
    "\n",
    "sns.lineplot(my_series)\n"
   ]
  },
  {
   "cell_type": "code",
   "execution_count": 2,
   "metadata": {},
   "outputs": [
    {
     "data": {
      "text/html": [
       "<div>\n",
       "<style scoped>\n",
       "    .dataframe tbody tr th:only-of-type {\n",
       "        vertical-align: middle;\n",
       "    }\n",
       "\n",
       "    .dataframe tbody tr th {\n",
       "        vertical-align: top;\n",
       "    }\n",
       "\n",
       "    .dataframe thead th {\n",
       "        text-align: right;\n",
       "    }\n",
       "</style>\n",
       "<table border=\"1\" class=\"dataframe\">\n",
       "  <thead>\n",
       "    <tr style=\"text-align: right;\">\n",
       "      <th></th>\n",
       "      <th>OCARINA</th>\n",
       "      <th>OCARINA.1</th>\n",
       "      <th>OCARINA.2</th>\n",
       "      <th>OCARINA.4</th>\n",
       "    </tr>\n",
       "  </thead>\n",
       "  <tbody>\n",
       "    <tr>\n",
       "      <th>0</th>\n",
       "      <td>No.</td>\n",
       "      <td>Filename</td>\n",
       "      <td>Identification</td>\n",
       "      <td>Notes</td>\n",
       "    </tr>\n",
       "    <tr>\n",
       "      <th>1</th>\n",
       "      <td>00</td>\n",
       "      <td>NA_SE_OC_OCARINA</td>\n",
       "      <td>Harp or Ocarina Note</td>\n",
       "      <td>NaN</td>\n",
       "    </tr>\n",
       "    <tr>\n",
       "      <th>2</th>\n",
       "      <td>01</td>\n",
       "      <td>NA_SE_OC_ABYSS</td>\n",
       "      <td>Fall into Abyss</td>\n",
       "      <td>NaN</td>\n",
       "    </tr>\n",
       "    <tr>\n",
       "      <th>3</th>\n",
       "      <td>02</td>\n",
       "      <td>NA_SE_OC_DOOR_OPEN</td>\n",
       "      <td>Open Door</td>\n",
       "      <td>NaN</td>\n",
       "    </tr>\n",
       "    <tr>\n",
       "      <th>4</th>\n",
       "      <td>03</td>\n",
       "      <td>NA_SE_OC_SECRET_WARP_IN</td>\n",
       "      <td>Exit Lost Woods/Goron City Shortcut</td>\n",
       "      <td>Also entering grotto</td>\n",
       "    </tr>\n",
       "  </tbody>\n",
       "</table>\n",
       "</div>"
      ],
      "text/plain": [
       "  OCARINA                OCARINA.1                            OCARINA.2  \\\n",
       "0     No.                 Filename                       Identification   \n",
       "1      00         NA_SE_OC_OCARINA                 Harp or Ocarina Note   \n",
       "2      01           NA_SE_OC_ABYSS                      Fall into Abyss   \n",
       "3      02       NA_SE_OC_DOOR_OPEN                            Open Door   \n",
       "4      03  NA_SE_OC_SECRET_WARP_IN  Exit Lost Woods/Goron City Shortcut   \n",
       "\n",
       "              OCARINA.4  \n",
       "0                 Notes  \n",
       "1                   NaN  \n",
       "2                   NaN  \n",
       "3                   NaN  \n",
       "4  Also entering grotto  "
      ]
     },
     "execution_count": 2,
     "metadata": {},
     "output_type": "execute_result"
    }
   ],
   "source": [
    "import pandas as pd\n",
    "\n",
    "df = pd.read_html(\"https://wiki.cloudmodding.com/oot/Sound_Effect_Ids\")\n",
    "df[-2].pop(\"OCARINA.3\")\n",
    "\n",
    "\n",
    "df[-2].head()"
   ]
  },
  {
   "cell_type": "code",
   "execution_count": 3,
   "metadata": {},
   "outputs": [
    {
     "name": "stdout",
     "output_type": "stream",
     "text": [
      "120    2.707134\n",
      "121    2.707224\n",
      "122    2.707314\n",
      "123    2.707401\n",
      "124    2.707488\n",
      "dtype: float64 \n",
      "\n",
      "2.718281828459045 \n",
      "\n",
      "2.669548113202963\n",
      "2.697017381776468\n"
     ]
    }
   ],
   "source": [
    "from math import pi, e, floor, cos, factorial, sqrt\n",
    "import seaborn as sns\n",
    "\n",
    "def my_func(n):\n",
    "    return (1/n + 1) ** n\n",
    "\n",
    "my_series = pd.Series([my_func(i+1) for i in range(125)])\n",
    "\n",
    "print(my_series.tail(), \"\\n\")\n",
    "print(e, \"\\n\")\n",
    "print(my_series.mean())\n",
    "print(my_series.median())"
   ]
  },
  {
   "cell_type": "code",
   "execution_count": 4,
   "metadata": {},
   "outputs": [
    {
     "data": {
      "text/plain": [
       "<AxesSubplot: >"
      ]
     },
     "execution_count": 4,
     "metadata": {},
     "output_type": "execute_result"
    },
    {
     "data": {
      "image/png": "[encoded data removed]",
      "text/plain": [
       "<Figure size 640x480 with 1 Axes>"
      ]
     },
     "metadata": {},
     "output_type": "display_data"
    }
   ],
   "source": [
    "sns.lineplot(my_series)"
   ]
  },
  {
   "cell_type": "code",
   "execution_count": 26,
   "metadata": {},
   "outputs": [
    {
     "name": "stdout",
     "output_type": "stream",
     "text": [
      "0      2\n",
      "1      3\n",
      "2      5\n",
      "3      7\n",
      "4     11\n",
      "5     13\n",
      "6    129\n",
      "dtype: int64\n"
     ]
    }
   ],
   "source": [
    "def prime(n):\n",
    "    return 1 + sum([\n",
    "        floor(pow(n/sum([\n",
    "            floor(pow(cos(pi * (factorial(j - 1) + 1)/j), 2))\n",
    "            for j in range(1, i+1)\n",
    "        ]), 1/n))\n",
    "        for i in range(1, pow(2, n)+1)\n",
    "    ])\n",
    "\n",
    "my_series_2 = pd.Series(prime(n+1) for n in range (7))\n",
    "\n",
    "print(my_series_2.head(20))\n",
    "\n",
    "#whAT, why is this happening"
   ]
  },
  {
   "cell_type": "markdown",
   "metadata": {},
   "source": [
    "---\n",
    "## CSV to Excel (Calendar Collect)\n",
    "\n",
    "Create a function that extracts data from calendar csv:s and appends to Excel spreadsheet\n",
    "\n",
    "---"
   ]
  },
  {
   "cell_type": "code",
   "execution_count": 6,
   "metadata": {},
   "outputs": [
    {
     "data": {
      "text/plain": [
       "<Calendar with 23 events and 0 todo>"
      ]
     },
     "execution_count": 6,
     "metadata": {},
     "output_type": "execute_result"
    }
   ],
   "source": [
    "from urllib import request\n",
    "from ics import Calendar, Event\n",
    "import requests\n",
    "import pandas as pd\n",
    "\n",
    "path = \"../../Databehandling-William-Akilles-Lindstedt/Data/AI22_calendar.ics\"\n",
    "\n",
    "web = \"https://outlook.office365.com/owa/calendar/fef4191f1b6d4c6393bb4a51b141dbd4%40iths.se/f004c27ed2df46acbfa01cc1f8839d8313625409904526809390/calendar.ics\"\n",
    "\n",
    "my_cal = Calendar(requests.get(web).text)\n",
    "\n",
    "my_cal"
   ]
  },
  {
   "cell_type": "code",
   "execution_count": 9,
   "metadata": {},
   "outputs": [
    {
     "data": {
      "text/plain": [
       "<Calendar with 585 events and 0 todo>"
      ]
     },
     "execution_count": 9,
     "metadata": {},
     "output_type": "execute_result"
    }
   ],
   "source": [
    "web2 = \"https://www.google.com/calendar/ical/j7gov1cmnqr9tvg14k621j7t5c@group.calendar.google.com/public/basic.ics\"\n",
    "\n",
    "py_cal = Calendar(requests.get(web2).text)\n",
    "\n",
    "py_cal"
   ]
  },
  {
   "cell_type": "markdown",
   "metadata": {},
   "source": [
    "## Web automation with scraping\n",
    "\n",
    "navigate & monitor todo:\n",
    "\n",
    "- Monitor changes in web data (html, tables, images)\n",
    "- Click buttons, generate text strings, fill out forms\n",
    "- Bypass captcha, login\n",
    "\n",
    "imaging todo:\n",
    "\n",
    "- Render webpages, save captured images locally\n",
    "- Analyze specific parts for visual change\n",
    "\n",
    "net security todo:\n",
    "\n",
    "- Estimate safe request frequency (As high as possible without interrupting traffic.)\n",
    "- Rotate a hash function for proxies and outgoing connections \n",
    "\n",
    "exporting todo:\n",
    "\n",
    "- Format data for plotting\n",
    "- Export to spreadsheet"
   ]
  },
  {
   "cell_type": "code",
   "execution_count": null,
   "metadata": {},
   "outputs": [],
   "source": [
    "def save_table(url: str) -> None:\n",
    "    # Stores a local copy of tables\n",
    "    pass"
   ]
  },
  {
   "cell_type": "code",
   "execution_count": 11,
   "metadata": {},
   "outputs": [
    {
     "data": {
      "text/plain": [
       "{'coord': {'lon': 125.7543, 'lat': 39.0339},\n",
       " 'weather': [{'id': 800,\n",
       "   'main': 'Clear',\n",
       "   'description': 'clear sky',\n",
       "   'icon': '01n'}],\n",
       " 'base': 'stations',\n",
       " 'main': {'temp': 4.93,\n",
       "  'feels_like': 4.93,\n",
       "  'temp_min': 4.93,\n",
       "  'temp_max': 4.93,\n",
       "  'pressure': 1023,\n",
       "  'humidity': 52,\n",
       "  'sea_level': 1023,\n",
       "  'grnd_level': 1018},\n",
       " 'visibility': 10000,\n",
       " 'wind': {'speed': 0.8, 'deg': 24, 'gust': 0.99},\n",
       " 'clouds': {'all': 0},\n",
       " 'dt': 1667338422,\n",
       " 'sys': {'country': 'KP', 'sunrise': 1667340289, 'sunset': 1667378171},\n",
       " 'timezone': 32400,\n",
       " 'id': 1871859,\n",
       " 'name': 'Pyongyang',\n",
       " 'cod': 200}"
      ]
     },
     "execution_count": 11,
     "metadata": {},
     "output_type": "execute_result"
    }
   ],
   "source": [
    "# Testing API key with data from openweathermap\n",
    "import requests\n",
    "\n",
    "BASE_URL = \"https://api.openweathermap.org/data/2.5/weather\"\n",
    "API = BASE_URL + \"?q={city_name}&appid={api_key}&units=metric\"\n",
    "\n",
    "# city_name is deprecated but works mostly\n",
    "\n",
    "def find_weather_for(city: str) -> dict:\n",
    "    \"\"\"Queries the weather API and returns the weather data for a particular city.\"\"\"\n",
    "    url = API.format(city_name=city, api_key=\"REDACTED\")\n",
    "    resp = requests.get(url)\n",
    "    return resp.json()\n",
    "\n",
    "find_weather_for(\"Pyongyang\")"
   ]
  },
  {
   "cell_type": "code",
   "execution_count": null,
   "metadata": {},
   "outputs": [],
   "source": [
    "# keys : sequence, default None. Construct hierarchical index using the passed keys\n",
    "# as the outermost level. If multiple levels passed, should contain tuples."
   ]
  },
  {
   "cell_type": "code",
   "execution_count": null,
   "metadata": {},
   "outputs": [],
   "source": []
  }
 ],
 "metadata": {
  "kernelspec": {
   "display_name": "Python 3.9.13 ('Databehandling-William-Akilles-Lindstedt-bpWULdXK')",
   "language": "python",
   "name": "python3"
  },
  "language_info": {
   "codemirror_mode": {
    "name": "ipython",
    "version": 3
   },
   "file_extension": ".py",
   "mimetype": "text/x-python",
   "name": "python",
   "nbconvert_exporter": "python",
   "pygments_lexer": "ipython3",
   "version": "3.9.13"
  },
  "orig_nbformat": 4,
  "vscode": {
   "interpreter": {
    "hash": "08e7c39814852de79614705ad3fad31d43fa5fdc6f76ae0c28142b09245f6875"
   }
  }
 },
 "nbformat": 4,
 "nbformat_minor": 2
}
