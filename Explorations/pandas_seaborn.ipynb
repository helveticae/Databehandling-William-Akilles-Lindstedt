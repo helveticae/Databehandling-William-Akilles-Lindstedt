{
 "cells": [
  {
   "cell_type": "code",
   "execution_count": 185,
   "metadata": {},
   "outputs": [
    {
     "data": {
      "text/html": [
       "<div>\n",
       "<style scoped>\n",
       "    .dataframe tbody tr th:only-of-type {\n",
       "        vertical-align: middle;\n",
       "    }\n",
       "\n",
       "    .dataframe tbody tr th {\n",
       "        vertical-align: top;\n",
       "    }\n",
       "\n",
       "    .dataframe thead th {\n",
       "        text-align: right;\n",
       "    }\n",
       "</style>\n",
       "<table border=\"1\" class=\"dataframe\">\n",
       "  <thead>\n",
       "    <tr style=\"text-align: right;\">\n",
       "      <th></th>\n",
       "      <th>OCARINA</th>\n",
       "      <th>OCARINA.1</th>\n",
       "      <th>OCARINA.2</th>\n",
       "      <th>OCARINA.4</th>\n",
       "    </tr>\n",
       "  </thead>\n",
       "  <tbody>\n",
       "    <tr>\n",
       "      <th>0</th>\n",
       "      <td>No.</td>\n",
       "      <td>Filename</td>\n",
       "      <td>Identification</td>\n",
       "      <td>Notes</td>\n",
       "    </tr>\n",
       "    <tr>\n",
       "      <th>1</th>\n",
       "      <td>00</td>\n",
       "      <td>NA_SE_OC_OCARINA</td>\n",
       "      <td>Harp or Ocarina Note</td>\n",
       "      <td>NaN</td>\n",
       "    </tr>\n",
       "    <tr>\n",
       "      <th>2</th>\n",
       "      <td>01</td>\n",
       "      <td>NA_SE_OC_ABYSS</td>\n",
       "      <td>Fall into Abyss</td>\n",
       "      <td>NaN</td>\n",
       "    </tr>\n",
       "    <tr>\n",
       "      <th>3</th>\n",
       "      <td>02</td>\n",
       "      <td>NA_SE_OC_DOOR_OPEN</td>\n",
       "      <td>Open Door</td>\n",
       "      <td>NaN</td>\n",
       "    </tr>\n",
       "    <tr>\n",
       "      <th>4</th>\n",
       "      <td>03</td>\n",
       "      <td>NA_SE_OC_SECRET_WARP_IN</td>\n",
       "      <td>Exit Lost Woods/Goron City Shortcut</td>\n",
       "      <td>Also entering grotto</td>\n",
       "    </tr>\n",
       "  </tbody>\n",
       "</table>\n",
       "</div>"
      ],
      "text/plain": [
       "  OCARINA                OCARINA.1                            OCARINA.2  \\\n",
       "0     No.                 Filename                       Identification   \n",
       "1      00         NA_SE_OC_OCARINA                 Harp or Ocarina Note   \n",
       "2      01           NA_SE_OC_ABYSS                      Fall into Abyss   \n",
       "3      02       NA_SE_OC_DOOR_OPEN                            Open Door   \n",
       "4      03  NA_SE_OC_SECRET_WARP_IN  Exit Lost Woods/Goron City Shortcut   \n",
       "\n",
       "              OCARINA.4  \n",
       "0                 Notes  \n",
       "1                   NaN  \n",
       "2                   NaN  \n",
       "3                   NaN  \n",
       "4  Also entering grotto  "
      ]
     },
     "execution_count": 185,
     "metadata": {},
     "output_type": "execute_result"
    }
   ],
   "source": [
    "import pandas as pd\n",
    "\n",
    "df = pd.read_html(\"https://wiki.cloudmodding.com/oot/Sound_Effect_Ids\")\n",
    "df[-2].pop(\"OCARINA.3\")\n",
    "\n",
    "\n",
    "df[-2].head()"
   ]
  },
  {
   "cell_type": "code",
   "execution_count": 186,
   "metadata": {},
   "outputs": [
    {
     "name": "stdout",
     "output_type": "stream",
     "text": [
      "120    2.707134\n",
      "121    2.707224\n",
      "122    2.707314\n",
      "123    2.707401\n",
      "124    2.707488\n",
      "dtype: float64 \n",
      "\n",
      "2.718281828459045 \n",
      "\n",
      "2.669548113202963\n",
      "2.697017381776468\n"
     ]
    }
   ],
   "source": [
    "from math import pi, e\n",
    "import seaborn as sns\n",
    "\n",
    "def my_func(n):\n",
    "    return (1/n + 1) ** n\n",
    "\n",
    "my_series = pd.Series([my_func(i+1) for i in range(125)])\n",
    "\n",
    "print(my_series.tail(), \"\\n\")\n",
    "print(e, \"\\n\")\n",
    "print(my_series.mean())\n",
    "print(my_series.median())"
   ]
  },
  {
   "cell_type": "code",
   "execution_count": 187,
   "metadata": {},
   "outputs": [
    {
     "data": {
      "text/plain": [
       "<AxesSubplot: >"
      ]
     },
     "execution_count": 187,
     "metadata": {},
     "output_type": "execute_result"
    },
    {
     "data": {
      "image/png": "[encoded data removed]",
      "text/plain": [
       "<Figure size 640x480 with 1 Axes>"
      ]
     },
     "metadata": {},
     "output_type": "display_data"
    }
   ],
   "source": [
    "sns.lineplot(my_series)\n"
   ]
  },
  {
   "cell_type": "markdown",
   "metadata": {},
   "source": [
    "---\n",
    "## CSV to Excel (Calendar Collect)\n",
    "\n",
    "Create a function that extracts data from calendar csv:s and appends to Excel spreadsheet\n",
    "\n",
    "---"
   ]
  }
 ],
 "metadata": {
  "kernelspec": {
   "display_name": "Python 3.9.13 ('Databehandling-William-Akilles-Lindstedt-bpWULdXK')",
   "language": "python",
   "name": "python3"
  },
  "language_info": {
   "codemirror_mode": {
    "name": "ipython",
    "version": 3
   },
   "file_extension": ".py",
   "mimetype": "text/x-python",
   "name": "python",
   "nbconvert_exporter": "python",
   "pygments_lexer": "ipython3",
   "version": "3.9.13"
  },
  "orig_nbformat": 4,
  "vscode": {
   "interpreter": {
    "hash": "08e7c39814852de79614705ad3fad31d43fa5fdc6f76ae0c28142b09245f6875"
   }
  }
 },
 "nbformat": 4,
 "nbformat_minor": 2
}
