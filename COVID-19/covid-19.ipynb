{
 "cells": [
  {
   "cell_type": "markdown",
   "metadata": {},
   "source": []
  },
  {
   "cell_type": "markdown",
   "metadata": {},
   "source": [
    "Alla grafer ska exporteras till en undermapp som heter Visualiseringar i din mapp för labben. Exportera matplotlib/seaborngrafer i png-format och plotly-grafer som html-filer. Ge relevanta namn till dina filer så det blir lätt att referera till dem. Notera att du behöver ställa in bakgrundsfärg när du sparar matplotlibgrafer, annars blir de transparenta och svåra att läsa."
   ]
  },
  {
   "cell_type": "markdown",
   "metadata": {},
   "source": [
    "## Laboration - Covid-19\n",
    "### Uppgift 1 - uppvärmning covid-19 data\n",
    "\n",
    "Covid-19 pandemin har påverkat hela världen med många dödsfall som följd. Ett kraftfullt verktyg för att förstå hur viruset påverkar världen är att analysera och visualisera data för att förstå trender.\n",
    "\n",
    "Datasets:\n",
    "\n",
    "[Covid-19 bekräftade fall](https://www.folkhalsomyndigheten.se/smittskydd-beredskap/utbrott/aktuella-utbrott/covid-19/statistik-och-analyser/bekraftade-fall-i-sverige/)\n",
    "\n",
    "[Statistik för vaccination mot covid-19](https://www.folkhalsomyndigheten.se/smittskydd-beredskap/utbrott/aktuella-utbrott/covid-19/statistik-och-analyser/statistik-over-registrerade-vaccinationer-covid-19/)\n",
    "\n",
    "\n",
    "Börja med att manuellt läsa Excel-filerna och de olika bladen i varje dokument. Använd därefter Pandas för att läsa in bladet: \"Veckodata Riket\" i covid19-filen.\n",
    "\n",
    "- a) Gör initial dataanalys för att snabbt få en överblick över datasetet. Använd metoder som ex. info(), describe(), value_counts(), head(), columns, index för att snabbt få en överblick.\n",
    "- b) Slå ihop kolumnerna \"år\" och \"veckonummer\" till en kolumn med namn \"Vecka\" med följande format:\n",
    "```\n",
    "Vecka\n",
    "2020v6\n",
    "2020v7\n",
    "...\n",
    "2022v41\n",
    "```\n",
    "\n",
    "För deluppgifterna c-f, använd både Seaborn och Plotly express. För Seaborn, använd subplots så du får 2x2 grid med graferna.\n",
    "- c) Rita en linjediagram som visar avlidna fall per vecka från 2020v6 till nu.\n",
    "- d) Rita en linjediagram som visar nya fall per vecka från 2020v6 till nu.\n",
    "- e) Rita linjediagram av både avlidna fall per vecka och nya fall per vecka i samma fönster från 2020v6 till nu.\n",
    "- f) Rita linjediagram av kumulativt antal fall från 2020v6 till nu."
   ]
  },
  {
   "cell_type": "markdown",
   "metadata": {},
   "source": [
    "### Uppgift 2 - uppvärmning vaccindata\n",
    "I uppgifterna nedan ska du använda dig av datasetet vaccin och bladet Vaccinerade kommun och ålder. Använd Plotly express för att rita diagrammen nedan för de uppgifter som kräver diagram. Använd Pandas för att svara på frågor om datasetet.\n",
    "\n",
    "- a) Hur många län finns representerade i datasetet?\n",
    "- b) Hur många kommuner finns representerade i datasetet?\n",
    "- c) Hur stor är befolkningen som är representerad i datasetet?\n",
    "- d) Beräkna hur många barn under 18 år det finns i Sverige baserat på det här datasetet. Du får leta upp statistik på hur stor totala befolkningen är i Sverige.\n",
    "- e) Rita ett diagram som visar på åldersfördelningen av Sveriges befolkning.\n",
    "- f) Rita stapeldiagram för andel med minst 1 dos per län, andel två doser per län och andel tre doser per län\n",
    "- g) Tag Västra Götalands län och Stockholms län och rita diagram över andelen vaccinerade med minst 1 dos, två doser, tre doser och fyra doser."
   ]
  },
  {
   "cell_type": "markdown",
   "metadata": {},
   "source": [
    "\n",
    "### Uppgift 3 - KPIer & explorativ dataanalys\n",
    "Definiera 3-6 KPIer utöver de som använts i ovanstående uppgifter och gör explorativ dataanalys på flera sheets på båda Excel-filerna. Se till att dokumentera vad du undersöker med markdown kombinerad med kod i Jupyter notebook eller om du använder Pythonskript, skriv en markdown vid sidan om. Dokumentera också vad du kommer fram till och spara alla visualiseringar.\n",
    "\n",
    "### Uppgift 4 (bonusuppgift)\n",
    "Följ länkarna från FHM för att komma till ECDC, WHO och undersök Covid-19 globalt. Dokumentera vad du undersöker och vad du kommer fram till. Notera att du får navigera och läsa till dig i deras hemsidor för att hitta relevant data."
   ]
  },
  {
   "cell_type": "code",
   "execution_count": null,
   "metadata": {},
   "outputs": [],
   "source": []
  }
 ],
 "metadata": {
  "kernelspec": {
   "display_name": "Python 3.9.13 ('Databehandling-William-Akilles-Lindstedt-bpWULdXK')",
   "language": "python",
   "name": "python3"
  },
  "language_info": {
   "codemirror_mode": {
    "name": "ipython",
    "version": 3
   },
   "file_extension": ".py",
   "mimetype": "text/x-python",
   "name": "python",
   "nbconvert_exporter": "python",
   "pygments_lexer": "ipython3",
   "version": "3.9.13"
  },
  "orig_nbformat": 4,
  "vscode": {
   "interpreter": {
    "hash": "08e7c39814852de79614705ad3fad31d43fa5fdc6f76ae0c28142b09245f6875"
   }
  }
 },
 "nbformat": 4,
 "nbformat_minor": 2
}
