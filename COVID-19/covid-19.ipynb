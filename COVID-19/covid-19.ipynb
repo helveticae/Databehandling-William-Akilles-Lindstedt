{
 "cells": [
  {
   "cell_type": "code",
   "execution_count": 104,
   "metadata": {},
   "outputs": [],
   "source": [
    "# Because it\"s 5 am\n",
    "import plotly.io as pio\n",
    "pio.templates.default = \"plotly_dark\""
   ]
  },
  {
   "cell_type": "markdown",
   "metadata": {},
   "source": [
    "## <b>Laboration - Covid-19</b>\n",
    "---\n",
    "### <b>Uppgift 1 - uppvärmning covid-19 data</b>\n",
    "\n",
    "\n",
    "Datasets: [Covid-19 bekräftade fall](https://www.folkhalsomyndigheten.se/smittskydd-beredskap/utbrott/aktuella-utbrott/covid-19/statistik-och-analyser/bekraftade-fall-i-sverige/), \n",
    "[Statistik för vaccination mot covid-19](https://www.folkhalsomyndigheten.se/smittskydd-beredskap/utbrott/aktuella-utbrott/covid-19/statistik-och-analyser/statistik-over-registrerade-vaccinationer-covid-19/)\n",
    "\n",
    "Börja med att manuellt läsa Excel-filerna och de olika bladen i varje dokument. Använd därefter Pandas för att läsa in bladet: \"Veckodata Riket\" i covid19-filen.\n",
    "\n",
    "- a) Initial dataanalys. Använd metoder som ex. info(), describe(), value_counts(), head(), columns, index för att snabbt få en överblick.\n",
    "- b) Slå ihop kolumnerna \"år\" och \"veckonummer\" till en kolumn med namn \"Vecka\".\n",
    "\n",
    "För deluppgifterna c-f, använd både Seaborn och Plotly express. För Seaborn, använd subplots så du får 2x2 grid med graferna.\n",
    "- c) Rita en linjediagram som visar avlidna fall per vecka från 2020v6 till nu.\n",
    "- d) Rita en linjediagram som visar nya fall per vecka från 2020v6 till nu.\n",
    "- e) Rita linjediagram av både avlidna fall per vecka och nya fall per vecka i samma fönster från 2020v6 till nu.\n",
    "- f) Rita linjediagram av kumulativt antal fall från 2020v6 till nu.\n",
    "\n",
    "###### Alla grafer ska exporteras till en undermapp som heter Visualiseringar i din mapp för labben. Exportera matplotlib/seaborngrafer i png-format och plotly-grafer som html-filer. Ge relevanta namn till dina filer så det blir lätt att referera till dem. Notera att du behöver ställa in bakgrundsfärg när du sparar matplotlibgrafer, annars blir de transparenta och svåra att läsa.\n"
   ]
  },
  {
   "cell_type": "code",
   "execution_count": 105,
   "metadata": {},
   "outputs": [
    {
     "data": {
      "text/html": [
       "<div>\n",
       "<style scoped>\n",
       "    .dataframe tbody tr th:only-of-type {\n",
       "        vertical-align: middle;\n",
       "    }\n",
       "\n",
       "    .dataframe tbody tr th {\n",
       "        vertical-align: top;\n",
       "    }\n",
       "\n",
       "    .dataframe thead th {\n",
       "        text-align: right;\n",
       "    }\n",
       "</style>\n",
       "<table border=\"1\" class=\"dataframe\">\n",
       "  <thead>\n",
       "    <tr style=\"text-align: right;\">\n",
       "      <th></th>\n",
       "      <th>Vecka</th>\n",
       "      <th>Antal_fall_vecka</th>\n",
       "      <th>Antal_fall_100000inv_vecka</th>\n",
       "      <th>Antal_fall_100000inv_14dagar</th>\n",
       "      <th>Kum_antal_fall</th>\n",
       "      <th>Kum_fall_100000inv</th>\n",
       "      <th>Antal_nyaintensivvårdade_vecka</th>\n",
       "      <th>Kum_antal_intensivvårdade</th>\n",
       "      <th>Antal_avlidna_vecka</th>\n",
       "      <th>Antal_avlidna_milj_inv_vecka</th>\n",
       "      <th>Kum_antal_avlidna</th>\n",
       "      <th>Kum_antal_avlidna_milj_inv</th>\n",
       "    </tr>\n",
       "  </thead>\n",
       "  <tbody>\n",
       "    <tr>\n",
       "      <th>138</th>\n",
       "      <td>2022v39</td>\n",
       "      <td>13532</td>\n",
       "      <td>130</td>\n",
       "      <td>175</td>\n",
       "      <td>2599038</td>\n",
       "      <td>25041</td>\n",
       "      <td>17</td>\n",
       "      <td>9510</td>\n",
       "      <td>94</td>\n",
       "      <td>9.1</td>\n",
       "      <td>20405</td>\n",
       "      <td>1965.900024</td>\n",
       "    </tr>\n",
       "    <tr>\n",
       "      <th>139</th>\n",
       "      <td>2022v40</td>\n",
       "      <td>3999</td>\n",
       "      <td>39</td>\n",
       "      <td>169</td>\n",
       "      <td>2603037</td>\n",
       "      <td>25079</td>\n",
       "      <td>20</td>\n",
       "      <td>9530</td>\n",
       "      <td>98</td>\n",
       "      <td>9.4</td>\n",
       "      <td>20503</td>\n",
       "      <td>1975.400024</td>\n",
       "    </tr>\n",
       "    <tr>\n",
       "      <th>140</th>\n",
       "      <td>2022v41</td>\n",
       "      <td>3408</td>\n",
       "      <td>33</td>\n",
       "      <td>72</td>\n",
       "      <td>2606445</td>\n",
       "      <td>25112</td>\n",
       "      <td>15</td>\n",
       "      <td>9545</td>\n",
       "      <td>94</td>\n",
       "      <td>9.1</td>\n",
       "      <td>20597</td>\n",
       "      <td>1984.400024</td>\n",
       "    </tr>\n",
       "    <tr>\n",
       "      <th>141</th>\n",
       "      <td>2022v42</td>\n",
       "      <td>3278</td>\n",
       "      <td>32</td>\n",
       "      <td>65</td>\n",
       "      <td>2609723</td>\n",
       "      <td>25144</td>\n",
       "      <td>20</td>\n",
       "      <td>9565</td>\n",
       "      <td>70</td>\n",
       "      <td>6.7</td>\n",
       "      <td>20667</td>\n",
       "      <td>1991.199951</td>\n",
       "    </tr>\n",
       "    <tr>\n",
       "      <th>142</th>\n",
       "      <td>2022v43</td>\n",
       "      <td>3502</td>\n",
       "      <td>34</td>\n",
       "      <td>66</td>\n",
       "      <td>2613225</td>\n",
       "      <td>25177</td>\n",
       "      <td>14</td>\n",
       "      <td>9579</td>\n",
       "      <td>37</td>\n",
       "      <td>3.6</td>\n",
       "      <td>20704</td>\n",
       "      <td>1994.699951</td>\n",
       "    </tr>\n",
       "  </tbody>\n",
       "</table>\n",
       "</div>"
      ],
      "text/plain": [
       "       Vecka  Antal_fall_vecka  Antal_fall_100000inv_vecka  \\\n",
       "138  2022v39             13532                         130   \n",
       "139  2022v40              3999                          39   \n",
       "140  2022v41              3408                          33   \n",
       "141  2022v42              3278                          32   \n",
       "142  2022v43              3502                          34   \n",
       "\n",
       "     Antal_fall_100000inv_14dagar  Kum_antal_fall  Kum_fall_100000inv  \\\n",
       "138                           175         2599038               25041   \n",
       "139                           169         2603037               25079   \n",
       "140                            72         2606445               25112   \n",
       "141                            65         2609723               25144   \n",
       "142                            66         2613225               25177   \n",
       "\n",
       "     Antal_nyaintensivvårdade_vecka  Kum_antal_intensivvårdade  \\\n",
       "138                              17                       9510   \n",
       "139                              20                       9530   \n",
       "140                              15                       9545   \n",
       "141                              20                       9565   \n",
       "142                              14                       9579   \n",
       "\n",
       "     Antal_avlidna_vecka  Antal_avlidna_milj_inv_vecka  Kum_antal_avlidna  \\\n",
       "138                   94                           9.1              20405   \n",
       "139                   98                           9.4              20503   \n",
       "140                   94                           9.1              20597   \n",
       "141                   70                           6.7              20667   \n",
       "142                   37                           3.6              20704   \n",
       "\n",
       "     Kum_antal_avlidna_milj_inv  \n",
       "138                 1965.900024  \n",
       "139                 1975.400024  \n",
       "140                 1984.400024  \n",
       "141                 1991.199951  \n",
       "142                 1994.699951  "
      ]
     },
     "execution_count": 105,
     "metadata": {},
     "output_type": "execute_result"
    }
   ],
   "source": [
    "import pandas as pd # Create dataframe from xlsx\n",
    "veckodata = pd.read_excel(\"Data/covid19.xlsx\", sheet_name = \"Veckodata Riket\")\n",
    "\n",
    "df = veckodata.astype({\"år\":\"str\", \"veckonummer\":\"str\"})    # Type conversion\n",
    "df[\"Time\"] = df[\"år\"] + \"v\" + df[\"veckonummer\"]             # Merge values in new column titled \"Time\"\n",
    "veckodata[\"år\"] = df[\"Time\"].values                         # Replace column \"år\" with column \"Time\"\n",
    "veckodata.rename(columns = {\"år\":\"Vecka\"}, inplace=True)    # Renamecolumn to \"Vecka\" (Week)\n",
    "veckodata.drop([\"veckonummer\"], axis=1, inplace=True)       # Drop old columns\n",
    "\n",
    "veckodata.tail() # Check results"
   ]
  },
  {
   "cell_type": "code",
   "execution_count": 106,
   "metadata": {},
   "outputs": [],
   "source": [
    "# Much shorter way to do this by @Rufshod\n",
    "# df.insert(0, \"Vecka\", df[\"år\"].astype(str) + \"v\" + df[\"veckonummer\"].astype(str)) # and then drop"
   ]
  },
  {
   "cell_type": "markdown",
   "metadata": {},
   "source": [
    "---\n",
    "\n",
    "### Uppgift c)\n",
    "Rita en linjediagram som visar avlidna fall per vecka från 2020v6 till nu."
   ]
  },
  {
   "cell_type": "code",
   "execution_count": 107,
   "metadata": {},
   "outputs": [
    {
     "data": {
      "application/vnd.plotly.v1+json": {
       "config": {
        "plotlyServerURL": "https://plot.ly"
       },
       "data": [
        {
         "hovertemplate": "Vecka=%{x}<br>Antal_avlidna_vecka=%{y}<extra></extra>",
         "legendgroup": "",
         "line": {
          "color": "#636efa",
          "dash": "solid"
         },
         "marker": {
          "symbol": "circle"
         },
         "mode": "lines",
         "name": "",
         "orientation": "v",
         "showlegend": false,
         "type": "scatter",
         "x": [
          "2020v6",
          "2020v7",
          "2020v8",
          "2020v9",
          "2020v10",
          "2020v11",
          "2020v12",
          "2020v13",
          "2020v14",
          "2020v15",
          "2020v16",
          "2020v17",
          "2020v18",
          "2020v19",
          "2020v20",
          "2020v21",
          "2020v22",
          "2020v23",
          "2020v24",
          "2020v25",
          "2020v26",
          "2020v27",
          "2020v28",
          "2020v29",
          "2020v30",
          "2020v31",
          "2020v32",
          "2020v33",
          "2020v34",
          "2020v35",
          "2020v36",
          "2020v37",
          "2020v38",
          "2020v39",
          "2020v40",
          "2020v41",
          "2020v42",
          "2020v43",
          "2020v44",
          "2020v45",
          "2020v46",
          "2020v47",
          "2020v48",
          "2020v49",
          "2020v50",
          "2020v51",
          "2020v52",
          "2020v53",
          "2021v1",
          "2021v2",
          "2021v3",
          "2021v4",
          "2021v5",
          "2021v6",
          "2021v7",
          "2021v8",
          "2021v9",
          "2021v10",
          "2021v11",
          "2021v12",
          "2021v13",
          "2021v14",
          "2021v15",
          "2021v16",
          "2021v17",
          "2021v18",
          "2021v19",
          "2021v20",
          "2021v21",
          "2021v22",
          "2021v23",
          "2021v24",
          "2021v25",
          "2021v26",
          "2021v27",
          "2021v28",
          "2021v29",
          "2021v30",
          "2021v31",
          "2021v32",
          "2021v33",
          "2021v34",
          "2021v35",
          "2021v36",
          "2021v37",
          "2021v38",
          "2021v39",
          "2021v40",
          "2021v41",
          "2021v42",
          "2021v43",
          "2021v44",
          "2021v45",
          "2021v46",
          "2021v47",
          "2021v48",
          "2021v49",
          "2021v50",
          "2021v51",
          "2021v52",
          "2022v1",
          "2022v2",
          "2022v3",
          "2022v4",
          "2022v5",
          "2022v6",
          "2022v7",
          "2022v8",
          "2022v9",
          "2022v10",
          "2022v11",
          "2022v12",
          "2022v13",
          "2022v14",
          "2022v15",
          "2022v16",
          "2022v17",
          "2022v18",
          "2022v19",
          "2022v20",
          "2022v21",
          "2022v22",
          "2022v23",
          "2022v24",
          "2022v25",
          "2022v26",
          "2022v27",
          "2022v28",
          "2022v29",
          "2022v30",
          "2022v31",
          "2022v32",
          "2022v33",
          "2022v34",
          "2022v35",
          "2022v36",
          "2022v37",
          "2022v38",
          "2022v39",
          "2022v40",
          "2022v41",
          "2022v42",
          "2022v43"
         ],
         "xaxis": "x",
         "y": [
          0,
          0,
          0,
          0,
          0,
          5,
          44,
          190,
          451,
          664,
          657,
          546,
          543,
          509,
          380,
          360,
          272,
          246,
          234,
          200,
          138,
          98,
          84,
          57,
          30,
          18,
          18,
          16,
          19,
          10,
          12,
          13,
          12,
          11,
          17,
          22,
          16,
          43,
          82,
          157,
          235,
          332,
          417,
          476,
          500,
          645,
          643,
          663,
          644,
          598,
          513,
          389,
          269,
          205,
          172,
          146,
          129,
          141,
          127,
          126,
          142,
          133,
          141,
          131,
          115,
          107,
          111,
          70,
          47,
          39,
          22,
          17,
          9,
          8,
          3,
          2,
          3,
          4,
          7,
          7,
          11,
          20,
          25,
          49,
          51,
          43,
          39,
          49,
          32,
          23,
          30,
          33,
          31,
          30,
          15,
          29,
          38,
          49,
          44,
          70,
          130,
          172,
          243,
          301,
          359,
          329,
          361,
          319,
          273,
          204,
          195,
          157,
          122,
          120,
          71,
          70,
          51,
          52,
          42,
          41,
          26,
          23,
          28,
          22,
          36,
          42,
          59,
          62,
          114,
          95,
          110,
          120,
          134,
          85,
          96,
          85,
          100,
          89,
          94,
          98,
          94,
          70,
          37
         ],
         "yaxis": "y"
        }
       ],
       "layout": {
        "legend": {
         "tracegroupgap": 0
        },
        "margin": {
         "t": 60
        },
        "template": {
         "data": {
          "bar": [
           {
            "error_x": {
             "color": "#f2f5fa"
            },
            "error_y": {
             "color": "#f2f5fa"
            },
            "marker": {
             "line": {
              "color": "rgb(17,17,17)",
              "width": 0.5
             },
             "pattern": {
              "fillmode": "overlay",
              "size": 10,
              "solidity": 0.2
             }
            },
            "type": "bar"
           }
          ],
          "barpolar": [
           {
            "marker": {
             "line": {
              "color": "rgb(17,17,17)",
              "width": 0.5
             },
             "pattern": {
              "fillmode": "overlay",
              "size": 10,
              "solidity": 0.2
             }
            },
            "type": "barpolar"
           }
          ],
          "carpet": [
           {
            "aaxis": {
             "endlinecolor": "#A2B1C6",
             "gridcolor": "#506784",
             "linecolor": "#506784",
             "minorgridcolor": "#506784",
             "startlinecolor": "#A2B1C6"
            },
            "baxis": {
             "endlinecolor": "#A2B1C6",
             "gridcolor": "#506784",
             "linecolor": "#506784",
             "minorgridcolor": "#506784",
             "startlinecolor": "#A2B1C6"
            },
            "type": "carpet"
           }
          ],
          "choropleth": [
           {
            "colorbar": {
             "outlinewidth": 0,
             "ticks": ""
            },
            "type": "choropleth"
           }
          ],
          "contour": [
           {
            "colorbar": {
             "outlinewidth": 0,
             "ticks": ""
            },
            "colorscale": [
             [
              0,
              "#0d0887"
             ],
             [
              0.1111111111111111,
              "#46039f"
             ],
             [
              0.2222222222222222,
              "#7201a8"
             ],
             [
              0.3333333333333333,
              "#9c179e"
             ],
             [
              0.4444444444444444,
              "#bd3786"
             ],
             [
              0.5555555555555556,
              "#d8576b"
             ],
             [
              0.6666666666666666,
              "#ed7953"
             ],
             [
              0.7777777777777778,
              "#fb9f3a"
             ],
             [
              0.8888888888888888,
              "#fdca26"
             ],
             [
              1,
              "#f0f921"
             ]
            ],
            "type": "contour"
           }
          ],
          "contourcarpet": [
           {
            "colorbar": {
             "outlinewidth": 0,
             "ticks": ""
            },
            "type": "contourcarpet"
           }
          ],
          "heatmap": [
           {
            "colorbar": {
             "outlinewidth": 0,
             "ticks": ""
            },
            "colorscale": [
             [
              0,
              "#0d0887"
             ],
             [
              0.1111111111111111,
              "#46039f"
             ],
             [
              0.2222222222222222,
              "#7201a8"
             ],
             [
              0.3333333333333333,
              "#9c179e"
             ],
             [
              0.4444444444444444,
              "#bd3786"
             ],
             [
              0.5555555555555556,
              "#d8576b"
             ],
             [
              0.6666666666666666,
              "#ed7953"
             ],
             [
              0.7777777777777778,
              "#fb9f3a"
             ],
             [
              0.8888888888888888,
              "#fdca26"
             ],
             [
              1,
              "#f0f921"
             ]
            ],
            "type": "heatmap"
           }
          ],
          "heatmapgl": [
           {
            "colorbar": {
             "outlinewidth": 0,
             "ticks": ""
            },
            "colorscale": [
             [
              0,
              "#0d0887"
             ],
             [
              0.1111111111111111,
              "#46039f"
             ],
             [
              0.2222222222222222,
              "#7201a8"
             ],
             [
              0.3333333333333333,
              "#9c179e"
             ],
             [
              0.4444444444444444,
              "#bd3786"
             ],
             [
              0.5555555555555556,
              "#d8576b"
             ],
             [
              0.6666666666666666,
              "#ed7953"
             ],
             [
              0.7777777777777778,
              "#fb9f3a"
             ],
             [
              0.8888888888888888,
              "#fdca26"
             ],
             [
              1,
              "#f0f921"
             ]
            ],
            "type": "heatmapgl"
           }
          ],
          "histogram": [
           {
            "marker": {
             "pattern": {
              "fillmode": "overlay",
              "size": 10,
              "solidity": 0.2
             }
            },
            "type": "histogram"
           }
          ],
          "histogram2d": [
           {
            "colorbar": {
             "outlinewidth": 0,
             "ticks": ""
            },
            "colorscale": [
             [
              0,
              "#0d0887"
             ],
             [
              0.1111111111111111,
              "#46039f"
             ],
             [
              0.2222222222222222,
              "#7201a8"
             ],
             [
              0.3333333333333333,
              "#9c179e"
             ],
             [
              0.4444444444444444,
              "#bd3786"
             ],
             [
              0.5555555555555556,
              "#d8576b"
             ],
             [
              0.6666666666666666,
              "#ed7953"
             ],
             [
              0.7777777777777778,
              "#fb9f3a"
             ],
             [
              0.8888888888888888,
              "#fdca26"
             ],
             [
              1,
              "#f0f921"
             ]
            ],
            "type": "histogram2d"
           }
          ],
          "histogram2dcontour": [
           {
            "colorbar": {
             "outlinewidth": 0,
             "ticks": ""
            },
            "colorscale": [
             [
              0,
              "#0d0887"
             ],
             [
              0.1111111111111111,
              "#46039f"
             ],
             [
              0.2222222222222222,
              "#7201a8"
             ],
             [
              0.3333333333333333,
              "#9c179e"
             ],
             [
              0.4444444444444444,
              "#bd3786"
             ],
             [
              0.5555555555555556,
              "#d8576b"
             ],
             [
              0.6666666666666666,
              "#ed7953"
             ],
             [
              0.7777777777777778,
              "#fb9f3a"
             ],
             [
              0.8888888888888888,
              "#fdca26"
             ],
             [
              1,
              "#f0f921"
             ]
            ],
            "type": "histogram2dcontour"
           }
          ],
          "mesh3d": [
           {
            "colorbar": {
             "outlinewidth": 0,
             "ticks": ""
            },
            "type": "mesh3d"
           }
          ],
          "parcoords": [
           {
            "line": {
             "colorbar": {
              "outlinewidth": 0,
              "ticks": ""
             }
            },
            "type": "parcoords"
           }
          ],
          "pie": [
           {
            "automargin": true,
            "type": "pie"
           }
          ],
          "scatter": [
           {
            "marker": {
             "line": {
              "color": "#283442"
             }
            },
            "type": "scatter"
           }
          ],
          "scatter3d": [
           {
            "line": {
             "colorbar": {
              "outlinewidth": 0,
              "ticks": ""
             }
            },
            "marker": {
             "colorbar": {
              "outlinewidth": 0,
              "ticks": ""
             }
            },
            "type": "scatter3d"
           }
          ],
          "scattercarpet": [
           {
            "marker": {
             "colorbar": {
              "outlinewidth": 0,
              "ticks": ""
             }
            },
            "type": "scattercarpet"
           }
          ],
          "scattergeo": [
           {
            "marker": {
             "colorbar": {
              "outlinewidth": 0,
              "ticks": ""
             }
            },
            "type": "scattergeo"
           }
          ],
          "scattergl": [
           {
            "marker": {
             "line": {
              "color": "#283442"
             }
            },
            "type": "scattergl"
           }
          ],
          "scattermapbox": [
           {
            "marker": {
             "colorbar": {
              "outlinewidth": 0,
              "ticks": ""
             }
            },
            "type": "scattermapbox"
           }
          ],
          "scatterpolar": [
           {
            "marker": {
             "colorbar": {
              "outlinewidth": 0,
              "ticks": ""
             }
            },
            "type": "scatterpolar"
           }
          ],
          "scatterpolargl": [
           {
            "marker": {
             "colorbar": {
              "outlinewidth": 0,
              "ticks": ""
             }
            },
            "type": "scatterpolargl"
           }
          ],
          "scatterternary": [
           {
            "marker": {
             "colorbar": {
              "outlinewidth": 0,
              "ticks": ""
             }
            },
            "type": "scatterternary"
           }
          ],
          "surface": [
           {
            "colorbar": {
             "outlinewidth": 0,
             "ticks": ""
            },
            "colorscale": [
             [
              0,
              "#0d0887"
             ],
             [
              0.1111111111111111,
              "#46039f"
             ],
             [
              0.2222222222222222,
              "#7201a8"
             ],
             [
              0.3333333333333333,
              "#9c179e"
             ],
             [
              0.4444444444444444,
              "#bd3786"
             ],
             [
              0.5555555555555556,
              "#d8576b"
             ],
             [
              0.6666666666666666,
              "#ed7953"
             ],
             [
              0.7777777777777778,
              "#fb9f3a"
             ],
             [
              0.8888888888888888,
              "#fdca26"
             ],
             [
              1,
              "#f0f921"
             ]
            ],
            "type": "surface"
           }
          ],
          "table": [
           {
            "cells": {
             "fill": {
              "color": "#506784"
             },
             "line": {
              "color": "rgb(17,17,17)"
             }
            },
            "header": {
             "fill": {
              "color": "#2a3f5f"
             },
             "line": {
              "color": "rgb(17,17,17)"
             }
            },
            "type": "table"
           }
          ]
         },
         "layout": {
          "annotationdefaults": {
           "arrowcolor": "#f2f5fa",
           "arrowhead": 0,
           "arrowwidth": 1
          },
          "autotypenumbers": "strict",
          "coloraxis": {
           "colorbar": {
            "outlinewidth": 0,
            "ticks": ""
           }
          },
          "colorscale": {
           "diverging": [
            [
             0,
             "#8e0152"
            ],
            [
             0.1,
             "#c51b7d"
            ],
            [
             0.2,
             "#de77ae"
            ],
            [
             0.3,
             "#f1b6da"
            ],
            [
             0.4,
             "#fde0ef"
            ],
            [
             0.5,
             "#f7f7f7"
            ],
            [
             0.6,
             "#e6f5d0"
            ],
            [
             0.7,
             "#b8e186"
            ],
            [
             0.8,
             "#7fbc41"
            ],
            [
             0.9,
             "#4d9221"
            ],
            [
             1,
             "#276419"
            ]
           ],
           "sequential": [
            [
             0,
             "#0d0887"
            ],
            [
             0.1111111111111111,
             "#46039f"
            ],
            [
             0.2222222222222222,
             "#7201a8"
            ],
            [
             0.3333333333333333,
             "#9c179e"
            ],
            [
             0.4444444444444444,
             "#bd3786"
            ],
            [
             0.5555555555555556,
             "#d8576b"
            ],
            [
             0.6666666666666666,
             "#ed7953"
            ],
            [
             0.7777777777777778,
             "#fb9f3a"
            ],
            [
             0.8888888888888888,
             "#fdca26"
            ],
            [
             1,
             "#f0f921"
            ]
           ],
           "sequentialminus": [
            [
             0,
             "#0d0887"
            ],
            [
             0.1111111111111111,
             "#46039f"
            ],
            [
             0.2222222222222222,
             "#7201a8"
            ],
            [
             0.3333333333333333,
             "#9c179e"
            ],
            [
             0.4444444444444444,
             "#bd3786"
            ],
            [
             0.5555555555555556,
             "#d8576b"
            ],
            [
             0.6666666666666666,
             "#ed7953"
            ],
            [
             0.7777777777777778,
             "#fb9f3a"
            ],
            [
             0.8888888888888888,
             "#fdca26"
            ],
            [
             1,
             "#f0f921"
            ]
           ]
          },
          "colorway": [
           "#636efa",
           "#EF553B",
           "#00cc96",
           "#ab63fa",
           "#FFA15A",
           "#19d3f3",
           "#FF6692",
           "#B6E880",
           "#FF97FF",
           "#FECB52"
          ],
          "font": {
           "color": "#f2f5fa"
          },
          "geo": {
           "bgcolor": "rgb(17,17,17)",
           "lakecolor": "rgb(17,17,17)",
           "landcolor": "rgb(17,17,17)",
           "showlakes": true,
           "showland": true,
           "subunitcolor": "#506784"
          },
          "hoverlabel": {
           "align": "left"
          },
          "hovermode": "closest",
          "mapbox": {
           "style": "dark"
          },
          "paper_bgcolor": "rgb(17,17,17)",
          "plot_bgcolor": "rgb(17,17,17)",
          "polar": {
           "angularaxis": {
            "gridcolor": "#506784",
            "linecolor": "#506784",
            "ticks": ""
           },
           "bgcolor": "rgb(17,17,17)",
           "radialaxis": {
            "gridcolor": "#506784",
            "linecolor": "#506784",
            "ticks": ""
           }
          },
          "scene": {
           "xaxis": {
            "backgroundcolor": "rgb(17,17,17)",
            "gridcolor": "#506784",
            "gridwidth": 2,
            "linecolor": "#506784",
            "showbackground": true,
            "ticks": "",
            "zerolinecolor": "#C8D4E3"
           },
           "yaxis": {
            "backgroundcolor": "rgb(17,17,17)",
            "gridcolor": "#506784",
            "gridwidth": 2,
            "linecolor": "#506784",
            "showbackground": true,
            "ticks": "",
            "zerolinecolor": "#C8D4E3"
           },
           "zaxis": {
            "backgroundcolor": "rgb(17,17,17)",
            "gridcolor": "#506784",
            "gridwidth": 2,
            "linecolor": "#506784",
            "showbackground": true,
            "ticks": "",
            "zerolinecolor": "#C8D4E3"
           }
          },
          "shapedefaults": {
           "line": {
            "color": "#f2f5fa"
           }
          },
          "sliderdefaults": {
           "bgcolor": "#C8D4E3",
           "bordercolor": "rgb(17,17,17)",
           "borderwidth": 1,
           "tickwidth": 0
          },
          "ternary": {
           "aaxis": {
            "gridcolor": "#506784",
            "linecolor": "#506784",
            "ticks": ""
           },
           "baxis": {
            "gridcolor": "#506784",
            "linecolor": "#506784",
            "ticks": ""
           },
           "bgcolor": "rgb(17,17,17)",
           "caxis": {
            "gridcolor": "#506784",
            "linecolor": "#506784",
            "ticks": ""
           }
          },
          "title": {
           "x": 0.05
          },
          "updatemenudefaults": {
           "bgcolor": "#506784",
           "borderwidth": 0
          },
          "xaxis": {
           "automargin": true,
           "gridcolor": "#283442",
           "linecolor": "#506784",
           "ticks": "",
           "title": {
            "standoff": 15
           },
           "zerolinecolor": "#283442",
           "zerolinewidth": 2
          },
          "yaxis": {
           "automargin": true,
           "gridcolor": "#283442",
           "linecolor": "#506784",
           "ticks": "",
           "title": {
            "standoff": 15
           },
           "zerolinecolor": "#283442",
           "zerolinewidth": 2
          }
         }
        },
        "xaxis": {
         "anchor": "y",
         "domain": [
          0,
          1
         ],
         "title": {
          "text": "Vecka"
         }
        },
        "yaxis": {
         "anchor": "x",
         "domain": [
          0,
          1
         ],
         "title": {
          "text": "Antal_avlidna_vecka"
         }
        }
       }
      }
     },
     "metadata": {},
     "output_type": "display_data"
    }
   ],
   "source": [
    "import plotly_express as px # Lineplot for deceased / week\n",
    "fig1c = px.line(data_frame=veckodata, x=\"Vecka\", y=\"Antal_avlidna_vecka\")\n",
    "\n",
    "fig1c.show()"
   ]
  },
  {
   "cell_type": "markdown",
   "metadata": {},
   "source": [
    "### Uppgift d)\n",
    "Rita en linjediagram som visar nya fall per vecka från 2020v6 till nu."
   ]
  },
  {
   "cell_type": "code",
   "execution_count": 108,
   "metadata": {},
   "outputs": [
    {
     "data": {
      "application/vnd.plotly.v1+json": {
       "config": {
        "plotlyServerURL": "https://plot.ly"
       },
       "data": [
        {
         "hovertemplate": "Vecka=%{x}<br>Antal_fall_vecka=%{y}<extra></extra>",
         "legendgroup": "",
         "line": {
          "color": "#636efa",
          "dash": "solid"
         },
         "marker": {
          "symbol": "circle"
         },
         "mode": "lines",
         "name": "",
         "orientation": "v",
         "showlegend": false,
         "type": "scatter",
         "x": [
          "2020v6",
          "2020v7",
          "2020v8",
          "2020v9",
          "2020v10",
          "2020v11",
          "2020v12",
          "2020v13",
          "2020v14",
          "2020v15",
          "2020v16",
          "2020v17",
          "2020v18",
          "2020v19",
          "2020v20",
          "2020v21",
          "2020v22",
          "2020v23",
          "2020v24",
          "2020v25",
          "2020v26",
          "2020v27",
          "2020v28",
          "2020v29",
          "2020v30",
          "2020v31",
          "2020v32",
          "2020v33",
          "2020v34",
          "2020v35",
          "2020v36",
          "2020v37",
          "2020v38",
          "2020v39",
          "2020v40",
          "2020v41",
          "2020v42",
          "2020v43",
          "2020v44",
          "2020v45",
          "2020v46",
          "2020v47",
          "2020v48",
          "2020v49",
          "2020v50",
          "2020v51",
          "2020v52",
          "2020v53",
          "2021v1",
          "2021v2",
          "2021v3",
          "2021v4",
          "2021v5",
          "2021v6",
          "2021v7",
          "2021v8",
          "2021v9",
          "2021v10",
          "2021v11",
          "2021v12",
          "2021v13",
          "2021v14",
          "2021v15",
          "2021v16",
          "2021v17",
          "2021v18",
          "2021v19",
          "2021v20",
          "2021v21",
          "2021v22",
          "2021v23",
          "2021v24",
          "2021v25",
          "2021v26",
          "2021v27",
          "2021v28",
          "2021v29",
          "2021v30",
          "2021v31",
          "2021v32",
          "2021v33",
          "2021v34",
          "2021v35",
          "2021v36",
          "2021v37",
          "2021v38",
          "2021v39",
          "2021v40",
          "2021v41",
          "2021v42",
          "2021v43",
          "2021v44",
          "2021v45",
          "2021v46",
          "2021v47",
          "2021v48",
          "2021v49",
          "2021v50",
          "2021v51",
          "2021v52",
          "2022v1",
          "2022v2",
          "2022v3",
          "2022v4",
          "2022v5",
          "2022v6",
          "2022v7",
          "2022v8",
          "2022v9",
          "2022v10",
          "2022v11",
          "2022v12",
          "2022v13",
          "2022v14",
          "2022v15",
          "2022v16",
          "2022v17",
          "2022v18",
          "2022v19",
          "2022v20",
          "2022v21",
          "2022v22",
          "2022v23",
          "2022v24",
          "2022v25",
          "2022v26",
          "2022v27",
          "2022v28",
          "2022v29",
          "2022v30",
          "2022v31",
          "2022v32",
          "2022v33",
          "2022v34",
          "2022v35",
          "2022v36",
          "2022v37",
          "2022v38",
          "2022v39",
          "2022v40",
          "2022v41",
          "2022v42",
          "2022v43"
         ],
         "xaxis": "x",
         "y": [
          1,
          0,
          0,
          13,
          211,
          838,
          924,
          1957,
          3229,
          3740,
          3752,
          4203,
          3832,
          4153,
          3869,
          3659,
          4280,
          6021,
          7123,
          7073,
          7455,
          4279,
          2179,
          1622,
          1316,
          1556,
          2014,
          2052,
          1687,
          1200,
          1332,
          1592,
          2080,
          2919,
          3642,
          4278,
          5620,
          9155,
          18474,
          25405,
          31319,
          31944,
          35560,
          36837,
          43631,
          46177,
          37134,
          41323,
          39446,
          28935,
          23222,
          20654,
          19604,
          21282,
          23613,
          26680,
          27739,
          28555,
          33032,
          37880,
          38384,
          41142,
          41036,
          36030,
          35306,
          33678,
          25914,
          18170,
          7974,
          9094,
          4394,
          2848,
          1983,
          1870,
          1514,
          1883,
          2661,
          3460,
          4609,
          5817,
          6463,
          6685,
          7236,
          7968,
          6259,
          4305,
          4231,
          4137,
          4069,
          5194,
          5910,
          5060,
          5819,
          7093,
          11915,
          13801,
          18649,
          24485,
          27907,
          59341,
          125275,
          164691,
          256323,
          265043,
          185716,
          62338,
          22160,
          17676,
          12586,
          10110,
          8502,
          7040,
          4952,
          4091,
          3070,
          2525,
          2319,
          1940,
          1656,
          1817,
          1316,
          1255,
          1896,
          2165,
          3090,
          4118,
          4236,
          5442,
          5951,
          5705,
          6235,
          6638,
          6320,
          4868,
          4485,
          4712,
          4978,
          4670,
          13532,
          3999,
          3408,
          3278,
          3502
         ],
         "yaxis": "y"
        }
       ],
       "layout": {
        "legend": {
         "tracegroupgap": 0
        },
        "margin": {
         "t": 60
        },
        "template": {
         "data": {
          "bar": [
           {
            "error_x": {
             "color": "#f2f5fa"
            },
            "error_y": {
             "color": "#f2f5fa"
            },
            "marker": {
             "line": {
              "color": "rgb(17,17,17)",
              "width": 0.5
             },
             "pattern": {
              "fillmode": "overlay",
              "size": 10,
              "solidity": 0.2
             }
            },
            "type": "bar"
           }
          ],
          "barpolar": [
           {
            "marker": {
             "line": {
              "color": "rgb(17,17,17)",
              "width": 0.5
             },
             "pattern": {
              "fillmode": "overlay",
              "size": 10,
              "solidity": 0.2
             }
            },
            "type": "barpolar"
           }
          ],
          "carpet": [
           {
            "aaxis": {
             "endlinecolor": "#A2B1C6",
             "gridcolor": "#506784",
             "linecolor": "#506784",
             "minorgridcolor": "#506784",
             "startlinecolor": "#A2B1C6"
            },
            "baxis": {
             "endlinecolor": "#A2B1C6",
             "gridcolor": "#506784",
             "linecolor": "#506784",
             "minorgridcolor": "#506784",
             "startlinecolor": "#A2B1C6"
            },
            "type": "carpet"
           }
          ],
          "choropleth": [
           {
            "colorbar": {
             "outlinewidth": 0,
             "ticks": ""
            },
            "type": "choropleth"
           }
          ],
          "contour": [
           {
            "colorbar": {
             "outlinewidth": 0,
             "ticks": ""
            },
            "colorscale": [
             [
              0,
              "#0d0887"
             ],
             [
              0.1111111111111111,
              "#46039f"
             ],
             [
              0.2222222222222222,
              "#7201a8"
             ],
             [
              0.3333333333333333,
              "#9c179e"
             ],
             [
              0.4444444444444444,
              "#bd3786"
             ],
             [
              0.5555555555555556,
              "#d8576b"
             ],
             [
              0.6666666666666666,
              "#ed7953"
             ],
             [
              0.7777777777777778,
              "#fb9f3a"
             ],
             [
              0.8888888888888888,
              "#fdca26"
             ],
             [
              1,
              "#f0f921"
             ]
            ],
            "type": "contour"
           }
          ],
          "contourcarpet": [
           {
            "colorbar": {
             "outlinewidth": 0,
             "ticks": ""
            },
            "type": "contourcarpet"
           }
          ],
          "heatmap": [
           {
            "colorbar": {
             "outlinewidth": 0,
             "ticks": ""
            },
            "colorscale": [
             [
              0,
              "#0d0887"
             ],
             [
              0.1111111111111111,
              "#46039f"
             ],
             [
              0.2222222222222222,
              "#7201a8"
             ],
             [
              0.3333333333333333,
              "#9c179e"
             ],
             [
              0.4444444444444444,
              "#bd3786"
             ],
             [
              0.5555555555555556,
              "#d8576b"
             ],
             [
              0.6666666666666666,
              "#ed7953"
             ],
             [
              0.7777777777777778,
              "#fb9f3a"
             ],
             [
              0.8888888888888888,
              "#fdca26"
             ],
             [
              1,
              "#f0f921"
             ]
            ],
            "type": "heatmap"
           }
          ],
          "heatmapgl": [
           {
            "colorbar": {
             "outlinewidth": 0,
             "ticks": ""
            },
            "colorscale": [
             [
              0,
              "#0d0887"
             ],
             [
              0.1111111111111111,
              "#46039f"
             ],
             [
              0.2222222222222222,
              "#7201a8"
             ],
             [
              0.3333333333333333,
              "#9c179e"
             ],
             [
              0.4444444444444444,
              "#bd3786"
             ],
             [
              0.5555555555555556,
              "#d8576b"
             ],
             [
              0.6666666666666666,
              "#ed7953"
             ],
             [
              0.7777777777777778,
              "#fb9f3a"
             ],
             [
              0.8888888888888888,
              "#fdca26"
             ],
             [
              1,
              "#f0f921"
             ]
            ],
            "type": "heatmapgl"
           }
          ],
          "histogram": [
           {
            "marker": {
             "pattern": {
              "fillmode": "overlay",
              "size": 10,
              "solidity": 0.2
             }
            },
            "type": "histogram"
           }
          ],
          "histogram2d": [
           {
            "colorbar": {
             "outlinewidth": 0,
             "ticks": ""
            },
            "colorscale": [
             [
              0,
              "#0d0887"
             ],
             [
              0.1111111111111111,
              "#46039f"
             ],
             [
              0.2222222222222222,
              "#7201a8"
             ],
             [
              0.3333333333333333,
              "#9c179e"
             ],
             [
              0.4444444444444444,
              "#bd3786"
             ],
             [
              0.5555555555555556,
              "#d8576b"
             ],
             [
              0.6666666666666666,
              "#ed7953"
             ],
             [
              0.7777777777777778,
              "#fb9f3a"
             ],
             [
              0.8888888888888888,
              "#fdca26"
             ],
             [
              1,
              "#f0f921"
             ]
            ],
            "type": "histogram2d"
           }
          ],
          "histogram2dcontour": [
           {
            "colorbar": {
             "outlinewidth": 0,
             "ticks": ""
            },
            "colorscale": [
             [
              0,
              "#0d0887"
             ],
             [
              0.1111111111111111,
              "#46039f"
             ],
             [
              0.2222222222222222,
              "#7201a8"
             ],
             [
              0.3333333333333333,
              "#9c179e"
             ],
             [
              0.4444444444444444,
              "#bd3786"
             ],
             [
              0.5555555555555556,
              "#d8576b"
             ],
             [
              0.6666666666666666,
              "#ed7953"
             ],
             [
              0.7777777777777778,
              "#fb9f3a"
             ],
             [
              0.8888888888888888,
              "#fdca26"
             ],
             [
              1,
              "#f0f921"
             ]
            ],
            "type": "histogram2dcontour"
           }
          ],
          "mesh3d": [
           {
            "colorbar": {
             "outlinewidth": 0,
             "ticks": ""
            },
            "type": "mesh3d"
           }
          ],
          "parcoords": [
           {
            "line": {
             "colorbar": {
              "outlinewidth": 0,
              "ticks": ""
             }
            },
            "type": "parcoords"
           }
          ],
          "pie": [
           {
            "automargin": true,
            "type": "pie"
           }
          ],
          "scatter": [
           {
            "marker": {
             "line": {
              "color": "#283442"
             }
            },
            "type": "scatter"
           }
          ],
          "scatter3d": [
           {
            "line": {
             "colorbar": {
              "outlinewidth": 0,
              "ticks": ""
             }
            },
            "marker": {
             "colorbar": {
              "outlinewidth": 0,
              "ticks": ""
             }
            },
            "type": "scatter3d"
           }
          ],
          "scattercarpet": [
           {
            "marker": {
             "colorbar": {
              "outlinewidth": 0,
              "ticks": ""
             }
            },
            "type": "scattercarpet"
           }
          ],
          "scattergeo": [
           {
            "marker": {
             "colorbar": {
              "outlinewidth": 0,
              "ticks": ""
             }
            },
            "type": "scattergeo"
           }
          ],
          "scattergl": [
           {
            "marker": {
             "line": {
              "color": "#283442"
             }
            },
            "type": "scattergl"
           }
          ],
          "scattermapbox": [
           {
            "marker": {
             "colorbar": {
              "outlinewidth": 0,
              "ticks": ""
             }
            },
            "type": "scattermapbox"
           }
          ],
          "scatterpolar": [
           {
            "marker": {
             "colorbar": {
              "outlinewidth": 0,
              "ticks": ""
             }
            },
            "type": "scatterpolar"
           }
          ],
          "scatterpolargl": [
           {
            "marker": {
             "colorbar": {
              "outlinewidth": 0,
              "ticks": ""
             }
            },
            "type": "scatterpolargl"
           }
          ],
          "scatterternary": [
           {
            "marker": {
             "colorbar": {
              "outlinewidth": 0,
              "ticks": ""
             }
            },
            "type": "scatterternary"
           }
          ],
          "surface": [
           {
            "colorbar": {
             "outlinewidth": 0,
             "ticks": ""
            },
            "colorscale": [
             [
              0,
              "#0d0887"
             ],
             [
              0.1111111111111111,
              "#46039f"
             ],
             [
              0.2222222222222222,
              "#7201a8"
             ],
             [
              0.3333333333333333,
              "#9c179e"
             ],
             [
              0.4444444444444444,
              "#bd3786"
             ],
             [
              0.5555555555555556,
              "#d8576b"
             ],
             [
              0.6666666666666666,
              "#ed7953"
             ],
             [
              0.7777777777777778,
              "#fb9f3a"
             ],
             [
              0.8888888888888888,
              "#fdca26"
             ],
             [
              1,
              "#f0f921"
             ]
            ],
            "type": "surface"
           }
          ],
          "table": [
           {
            "cells": {
             "fill": {
              "color": "#506784"
             },
             "line": {
              "color": "rgb(17,17,17)"
             }
            },
            "header": {
             "fill": {
              "color": "#2a3f5f"
             },
             "line": {
              "color": "rgb(17,17,17)"
             }
            },
            "type": "table"
           }
          ]
         },
         "layout": {
          "annotationdefaults": {
           "arrowcolor": "#f2f5fa",
           "arrowhead": 0,
           "arrowwidth": 1
          },
          "autotypenumbers": "strict",
          "coloraxis": {
           "colorbar": {
            "outlinewidth": 0,
            "ticks": ""
           }
          },
          "colorscale": {
           "diverging": [
            [
             0,
             "#8e0152"
            ],
            [
             0.1,
             "#c51b7d"
            ],
            [
             0.2,
             "#de77ae"
            ],
            [
             0.3,
             "#f1b6da"
            ],
            [
             0.4,
             "#fde0ef"
            ],
            [
             0.5,
             "#f7f7f7"
            ],
            [
             0.6,
             "#e6f5d0"
            ],
            [
             0.7,
             "#b8e186"
            ],
            [
             0.8,
             "#7fbc41"
            ],
            [
             0.9,
             "#4d9221"
            ],
            [
             1,
             "#276419"
            ]
           ],
           "sequential": [
            [
             0,
             "#0d0887"
            ],
            [
             0.1111111111111111,
             "#46039f"
            ],
            [
             0.2222222222222222,
             "#7201a8"
            ],
            [
             0.3333333333333333,
             "#9c179e"
            ],
            [
             0.4444444444444444,
             "#bd3786"
            ],
            [
             0.5555555555555556,
             "#d8576b"
            ],
            [
             0.6666666666666666,
             "#ed7953"
            ],
            [
             0.7777777777777778,
             "#fb9f3a"
            ],
            [
             0.8888888888888888,
             "#fdca26"
            ],
            [
             1,
             "#f0f921"
            ]
           ],
           "sequentialminus": [
            [
             0,
             "#0d0887"
            ],
            [
             0.1111111111111111,
             "#46039f"
            ],
            [
             0.2222222222222222,
             "#7201a8"
            ],
            [
             0.3333333333333333,
             "#9c179e"
            ],
            [
             0.4444444444444444,
             "#bd3786"
            ],
            [
             0.5555555555555556,
             "#d8576b"
            ],
            [
             0.6666666666666666,
             "#ed7953"
            ],
            [
             0.7777777777777778,
             "#fb9f3a"
            ],
            [
             0.8888888888888888,
             "#fdca26"
            ],
            [
             1,
             "#f0f921"
            ]
           ]
          },
          "colorway": [
           "#636efa",
           "#EF553B",
           "#00cc96",
           "#ab63fa",
           "#FFA15A",
           "#19d3f3",
           "#FF6692",
           "#B6E880",
           "#FF97FF",
           "#FECB52"
          ],
          "font": {
           "color": "#f2f5fa"
          },
          "geo": {
           "bgcolor": "rgb(17,17,17)",
           "lakecolor": "rgb(17,17,17)",
           "landcolor": "rgb(17,17,17)",
           "showlakes": true,
           "showland": true,
           "subunitcolor": "#506784"
          },
          "hoverlabel": {
           "align": "left"
          },
          "hovermode": "closest",
          "mapbox": {
           "style": "dark"
          },
          "paper_bgcolor": "rgb(17,17,17)",
          "plot_bgcolor": "rgb(17,17,17)",
          "polar": {
           "angularaxis": {
            "gridcolor": "#506784",
            "linecolor": "#506784",
            "ticks": ""
           },
           "bgcolor": "rgb(17,17,17)",
           "radialaxis": {
            "gridcolor": "#506784",
            "linecolor": "#506784",
            "ticks": ""
           }
          },
          "scene": {
           "xaxis": {
            "backgroundcolor": "rgb(17,17,17)",
            "gridcolor": "#506784",
            "gridwidth": 2,
            "linecolor": "#506784",
            "showbackground": true,
            "ticks": "",
            "zerolinecolor": "#C8D4E3"
           },
           "yaxis": {
            "backgroundcolor": "rgb(17,17,17)",
            "gridcolor": "#506784",
            "gridwidth": 2,
            "linecolor": "#506784",
            "showbackground": true,
            "ticks": "",
            "zerolinecolor": "#C8D4E3"
           },
           "zaxis": {
            "backgroundcolor": "rgb(17,17,17)",
            "gridcolor": "#506784",
            "gridwidth": 2,
            "linecolor": "#506784",
            "showbackground": true,
            "ticks": "",
            "zerolinecolor": "#C8D4E3"
           }
          },
          "shapedefaults": {
           "line": {
            "color": "#f2f5fa"
           }
          },
          "sliderdefaults": {
           "bgcolor": "#C8D4E3",
           "bordercolor": "rgb(17,17,17)",
           "borderwidth": 1,
           "tickwidth": 0
          },
          "ternary": {
           "aaxis": {
            "gridcolor": "#506784",
            "linecolor": "#506784",
            "ticks": ""
           },
           "baxis": {
            "gridcolor": "#506784",
            "linecolor": "#506784",
            "ticks": ""
           },
           "bgcolor": "rgb(17,17,17)",
           "caxis": {
            "gridcolor": "#506784",
            "linecolor": "#506784",
            "ticks": ""
           }
          },
          "title": {
           "x": 0.05
          },
          "updatemenudefaults": {
           "bgcolor": "#506784",
           "borderwidth": 0
          },
          "xaxis": {
           "automargin": true,
           "gridcolor": "#283442",
           "linecolor": "#506784",
           "ticks": "",
           "title": {
            "standoff": 15
           },
           "zerolinecolor": "#283442",
           "zerolinewidth": 2
          },
          "yaxis": {
           "automargin": true,
           "gridcolor": "#283442",
           "linecolor": "#506784",
           "ticks": "",
           "title": {
            "standoff": 15
           },
           "zerolinecolor": "#283442",
           "zerolinewidth": 2
          }
         }
        },
        "xaxis": {
         "anchor": "y",
         "domain": [
          0,
          1
         ],
         "title": {
          "text": "Vecka"
         }
        },
        "yaxis": {
         "anchor": "x",
         "domain": [
          0,
          1
         ],
         "title": {
          "text": "Antal_fall_vecka"
         }
        }
       }
      }
     },
     "metadata": {},
     "output_type": "display_data"
    }
   ],
   "source": [
    "# Lineplot for registered cases / week\n",
    "fig1d = px.line(data_frame=veckodata, x=\"Vecka\", y=\"Antal_fall_vecka\")\n",
    "fig1d.show()"
   ]
  },
  {
   "cell_type": "markdown",
   "metadata": {},
   "source": [
    "### Uppgift f)\n",
    "Rita linjediagram av kumulativt antal fall från 2020v6 till nu."
   ]
  },
  {
   "cell_type": "code",
   "execution_count": 109,
   "metadata": {},
   "outputs": [
    {
     "data": {
      "application/vnd.plotly.v1+json": {
       "config": {
        "plotlyServerURL": "https://plot.ly"
       },
       "data": [
        {
         "hovertemplate": "Vecka=%{x}<br>Kum_antal_fall=%{y}<extra></extra>",
         "legendgroup": "",
         "line": {
          "color": "#636efa",
          "dash": "solid"
         },
         "marker": {
          "symbol": "circle"
         },
         "mode": "lines",
         "name": "",
         "orientation": "v",
         "showlegend": false,
         "type": "scatter",
         "x": [
          "2020v6",
          "2020v7",
          "2020v8",
          "2020v9",
          "2020v10",
          "2020v11",
          "2020v12",
          "2020v13",
          "2020v14",
          "2020v15",
          "2020v16",
          "2020v17",
          "2020v18",
          "2020v19",
          "2020v20",
          "2020v21",
          "2020v22",
          "2020v23",
          "2020v24",
          "2020v25",
          "2020v26",
          "2020v27",
          "2020v28",
          "2020v29",
          "2020v30",
          "2020v31",
          "2020v32",
          "2020v33",
          "2020v34",
          "2020v35",
          "2020v36",
          "2020v37",
          "2020v38",
          "2020v39",
          "2020v40",
          "2020v41",
          "2020v42",
          "2020v43",
          "2020v44",
          "2020v45",
          "2020v46",
          "2020v47",
          "2020v48",
          "2020v49",
          "2020v50",
          "2020v51",
          "2020v52",
          "2020v53",
          "2021v1",
          "2021v2",
          "2021v3",
          "2021v4",
          "2021v5",
          "2021v6",
          "2021v7",
          "2021v8",
          "2021v9",
          "2021v10",
          "2021v11",
          "2021v12",
          "2021v13",
          "2021v14",
          "2021v15",
          "2021v16",
          "2021v17",
          "2021v18",
          "2021v19",
          "2021v20",
          "2021v21",
          "2021v22",
          "2021v23",
          "2021v24",
          "2021v25",
          "2021v26",
          "2021v27",
          "2021v28",
          "2021v29",
          "2021v30",
          "2021v31",
          "2021v32",
          "2021v33",
          "2021v34",
          "2021v35",
          "2021v36",
          "2021v37",
          "2021v38",
          "2021v39",
          "2021v40",
          "2021v41",
          "2021v42",
          "2021v43",
          "2021v44",
          "2021v45",
          "2021v46",
          "2021v47",
          "2021v48",
          "2021v49",
          "2021v50",
          "2021v51",
          "2021v52",
          "2022v1",
          "2022v2",
          "2022v3",
          "2022v4",
          "2022v5",
          "2022v6",
          "2022v7",
          "2022v8",
          "2022v9",
          "2022v10",
          "2022v11",
          "2022v12",
          "2022v13",
          "2022v14",
          "2022v15",
          "2022v16",
          "2022v17",
          "2022v18",
          "2022v19",
          "2022v20",
          "2022v21",
          "2022v22",
          "2022v23",
          "2022v24",
          "2022v25",
          "2022v26",
          "2022v27",
          "2022v28",
          "2022v29",
          "2022v30",
          "2022v31",
          "2022v32",
          "2022v33",
          "2022v34",
          "2022v35",
          "2022v36",
          "2022v37",
          "2022v38",
          "2022v39",
          "2022v40",
          "2022v41",
          "2022v42",
          "2022v43"
         ],
         "xaxis": "x",
         "y": [
          1,
          1,
          1,
          14,
          225,
          1063,
          1987,
          3944,
          7173,
          10913,
          14665,
          18868,
          22700,
          26853,
          30722,
          34381,
          38661,
          44682,
          51805,
          58878,
          66333,
          70612,
          72791,
          74413,
          75729,
          77285,
          79299,
          81351,
          83038,
          84238,
          85570,
          87162,
          89242,
          92161,
          95803,
          100081,
          105701,
          114856,
          133330,
          158735,
          190054,
          221998,
          257558,
          294395,
          338026,
          384203,
          421337,
          462660,
          502106,
          531041,
          554263,
          574917,
          594521,
          615803,
          639416,
          666096,
          693835,
          722390,
          755422,
          793302,
          831686,
          872828,
          913864,
          949894,
          985200,
          1018878,
          1044792,
          1062962,
          1070936,
          1080030,
          1084424,
          1087272,
          1089255,
          1091125,
          1092639,
          1094522,
          1097183,
          1100643,
          1105252,
          1111069,
          1117532,
          1124217,
          1131453,
          1139421,
          1145680,
          1149985,
          1154216,
          1158353,
          1162422,
          1167616,
          1173526,
          1178586,
          1184405,
          1191498,
          1203413,
          1217214,
          1235863,
          1260348,
          1288255,
          1347596,
          1472871,
          1637562,
          1893885,
          2158928,
          2344644,
          2406982,
          2429142,
          2446818,
          2459404,
          2469514,
          2478016,
          2485056,
          2490008,
          2494099,
          2497169,
          2499694,
          2502013,
          2503953,
          2505609,
          2507426,
          2508742,
          2509997,
          2511893,
          2514058,
          2517148,
          2521266,
          2525502,
          2530944,
          2536895,
          2542600,
          2548835,
          2555473,
          2561793,
          2566661,
          2571146,
          2575858,
          2580836,
          2585506,
          2599038,
          2603037,
          2606445,
          2609723,
          2613225
         ],
         "yaxis": "y"
        }
       ],
       "layout": {
        "legend": {
         "tracegroupgap": 0
        },
        "margin": {
         "t": 60
        },
        "template": {
         "data": {
          "bar": [
           {
            "error_x": {
             "color": "#f2f5fa"
            },
            "error_y": {
             "color": "#f2f5fa"
            },
            "marker": {
             "line": {
              "color": "rgb(17,17,17)",
              "width": 0.5
             },
             "pattern": {
              "fillmode": "overlay",
              "size": 10,
              "solidity": 0.2
             }
            },
            "type": "bar"
           }
          ],
          "barpolar": [
           {
            "marker": {
             "line": {
              "color": "rgb(17,17,17)",
              "width": 0.5
             },
             "pattern": {
              "fillmode": "overlay",
              "size": 10,
              "solidity": 0.2
             }
            },
            "type": "barpolar"
           }
          ],
          "carpet": [
           {
            "aaxis": {
             "endlinecolor": "#A2B1C6",
             "gridcolor": "#506784",
             "linecolor": "#506784",
             "minorgridcolor": "#506784",
             "startlinecolor": "#A2B1C6"
            },
            "baxis": {
             "endlinecolor": "#A2B1C6",
             "gridcolor": "#506784",
             "linecolor": "#506784",
             "minorgridcolor": "#506784",
             "startlinecolor": "#A2B1C6"
            },
            "type": "carpet"
           }
          ],
          "choropleth": [
           {
            "colorbar": {
             "outlinewidth": 0,
             "ticks": ""
            },
            "type": "choropleth"
           }
          ],
          "contour": [
           {
            "colorbar": {
             "outlinewidth": 0,
             "ticks": ""
            },
            "colorscale": [
             [
              0,
              "#0d0887"
             ],
             [
              0.1111111111111111,
              "#46039f"
             ],
             [
              0.2222222222222222,
              "#7201a8"
             ],
             [
              0.3333333333333333,
              "#9c179e"
             ],
             [
              0.4444444444444444,
              "#bd3786"
             ],
             [
              0.5555555555555556,
              "#d8576b"
             ],
             [
              0.6666666666666666,
              "#ed7953"
             ],
             [
              0.7777777777777778,
              "#fb9f3a"
             ],
             [
              0.8888888888888888,
              "#fdca26"
             ],
             [
              1,
              "#f0f921"
             ]
            ],
            "type": "contour"
           }
          ],
          "contourcarpet": [
           {
            "colorbar": {
             "outlinewidth": 0,
             "ticks": ""
            },
            "type": "contourcarpet"
           }
          ],
          "heatmap": [
           {
            "colorbar": {
             "outlinewidth": 0,
             "ticks": ""
            },
            "colorscale": [
             [
              0,
              "#0d0887"
             ],
             [
              0.1111111111111111,
              "#46039f"
             ],
             [
              0.2222222222222222,
              "#7201a8"
             ],
             [
              0.3333333333333333,
              "#9c179e"
             ],
             [
              0.4444444444444444,
              "#bd3786"
             ],
             [
              0.5555555555555556,
              "#d8576b"
             ],
             [
              0.6666666666666666,
              "#ed7953"
             ],
             [
              0.7777777777777778,
              "#fb9f3a"
             ],
             [
              0.8888888888888888,
              "#fdca26"
             ],
             [
              1,
              "#f0f921"
             ]
            ],
            "type": "heatmap"
           }
          ],
          "heatmapgl": [
           {
            "colorbar": {
             "outlinewidth": 0,
             "ticks": ""
            },
            "colorscale": [
             [
              0,
              "#0d0887"
             ],
             [
              0.1111111111111111,
              "#46039f"
             ],
             [
              0.2222222222222222,
              "#7201a8"
             ],
             [
              0.3333333333333333,
              "#9c179e"
             ],
             [
              0.4444444444444444,
              "#bd3786"
             ],
             [
              0.5555555555555556,
              "#d8576b"
             ],
             [
              0.6666666666666666,
              "#ed7953"
             ],
             [
              0.7777777777777778,
              "#fb9f3a"
             ],
             [
              0.8888888888888888,
              "#fdca26"
             ],
             [
              1,
              "#f0f921"
             ]
            ],
            "type": "heatmapgl"
           }
          ],
          "histogram": [
           {
            "marker": {
             "pattern": {
              "fillmode": "overlay",
              "size": 10,
              "solidity": 0.2
             }
            },
            "type": "histogram"
           }
          ],
          "histogram2d": [
           {
            "colorbar": {
             "outlinewidth": 0,
             "ticks": ""
            },
            "colorscale": [
             [
              0,
              "#0d0887"
             ],
             [
              0.1111111111111111,
              "#46039f"
             ],
             [
              0.2222222222222222,
              "#7201a8"
             ],
             [
              0.3333333333333333,
              "#9c179e"
             ],
             [
              0.4444444444444444,
              "#bd3786"
             ],
             [
              0.5555555555555556,
              "#d8576b"
             ],
             [
              0.6666666666666666,
              "#ed7953"
             ],
             [
              0.7777777777777778,
              "#fb9f3a"
             ],
             [
              0.8888888888888888,
              "#fdca26"
             ],
             [
              1,
              "#f0f921"
             ]
            ],
            "type": "histogram2d"
           }
          ],
          "histogram2dcontour": [
           {
            "colorbar": {
             "outlinewidth": 0,
             "ticks": ""
            },
            "colorscale": [
             [
              0,
              "#0d0887"
             ],
             [
              0.1111111111111111,
              "#46039f"
             ],
             [
              0.2222222222222222,
              "#7201a8"
             ],
             [
              0.3333333333333333,
              "#9c179e"
             ],
             [
              0.4444444444444444,
              "#bd3786"
             ],
             [
              0.5555555555555556,
              "#d8576b"
             ],
             [
              0.6666666666666666,
              "#ed7953"
             ],
             [
              0.7777777777777778,
              "#fb9f3a"
             ],
             [
              0.8888888888888888,
              "#fdca26"
             ],
             [
              1,
              "#f0f921"
             ]
            ],
            "type": "histogram2dcontour"
           }
          ],
          "mesh3d": [
           {
            "colorbar": {
             "outlinewidth": 0,
             "ticks": ""
            },
            "type": "mesh3d"
           }
          ],
          "parcoords": [
           {
            "line": {
             "colorbar": {
              "outlinewidth": 0,
              "ticks": ""
             }
            },
            "type": "parcoords"
           }
          ],
          "pie": [
           {
            "automargin": true,
            "type": "pie"
           }
          ],
          "scatter": [
           {
            "marker": {
             "line": {
              "color": "#283442"
             }
            },
            "type": "scatter"
           }
          ],
          "scatter3d": [
           {
            "line": {
             "colorbar": {
              "outlinewidth": 0,
              "ticks": ""
             }
            },
            "marker": {
             "colorbar": {
              "outlinewidth": 0,
              "ticks": ""
             }
            },
            "type": "scatter3d"
           }
          ],
          "scattercarpet": [
           {
            "marker": {
             "colorbar": {
              "outlinewidth": 0,
              "ticks": ""
             }
            },
            "type": "scattercarpet"
           }
          ],
          "scattergeo": [
           {
            "marker": {
             "colorbar": {
              "outlinewidth": 0,
              "ticks": ""
             }
            },
            "type": "scattergeo"
           }
          ],
          "scattergl": [
           {
            "marker": {
             "line": {
              "color": "#283442"
             }
            },
            "type": "scattergl"
           }
          ],
          "scattermapbox": [
           {
            "marker": {
             "colorbar": {
              "outlinewidth": 0,
              "ticks": ""
             }
            },
            "type": "scattermapbox"
           }
          ],
          "scatterpolar": [
           {
            "marker": {
             "colorbar": {
              "outlinewidth": 0,
              "ticks": ""
             }
            },
            "type": "scatterpolar"
           }
          ],
          "scatterpolargl": [
           {
            "marker": {
             "colorbar": {
              "outlinewidth": 0,
              "ticks": ""
             }
            },
            "type": "scatterpolargl"
           }
          ],
          "scatterternary": [
           {
            "marker": {
             "colorbar": {
              "outlinewidth": 0,
              "ticks": ""
             }
            },
            "type": "scatterternary"
           }
          ],
          "surface": [
           {
            "colorbar": {
             "outlinewidth": 0,
             "ticks": ""
            },
            "colorscale": [
             [
              0,
              "#0d0887"
             ],
             [
              0.1111111111111111,
              "#46039f"
             ],
             [
              0.2222222222222222,
              "#7201a8"
             ],
             [
              0.3333333333333333,
              "#9c179e"
             ],
             [
              0.4444444444444444,
              "#bd3786"
             ],
             [
              0.5555555555555556,
              "#d8576b"
             ],
             [
              0.6666666666666666,
              "#ed7953"
             ],
             [
              0.7777777777777778,
              "#fb9f3a"
             ],
             [
              0.8888888888888888,
              "#fdca26"
             ],
             [
              1,
              "#f0f921"
             ]
            ],
            "type": "surface"
           }
          ],
          "table": [
           {
            "cells": {
             "fill": {
              "color": "#506784"
             },
             "line": {
              "color": "rgb(17,17,17)"
             }
            },
            "header": {
             "fill": {
              "color": "#2a3f5f"
             },
             "line": {
              "color": "rgb(17,17,17)"
             }
            },
            "type": "table"
           }
          ]
         },
         "layout": {
          "annotationdefaults": {
           "arrowcolor": "#f2f5fa",
           "arrowhead": 0,
           "arrowwidth": 1
          },
          "autotypenumbers": "strict",
          "coloraxis": {
           "colorbar": {
            "outlinewidth": 0,
            "ticks": ""
           }
          },
          "colorscale": {
           "diverging": [
            [
             0,
             "#8e0152"
            ],
            [
             0.1,
             "#c51b7d"
            ],
            [
             0.2,
             "#de77ae"
            ],
            [
             0.3,
             "#f1b6da"
            ],
            [
             0.4,
             "#fde0ef"
            ],
            [
             0.5,
             "#f7f7f7"
            ],
            [
             0.6,
             "#e6f5d0"
            ],
            [
             0.7,
             "#b8e186"
            ],
            [
             0.8,
             "#7fbc41"
            ],
            [
             0.9,
             "#4d9221"
            ],
            [
             1,
             "#276419"
            ]
           ],
           "sequential": [
            [
             0,
             "#0d0887"
            ],
            [
             0.1111111111111111,
             "#46039f"
            ],
            [
             0.2222222222222222,
             "#7201a8"
            ],
            [
             0.3333333333333333,
             "#9c179e"
            ],
            [
             0.4444444444444444,
             "#bd3786"
            ],
            [
             0.5555555555555556,
             "#d8576b"
            ],
            [
             0.6666666666666666,
             "#ed7953"
            ],
            [
             0.7777777777777778,
             "#fb9f3a"
            ],
            [
             0.8888888888888888,
             "#fdca26"
            ],
            [
             1,
             "#f0f921"
            ]
           ],
           "sequentialminus": [
            [
             0,
             "#0d0887"
            ],
            [
             0.1111111111111111,
             "#46039f"
            ],
            [
             0.2222222222222222,
             "#7201a8"
            ],
            [
             0.3333333333333333,
             "#9c179e"
            ],
            [
             0.4444444444444444,
             "#bd3786"
            ],
            [
             0.5555555555555556,
             "#d8576b"
            ],
            [
             0.6666666666666666,
             "#ed7953"
            ],
            [
             0.7777777777777778,
             "#fb9f3a"
            ],
            [
             0.8888888888888888,
             "#fdca26"
            ],
            [
             1,
             "#f0f921"
            ]
           ]
          },
          "colorway": [
           "#636efa",
           "#EF553B",
           "#00cc96",
           "#ab63fa",
           "#FFA15A",
           "#19d3f3",
           "#FF6692",
           "#B6E880",
           "#FF97FF",
           "#FECB52"
          ],
          "font": {
           "color": "#f2f5fa"
          },
          "geo": {
           "bgcolor": "rgb(17,17,17)",
           "lakecolor": "rgb(17,17,17)",
           "landcolor": "rgb(17,17,17)",
           "showlakes": true,
           "showland": true,
           "subunitcolor": "#506784"
          },
          "hoverlabel": {
           "align": "left"
          },
          "hovermode": "closest",
          "mapbox": {
           "style": "dark"
          },
          "paper_bgcolor": "rgb(17,17,17)",
          "plot_bgcolor": "rgb(17,17,17)",
          "polar": {
           "angularaxis": {
            "gridcolor": "#506784",
            "linecolor": "#506784",
            "ticks": ""
           },
           "bgcolor": "rgb(17,17,17)",
           "radialaxis": {
            "gridcolor": "#506784",
            "linecolor": "#506784",
            "ticks": ""
           }
          },
          "scene": {
           "xaxis": {
            "backgroundcolor": "rgb(17,17,17)",
            "gridcolor": "#506784",
            "gridwidth": 2,
            "linecolor": "#506784",
            "showbackground": true,
            "ticks": "",
            "zerolinecolor": "#C8D4E3"
           },
           "yaxis": {
            "backgroundcolor": "rgb(17,17,17)",
            "gridcolor": "#506784",
            "gridwidth": 2,
            "linecolor": "#506784",
            "showbackground": true,
            "ticks": "",
            "zerolinecolor": "#C8D4E3"
           },
           "zaxis": {
            "backgroundcolor": "rgb(17,17,17)",
            "gridcolor": "#506784",
            "gridwidth": 2,
            "linecolor": "#506784",
            "showbackground": true,
            "ticks": "",
            "zerolinecolor": "#C8D4E3"
           }
          },
          "shapedefaults": {
           "line": {
            "color": "#f2f5fa"
           }
          },
          "sliderdefaults": {
           "bgcolor": "#C8D4E3",
           "bordercolor": "rgb(17,17,17)",
           "borderwidth": 1,
           "tickwidth": 0
          },
          "ternary": {
           "aaxis": {
            "gridcolor": "#506784",
            "linecolor": "#506784",
            "ticks": ""
           },
           "baxis": {
            "gridcolor": "#506784",
            "linecolor": "#506784",
            "ticks": ""
           },
           "bgcolor": "rgb(17,17,17)",
           "caxis": {
            "gridcolor": "#506784",
            "linecolor": "#506784",
            "ticks": ""
           }
          },
          "title": {
           "x": 0.05
          },
          "updatemenudefaults": {
           "bgcolor": "#506784",
           "borderwidth": 0
          },
          "xaxis": {
           "automargin": true,
           "gridcolor": "#283442",
           "linecolor": "#506784",
           "ticks": "",
           "title": {
            "standoff": 15
           },
           "zerolinecolor": "#283442",
           "zerolinewidth": 2
          },
          "yaxis": {
           "automargin": true,
           "gridcolor": "#283442",
           "linecolor": "#506784",
           "ticks": "",
           "title": {
            "standoff": 15
           },
           "zerolinecolor": "#283442",
           "zerolinewidth": 2
          }
         }
        },
        "xaxis": {
         "anchor": "y",
         "domain": [
          0,
          1
         ],
         "title": {
          "text": "Vecka"
         }
        },
        "yaxis": {
         "anchor": "x",
         "domain": [
          0,
          1
         ],
         "title": {
          "text": "Kum_antal_fall"
         }
        }
       }
      }
     },
     "metadata": {},
     "output_type": "display_data"
    }
   ],
   "source": [
    "# Lineplot for total infection cases\n",
    "fig1f = px.line(data_frame=veckodata, x=\"Vecka\", y=\"Kum_antal_fall\")\n",
    "fig1f.show()"
   ]
  },
  {
   "cell_type": "markdown",
   "metadata": {},
   "source": [
    "### Uppgift e)\n",
    "- e) Rita linjediagram av både avlidna fall per vecka och nya fall per vecka i samma fönster från 2020v6 till nu."
   ]
  },
  {
   "cell_type": "code",
   "execution_count": 110,
   "metadata": {},
   "outputs": [
    {
     "data": {
      "application/vnd.plotly.v1+json": {
       "config": {
        "plotlyServerURL": "https://plot.ly"
       },
       "data": [
        {
         "hovertemplate": "Vecka=%{x}<br>Antal_avlidna_vecka=%{y}<extra></extra>",
         "legendgroup": "",
         "line": {
          "color": "#636efa",
          "dash": "solid"
         },
         "marker": {
          "symbol": "circle"
         },
         "mode": "lines",
         "name": "",
         "orientation": "v",
         "showlegend": false,
         "type": "scatter",
         "x": [
          "2020v6",
          "2020v7",
          "2020v8",
          "2020v9",
          "2020v10",
          "2020v11",
          "2020v12",
          "2020v13",
          "2020v14",
          "2020v15",
          "2020v16",
          "2020v17",
          "2020v18",
          "2020v19",
          "2020v20",
          "2020v21",
          "2020v22",
          "2020v23",
          "2020v24",
          "2020v25",
          "2020v26",
          "2020v27",
          "2020v28",
          "2020v29",
          "2020v30",
          "2020v31",
          "2020v32",
          "2020v33",
          "2020v34",
          "2020v35",
          "2020v36",
          "2020v37",
          "2020v38",
          "2020v39",
          "2020v40",
          "2020v41",
          "2020v42",
          "2020v43",
          "2020v44",
          "2020v45",
          "2020v46",
          "2020v47",
          "2020v48",
          "2020v49",
          "2020v50",
          "2020v51",
          "2020v52",
          "2020v53",
          "2021v1",
          "2021v2",
          "2021v3",
          "2021v4",
          "2021v5",
          "2021v6",
          "2021v7",
          "2021v8",
          "2021v9",
          "2021v10",
          "2021v11",
          "2021v12",
          "2021v13",
          "2021v14",
          "2021v15",
          "2021v16",
          "2021v17",
          "2021v18",
          "2021v19",
          "2021v20",
          "2021v21",
          "2021v22",
          "2021v23",
          "2021v24",
          "2021v25",
          "2021v26",
          "2021v27",
          "2021v28",
          "2021v29",
          "2021v30",
          "2021v31",
          "2021v32",
          "2021v33",
          "2021v34",
          "2021v35",
          "2021v36",
          "2021v37",
          "2021v38",
          "2021v39",
          "2021v40",
          "2021v41",
          "2021v42",
          "2021v43",
          "2021v44",
          "2021v45",
          "2021v46",
          "2021v47",
          "2021v48",
          "2021v49",
          "2021v50",
          "2021v51",
          "2021v52",
          "2022v1",
          "2022v2",
          "2022v3",
          "2022v4",
          "2022v5",
          "2022v6",
          "2022v7",
          "2022v8",
          "2022v9",
          "2022v10",
          "2022v11",
          "2022v12",
          "2022v13",
          "2022v14",
          "2022v15",
          "2022v16",
          "2022v17",
          "2022v18",
          "2022v19",
          "2022v20",
          "2022v21",
          "2022v22",
          "2022v23",
          "2022v24",
          "2022v25",
          "2022v26",
          "2022v27",
          "2022v28",
          "2022v29",
          "2022v30",
          "2022v31",
          "2022v32",
          "2022v33",
          "2022v34",
          "2022v35",
          "2022v36",
          "2022v37",
          "2022v38",
          "2022v39",
          "2022v40",
          "2022v41",
          "2022v42",
          "2022v43"
         ],
         "xaxis": "x",
         "y": [
          0,
          0,
          0,
          0,
          0,
          5,
          44,
          190,
          451,
          664,
          657,
          546,
          543,
          509,
          380,
          360,
          272,
          246,
          234,
          200,
          138,
          98,
          84,
          57,
          30,
          18,
          18,
          16,
          19,
          10,
          12,
          13,
          12,
          11,
          17,
          22,
          16,
          43,
          82,
          157,
          235,
          332,
          417,
          476,
          500,
          645,
          643,
          663,
          644,
          598,
          513,
          389,
          269,
          205,
          172,
          146,
          129,
          141,
          127,
          126,
          142,
          133,
          141,
          131,
          115,
          107,
          111,
          70,
          47,
          39,
          22,
          17,
          9,
          8,
          3,
          2,
          3,
          4,
          7,
          7,
          11,
          20,
          25,
          49,
          51,
          43,
          39,
          49,
          32,
          23,
          30,
          33,
          31,
          30,
          15,
          29,
          38,
          49,
          44,
          70,
          130,
          172,
          243,
          301,
          359,
          329,
          361,
          319,
          273,
          204,
          195,
          157,
          122,
          120,
          71,
          70,
          51,
          52,
          42,
          41,
          26,
          23,
          28,
          22,
          36,
          42,
          59,
          62,
          114,
          95,
          110,
          120,
          134,
          85,
          96,
          85,
          100,
          89,
          94,
          98,
          94,
          70,
          37
         ],
         "yaxis": "y"
        },
        {
         "hovertemplate": "Vecka=%{x}<br>Antal_fall_vecka=%{y}<extra></extra>",
         "legendgroup": "",
         "line": {
          "color": "#bc0028",
          "dash": "solid"
         },
         "marker": {
          "symbol": "circle"
         },
         "mode": "lines",
         "name": "",
         "orientation": "v",
         "showlegend": false,
         "type": "scatter",
         "x": [
          "2020v6",
          "2020v7",
          "2020v8",
          "2020v9",
          "2020v10",
          "2020v11",
          "2020v12",
          "2020v13",
          "2020v14",
          "2020v15",
          "2020v16",
          "2020v17",
          "2020v18",
          "2020v19",
          "2020v20",
          "2020v21",
          "2020v22",
          "2020v23",
          "2020v24",
          "2020v25",
          "2020v26",
          "2020v27",
          "2020v28",
          "2020v29",
          "2020v30",
          "2020v31",
          "2020v32",
          "2020v33",
          "2020v34",
          "2020v35",
          "2020v36",
          "2020v37",
          "2020v38",
          "2020v39",
          "2020v40",
          "2020v41",
          "2020v42",
          "2020v43",
          "2020v44",
          "2020v45",
          "2020v46",
          "2020v47",
          "2020v48",
          "2020v49",
          "2020v50",
          "2020v51",
          "2020v52",
          "2020v53",
          "2021v1",
          "2021v2",
          "2021v3",
          "2021v4",
          "2021v5",
          "2021v6",
          "2021v7",
          "2021v8",
          "2021v9",
          "2021v10",
          "2021v11",
          "2021v12",
          "2021v13",
          "2021v14",
          "2021v15",
          "2021v16",
          "2021v17",
          "2021v18",
          "2021v19",
          "2021v20",
          "2021v21",
          "2021v22",
          "2021v23",
          "2021v24",
          "2021v25",
          "2021v26",
          "2021v27",
          "2021v28",
          "2021v29",
          "2021v30",
          "2021v31",
          "2021v32",
          "2021v33",
          "2021v34",
          "2021v35",
          "2021v36",
          "2021v37",
          "2021v38",
          "2021v39",
          "2021v40",
          "2021v41",
          "2021v42",
          "2021v43",
          "2021v44",
          "2021v45",
          "2021v46",
          "2021v47",
          "2021v48",
          "2021v49",
          "2021v50",
          "2021v51",
          "2021v52",
          "2022v1",
          "2022v2",
          "2022v3",
          "2022v4",
          "2022v5",
          "2022v6",
          "2022v7",
          "2022v8",
          "2022v9",
          "2022v10",
          "2022v11",
          "2022v12",
          "2022v13",
          "2022v14",
          "2022v15",
          "2022v16",
          "2022v17",
          "2022v18",
          "2022v19",
          "2022v20",
          "2022v21",
          "2022v22",
          "2022v23",
          "2022v24",
          "2022v25",
          "2022v26",
          "2022v27",
          "2022v28",
          "2022v29",
          "2022v30",
          "2022v31",
          "2022v32",
          "2022v33",
          "2022v34",
          "2022v35",
          "2022v36",
          "2022v37",
          "2022v38",
          "2022v39",
          "2022v40",
          "2022v41",
          "2022v42",
          "2022v43"
         ],
         "xaxis": "x",
         "y": [
          1,
          0,
          0,
          13,
          211,
          838,
          924,
          1957,
          3229,
          3740,
          3752,
          4203,
          3832,
          4153,
          3869,
          3659,
          4280,
          6021,
          7123,
          7073,
          7455,
          4279,
          2179,
          1622,
          1316,
          1556,
          2014,
          2052,
          1687,
          1200,
          1332,
          1592,
          2080,
          2919,
          3642,
          4278,
          5620,
          9155,
          18474,
          25405,
          31319,
          31944,
          35560,
          36837,
          43631,
          46177,
          37134,
          41323,
          39446,
          28935,
          23222,
          20654,
          19604,
          21282,
          23613,
          26680,
          27739,
          28555,
          33032,
          37880,
          38384,
          41142,
          41036,
          36030,
          35306,
          33678,
          25914,
          18170,
          7974,
          9094,
          4394,
          2848,
          1983,
          1870,
          1514,
          1883,
          2661,
          3460,
          4609,
          5817,
          6463,
          6685,
          7236,
          7968,
          6259,
          4305,
          4231,
          4137,
          4069,
          5194,
          5910,
          5060,
          5819,
          7093,
          11915,
          13801,
          18649,
          24485,
          27907,
          59341,
          125275,
          164691,
          256323,
          265043,
          185716,
          62338,
          22160,
          17676,
          12586,
          10110,
          8502,
          7040,
          4952,
          4091,
          3070,
          2525,
          2319,
          1940,
          1656,
          1817,
          1316,
          1255,
          1896,
          2165,
          3090,
          4118,
          4236,
          5442,
          5951,
          5705,
          6235,
          6638,
          6320,
          4868,
          4485,
          4712,
          4978,
          4670,
          13532,
          3999,
          3408,
          3278,
          3502
         ],
         "yaxis": "y2"
        }
       ],
       "layout": {
        "template": {
         "data": {
          "bar": [
           {
            "error_x": {
             "color": "#f2f5fa"
            },
            "error_y": {
             "color": "#f2f5fa"
            },
            "marker": {
             "line": {
              "color": "rgb(17,17,17)",
              "width": 0.5
             },
             "pattern": {
              "fillmode": "overlay",
              "size": 10,
              "solidity": 0.2
             }
            },
            "type": "bar"
           }
          ],
          "barpolar": [
           {
            "marker": {
             "line": {
              "color": "rgb(17,17,17)",
              "width": 0.5
             },
             "pattern": {
              "fillmode": "overlay",
              "size": 10,
              "solidity": 0.2
             }
            },
            "type": "barpolar"
           }
          ],
          "carpet": [
           {
            "aaxis": {
             "endlinecolor": "#A2B1C6",
             "gridcolor": "#506784",
             "linecolor": "#506784",
             "minorgridcolor": "#506784",
             "startlinecolor": "#A2B1C6"
            },
            "baxis": {
             "endlinecolor": "#A2B1C6",
             "gridcolor": "#506784",
             "linecolor": "#506784",
             "minorgridcolor": "#506784",
             "startlinecolor": "#A2B1C6"
            },
            "type": "carpet"
           }
          ],
          "choropleth": [
           {
            "colorbar": {
             "outlinewidth": 0,
             "ticks": ""
            },
            "type": "choropleth"
           }
          ],
          "contour": [
           {
            "colorbar": {
             "outlinewidth": 0,
             "ticks": ""
            },
            "colorscale": [
             [
              0,
              "#0d0887"
             ],
             [
              0.1111111111111111,
              "#46039f"
             ],
             [
              0.2222222222222222,
              "#7201a8"
             ],
             [
              0.3333333333333333,
              "#9c179e"
             ],
             [
              0.4444444444444444,
              "#bd3786"
             ],
             [
              0.5555555555555556,
              "#d8576b"
             ],
             [
              0.6666666666666666,
              "#ed7953"
             ],
             [
              0.7777777777777778,
              "#fb9f3a"
             ],
             [
              0.8888888888888888,
              "#fdca26"
             ],
             [
              1,
              "#f0f921"
             ]
            ],
            "type": "contour"
           }
          ],
          "contourcarpet": [
           {
            "colorbar": {
             "outlinewidth": 0,
             "ticks": ""
            },
            "type": "contourcarpet"
           }
          ],
          "heatmap": [
           {
            "colorbar": {
             "outlinewidth": 0,
             "ticks": ""
            },
            "colorscale": [
             [
              0,
              "#0d0887"
             ],
             [
              0.1111111111111111,
              "#46039f"
             ],
             [
              0.2222222222222222,
              "#7201a8"
             ],
             [
              0.3333333333333333,
              "#9c179e"
             ],
             [
              0.4444444444444444,
              "#bd3786"
             ],
             [
              0.5555555555555556,
              "#d8576b"
             ],
             [
              0.6666666666666666,
              "#ed7953"
             ],
             [
              0.7777777777777778,
              "#fb9f3a"
             ],
             [
              0.8888888888888888,
              "#fdca26"
             ],
             [
              1,
              "#f0f921"
             ]
            ],
            "type": "heatmap"
           }
          ],
          "heatmapgl": [
           {
            "colorbar": {
             "outlinewidth": 0,
             "ticks": ""
            },
            "colorscale": [
             [
              0,
              "#0d0887"
             ],
             [
              0.1111111111111111,
              "#46039f"
             ],
             [
              0.2222222222222222,
              "#7201a8"
             ],
             [
              0.3333333333333333,
              "#9c179e"
             ],
             [
              0.4444444444444444,
              "#bd3786"
             ],
             [
              0.5555555555555556,
              "#d8576b"
             ],
             [
              0.6666666666666666,
              "#ed7953"
             ],
             [
              0.7777777777777778,
              "#fb9f3a"
             ],
             [
              0.8888888888888888,
              "#fdca26"
             ],
             [
              1,
              "#f0f921"
             ]
            ],
            "type": "heatmapgl"
           }
          ],
          "histogram": [
           {
            "marker": {
             "pattern": {
              "fillmode": "overlay",
              "size": 10,
              "solidity": 0.2
             }
            },
            "type": "histogram"
           }
          ],
          "histogram2d": [
           {
            "colorbar": {
             "outlinewidth": 0,
             "ticks": ""
            },
            "colorscale": [
             [
              0,
              "#0d0887"
             ],
             [
              0.1111111111111111,
              "#46039f"
             ],
             [
              0.2222222222222222,
              "#7201a8"
             ],
             [
              0.3333333333333333,
              "#9c179e"
             ],
             [
              0.4444444444444444,
              "#bd3786"
             ],
             [
              0.5555555555555556,
              "#d8576b"
             ],
             [
              0.6666666666666666,
              "#ed7953"
             ],
             [
              0.7777777777777778,
              "#fb9f3a"
             ],
             [
              0.8888888888888888,
              "#fdca26"
             ],
             [
              1,
              "#f0f921"
             ]
            ],
            "type": "histogram2d"
           }
          ],
          "histogram2dcontour": [
           {
            "colorbar": {
             "outlinewidth": 0,
             "ticks": ""
            },
            "colorscale": [
             [
              0,
              "#0d0887"
             ],
             [
              0.1111111111111111,
              "#46039f"
             ],
             [
              0.2222222222222222,
              "#7201a8"
             ],
             [
              0.3333333333333333,
              "#9c179e"
             ],
             [
              0.4444444444444444,
              "#bd3786"
             ],
             [
              0.5555555555555556,
              "#d8576b"
             ],
             [
              0.6666666666666666,
              "#ed7953"
             ],
             [
              0.7777777777777778,
              "#fb9f3a"
             ],
             [
              0.8888888888888888,
              "#fdca26"
             ],
             [
              1,
              "#f0f921"
             ]
            ],
            "type": "histogram2dcontour"
           }
          ],
          "mesh3d": [
           {
            "colorbar": {
             "outlinewidth": 0,
             "ticks": ""
            },
            "type": "mesh3d"
           }
          ],
          "parcoords": [
           {
            "line": {
             "colorbar": {
              "outlinewidth": 0,
              "ticks": ""
             }
            },
            "type": "parcoords"
           }
          ],
          "pie": [
           {
            "automargin": true,
            "type": "pie"
           }
          ],
          "scatter": [
           {
            "marker": {
             "line": {
              "color": "#283442"
             }
            },
            "type": "scatter"
           }
          ],
          "scatter3d": [
           {
            "line": {
             "colorbar": {
              "outlinewidth": 0,
              "ticks": ""
             }
            },
            "marker": {
             "colorbar": {
              "outlinewidth": 0,
              "ticks": ""
             }
            },
            "type": "scatter3d"
           }
          ],
          "scattercarpet": [
           {
            "marker": {
             "colorbar": {
              "outlinewidth": 0,
              "ticks": ""
             }
            },
            "type": "scattercarpet"
           }
          ],
          "scattergeo": [
           {
            "marker": {
             "colorbar": {
              "outlinewidth": 0,
              "ticks": ""
             }
            },
            "type": "scattergeo"
           }
          ],
          "scattergl": [
           {
            "marker": {
             "line": {
              "color": "#283442"
             }
            },
            "type": "scattergl"
           }
          ],
          "scattermapbox": [
           {
            "marker": {
             "colorbar": {
              "outlinewidth": 0,
              "ticks": ""
             }
            },
            "type": "scattermapbox"
           }
          ],
          "scatterpolar": [
           {
            "marker": {
             "colorbar": {
              "outlinewidth": 0,
              "ticks": ""
             }
            },
            "type": "scatterpolar"
           }
          ],
          "scatterpolargl": [
           {
            "marker": {
             "colorbar": {
              "outlinewidth": 0,
              "ticks": ""
             }
            },
            "type": "scatterpolargl"
           }
          ],
          "scatterternary": [
           {
            "marker": {
             "colorbar": {
              "outlinewidth": 0,
              "ticks": ""
             }
            },
            "type": "scatterternary"
           }
          ],
          "surface": [
           {
            "colorbar": {
             "outlinewidth": 0,
             "ticks": ""
            },
            "colorscale": [
             [
              0,
              "#0d0887"
             ],
             [
              0.1111111111111111,
              "#46039f"
             ],
             [
              0.2222222222222222,
              "#7201a8"
             ],
             [
              0.3333333333333333,
              "#9c179e"
             ],
             [
              0.4444444444444444,
              "#bd3786"
             ],
             [
              0.5555555555555556,
              "#d8576b"
             ],
             [
              0.6666666666666666,
              "#ed7953"
             ],
             [
              0.7777777777777778,
              "#fb9f3a"
             ],
             [
              0.8888888888888888,
              "#fdca26"
             ],
             [
              1,
              "#f0f921"
             ]
            ],
            "type": "surface"
           }
          ],
          "table": [
           {
            "cells": {
             "fill": {
              "color": "#506784"
             },
             "line": {
              "color": "rgb(17,17,17)"
             }
            },
            "header": {
             "fill": {
              "color": "#2a3f5f"
             },
             "line": {
              "color": "rgb(17,17,17)"
             }
            },
            "type": "table"
           }
          ]
         },
         "layout": {
          "annotationdefaults": {
           "arrowcolor": "#f2f5fa",
           "arrowhead": 0,
           "arrowwidth": 1
          },
          "autotypenumbers": "strict",
          "coloraxis": {
           "colorbar": {
            "outlinewidth": 0,
            "ticks": ""
           }
          },
          "colorscale": {
           "diverging": [
            [
             0,
             "#8e0152"
            ],
            [
             0.1,
             "#c51b7d"
            ],
            [
             0.2,
             "#de77ae"
            ],
            [
             0.3,
             "#f1b6da"
            ],
            [
             0.4,
             "#fde0ef"
            ],
            [
             0.5,
             "#f7f7f7"
            ],
            [
             0.6,
             "#e6f5d0"
            ],
            [
             0.7,
             "#b8e186"
            ],
            [
             0.8,
             "#7fbc41"
            ],
            [
             0.9,
             "#4d9221"
            ],
            [
             1,
             "#276419"
            ]
           ],
           "sequential": [
            [
             0,
             "#0d0887"
            ],
            [
             0.1111111111111111,
             "#46039f"
            ],
            [
             0.2222222222222222,
             "#7201a8"
            ],
            [
             0.3333333333333333,
             "#9c179e"
            ],
            [
             0.4444444444444444,
             "#bd3786"
            ],
            [
             0.5555555555555556,
             "#d8576b"
            ],
            [
             0.6666666666666666,
             "#ed7953"
            ],
            [
             0.7777777777777778,
             "#fb9f3a"
            ],
            [
             0.8888888888888888,
             "#fdca26"
            ],
            [
             1,
             "#f0f921"
            ]
           ],
           "sequentialminus": [
            [
             0,
             "#0d0887"
            ],
            [
             0.1111111111111111,
             "#46039f"
            ],
            [
             0.2222222222222222,
             "#7201a8"
            ],
            [
             0.3333333333333333,
             "#9c179e"
            ],
            [
             0.4444444444444444,
             "#bd3786"
            ],
            [
             0.5555555555555556,
             "#d8576b"
            ],
            [
             0.6666666666666666,
             "#ed7953"
            ],
            [
             0.7777777777777778,
             "#fb9f3a"
            ],
            [
             0.8888888888888888,
             "#fdca26"
            ],
            [
             1,
             "#f0f921"
            ]
           ]
          },
          "colorway": [
           "#636efa",
           "#EF553B",
           "#00cc96",
           "#ab63fa",
           "#FFA15A",
           "#19d3f3",
           "#FF6692",
           "#B6E880",
           "#FF97FF",
           "#FECB52"
          ],
          "font": {
           "color": "#f2f5fa"
          },
          "geo": {
           "bgcolor": "rgb(17,17,17)",
           "lakecolor": "rgb(17,17,17)",
           "landcolor": "rgb(17,17,17)",
           "showlakes": true,
           "showland": true,
           "subunitcolor": "#506784"
          },
          "hoverlabel": {
           "align": "left"
          },
          "hovermode": "closest",
          "mapbox": {
           "style": "dark"
          },
          "paper_bgcolor": "rgb(17,17,17)",
          "plot_bgcolor": "rgb(17,17,17)",
          "polar": {
           "angularaxis": {
            "gridcolor": "#506784",
            "linecolor": "#506784",
            "ticks": ""
           },
           "bgcolor": "rgb(17,17,17)",
           "radialaxis": {
            "gridcolor": "#506784",
            "linecolor": "#506784",
            "ticks": ""
           }
          },
          "scene": {
           "xaxis": {
            "backgroundcolor": "rgb(17,17,17)",
            "gridcolor": "#506784",
            "gridwidth": 2,
            "linecolor": "#506784",
            "showbackground": true,
            "ticks": "",
            "zerolinecolor": "#C8D4E3"
           },
           "yaxis": {
            "backgroundcolor": "rgb(17,17,17)",
            "gridcolor": "#506784",
            "gridwidth": 2,
            "linecolor": "#506784",
            "showbackground": true,
            "ticks": "",
            "zerolinecolor": "#C8D4E3"
           },
           "zaxis": {
            "backgroundcolor": "rgb(17,17,17)",
            "gridcolor": "#506784",
            "gridwidth": 2,
            "linecolor": "#506784",
            "showbackground": true,
            "ticks": "",
            "zerolinecolor": "#C8D4E3"
           }
          },
          "shapedefaults": {
           "line": {
            "color": "#f2f5fa"
           }
          },
          "sliderdefaults": {
           "bgcolor": "#C8D4E3",
           "bordercolor": "rgb(17,17,17)",
           "borderwidth": 1,
           "tickwidth": 0
          },
          "ternary": {
           "aaxis": {
            "gridcolor": "#506784",
            "linecolor": "#506784",
            "ticks": ""
           },
           "baxis": {
            "gridcolor": "#506784",
            "linecolor": "#506784",
            "ticks": ""
           },
           "bgcolor": "rgb(17,17,17)",
           "caxis": {
            "gridcolor": "#506784",
            "linecolor": "#506784",
            "ticks": ""
           }
          },
          "title": {
           "x": 0.05
          },
          "updatemenudefaults": {
           "bgcolor": "#506784",
           "borderwidth": 0
          },
          "xaxis": {
           "automargin": true,
           "gridcolor": "#283442",
           "linecolor": "#506784",
           "ticks": "",
           "title": {
            "standoff": 15
           },
           "zerolinecolor": "#283442",
           "zerolinewidth": 2
          },
          "yaxis": {
           "automargin": true,
           "gridcolor": "#283442",
           "linecolor": "#506784",
           "ticks": "",
           "title": {
            "standoff": 15
           },
           "zerolinecolor": "#283442",
           "zerolinewidth": 2
          }
         }
        },
        "title": {
         "text": "Antal smittade och antal avlidna per vecka"
        },
        "xaxis": {
         "anchor": "y",
         "domain": [
          0,
          0.94
         ]
        },
        "yaxis": {
         "anchor": "x",
         "domain": [
          0,
          1
         ],
         "title": {
          "text": "Avlidna"
         }
        },
        "yaxis2": {
         "anchor": "x",
         "overlaying": "y",
         "side": "right",
         "title": {
          "text": "Smittade"
         }
        }
       }
      }
     },
     "metadata": {},
     "output_type": "display_data"
    }
   ],
   "source": [
    "from plotly.subplots import make_subplots\n",
    "\n",
    "# Create figure with secondary y-axis\n",
    "fig1e = make_subplots(specs=[[{\"secondary_y\": True}]])\n",
    "fig1d.update_traces(yaxis=\"y2\", line_color=\"#bc0028\")\n",
    "fig1e.add_traces(fig1c.data + fig1d.data)\n",
    "\n",
    "# Title and naming\n",
    "fig1e.layout.title = \"Antal smittade och antal avlidna per vecka\"\n",
    "fig1e.layout.yaxis.title, fig1e.layout.yaxis2.title = \"Avlidna\", \"Smittade\"\n",
    "\n",
    "fig1e.show()"
   ]
  },
  {
   "cell_type": "markdown",
   "metadata": {},
   "source": [
    "---\n",
    "Same figures rendered with Seaborn:"
   ]
  },
  {
   "cell_type": "code",
   "execution_count": 111,
   "metadata": {},
   "outputs": [
    {
     "data": {
      "image/png": "[encoded data removed]",
      "text/plain": [
       "<Figure size 1500x1000 with 4 Axes>"
      ]
     },
     "metadata": {},
     "output_type": "display_data"
    }
   ],
   "source": [
    "import matplotlib.pyplot as plt\n",
    "import seaborn as sns\n",
    "\n",
    "griffig, axes = plt.subplots(2,2, figsize = (15, 10), constrained_layout = False) # Create 2x2 grid\n",
    "\n",
    "# Same figures, but with Seaborn:\n",
    "sns.lineplot(veckodata, x = \"Vecka\", y = \"Antal_avlidna_vecka\", ax = axes[0,0])\n",
    "sns.lineplot(veckodata, x = \"Vecka\", y = \"Antal_fall_vecka\", ax = axes[0,1])\n",
    "sns.lineplot(veckodata, x = \"Vecka\", y = \"Kum_antal_avlidna\", ax = axes[1, 1])\n",
    "\n",
    "# Combine both deceased and registered cases at [1,0]:\n",
    "sns.lineplot(veckodata, x = \"Vecka\", y = \"Antal_avlidna_vecka\", ax = axes[1, 0], label = \"Avlidna\")\n",
    "sns.lineplot(veckodata, x = \"Vecka\", y = \"Antal_fall_vecka\", ax = axes[1, 0], label = \"Smittade\", color = \"#bc0028\")\n",
    "\n",
    "# Change scaling\n",
    "axes[1, 0].set_yscale(\"log\")\n",
    "\n",
    "titles = [\"Avlidna / vecka\", \"Smittade / vecka\", \"Avlidna & smittade / vecka\", \"Totalt antal smittade\"]\n",
    "y_lables = [\"Antal\"] * 4\n",
    "\n",
    "# Formatting by @Andreas-Svensson\n",
    "for ax, title, y_label in zip(axes.reshape(-1), titles, y_lables):\n",
    "    ax.set_title(title)\n",
    "    ax.set_ylabel(y_label)\n",
    "    ax.xaxis.set_major_locator(plt.MaxNLocator(8))\n",
    "    ax.xaxis.set_tick_params(rotation=-15) # draws ticks at bottom of x axis with rotation\n",
    "    plt.setp(ax.get_xticklabels(), ha=\"left\", rotation_mode=\"anchor\") # anchor left part of label to tick\n",
    "    sns.set_style(\"darkgrid\")\n",
    "\n"
   ]
  },
  {
   "cell_type": "markdown",
   "metadata": {},
   "source": [
    "### <b>Uppgift 2 - uppvärmning vaccindata</b>\n",
    "I uppgifterna nedan ska du använda dig av datasetet vaccin och bladet Vaccinerade kommun och ålder. Använd Plotly express för att rita diagrammen nedan för de uppgifter som kräver diagram. Använd Pandas för att svara på frågor om datasetet.\n",
    "\n",
    "- a) Hur många län finns representerade i datasetet?\n",
    "- b) Hur många kommuner finns representerade i datasetet?\n",
    "- c) Hur stor är befolkningen som är representerad i datasetet?\n",
    "- d) Beräkna hur många barn under 18 år det finns i Sverige baserat på det här datasetet. Du får leta upp statistik på hur stor totala befolkningen är i Sverige.\n",
    "- e) Rita ett diagram som visar på åldersfördelningen av Sveriges befolkning.\n",
    "- f) Rita stapeldiagram för andel med minst 1 dos per län, andel två doser per län och andel tre doser per län\n",
    "- g) Tag Västra Götalands län och Stockholms län och rita diagram över andelen vaccinerade med minst 1 dos, två doser, tre doser och fyra doser."
   ]
  },
  {
   "cell_type": "code",
   "execution_count": 112,
   "metadata": {},
   "outputs": [
    {
     "data": {
      "text/html": [
       "<div>\n",
       "<style scoped>\n",
       "    .dataframe tbody tr th:only-of-type {\n",
       "        vertical-align: middle;\n",
       "    }\n",
       "\n",
       "    .dataframe tbody tr th {\n",
       "        vertical-align: top;\n",
       "    }\n",
       "\n",
       "    .dataframe thead th {\n",
       "        text-align: right;\n",
       "    }\n",
       "</style>\n",
       "<table border=\"1\" class=\"dataframe\">\n",
       "  <thead>\n",
       "    <tr style=\"text-align: right;\">\n",
       "      <th></th>\n",
       "      <th>Län</th>\n",
       "      <th>Län_namn</th>\n",
       "      <th>Kommun</th>\n",
       "      <th>Kommun_namn</th>\n",
       "      <th>Ålder</th>\n",
       "      <th>Befolkning</th>\n",
       "      <th>Antal minst 1 dos</th>\n",
       "      <th>Antal minst 2 doser</th>\n",
       "      <th>Antal 3 doser</th>\n",
       "      <th>Antal 4 doser</th>\n",
       "      <th>Andel minst 1 dos</th>\n",
       "      <th>Andel minst 2 doser</th>\n",
       "      <th>Andel 3 doser</th>\n",
       "      <th>Andel 4 doser</th>\n",
       "    </tr>\n",
       "  </thead>\n",
       "  <tbody>\n",
       "    <tr>\n",
       "      <th>0</th>\n",
       "      <td>1</td>\n",
       "      <td>Stockholms län</td>\n",
       "      <td>114</td>\n",
       "      <td>Upplands Väsby</td>\n",
       "      <td>12-15</td>\n",
       "      <td>2422</td>\n",
       "      <td>1206</td>\n",
       "      <td>1046</td>\n",
       "      <td>NaN</td>\n",
       "      <td>NaN</td>\n",
       "      <td>0.497936</td>\n",
       "      <td>0.431874</td>\n",
       "      <td>NaN</td>\n",
       "      <td>NaN</td>\n",
       "    </tr>\n",
       "  </tbody>\n",
       "</table>\n",
       "</div>"
      ],
      "text/plain": [
       "   Län        Län_namn  Kommun     Kommun_namn  Ålder  Befolkning  \\\n",
       "0    1  Stockholms län     114  Upplands Väsby  12-15        2422   \n",
       "\n",
       "   Antal minst 1 dos  Antal minst 2 doser  Antal 3 doser  Antal 4 doser  \\\n",
       "0               1206                 1046            NaN            NaN   \n",
       "\n",
       "   Andel minst 1 dos  Andel minst 2 doser  Andel 3 doser  Andel 4 doser  \n",
       "0           0.497936             0.431874            NaN            NaN  "
      ]
     },
     "execution_count": 112,
     "metadata": {},
     "output_type": "execute_result"
    }
   ],
   "source": [
    "vaccin = pd.read_excel(\"Data/vaccin.xlsx\", sheet_name=\"Vaccinerade kommun och ålder\") # Create dataframe from xlsx\n",
    "vaccin.head(1) # Display column names"
   ]
  },
  {
   "cell_type": "markdown",
   "metadata": {},
   "source": [
    "### Uppgift abc)\n",
    "- Hur många län finns representerade i datasetet?\n",
    "- Hur många kommuner finns representerade i datasetet?\n",
    "- Hur stor är befolkningen som är representerad i datasetet?"
   ]
  },
  {
   "cell_type": "code",
   "execution_count": 113,
   "metadata": {},
   "outputs": [
    {
     "name": "stdout",
     "output_type": "stream",
     "text": [
      "Det finns 21 län och 290 kommuner. Befolkningsmängden är 9092790.\n"
     ]
    }
   ],
   "source": [
    "a2 = len(vaccin[\"Län_namn\"].unique()) # Return unique values within \"Län_namn\"\n",
    "b2 = len(vaccin[\"Kommun_namn\"].unique()) # Return unique values within \"Kommun_namn\"\n",
    "c2 = vaccin[\"Befolkning\"].sum() # Sum of \"Befolkning\"\n",
    "\n",
    "print(f\"Det finns {a2} län och {b2} kommuner. Befolkningsmängden är {c2}.\")"
   ]
  },
  {
   "cell_type": "markdown",
   "metadata": {},
   "source": [
    "### Uppgift d) TODO ⚠️\n",
    "Beräkna hur många barn under 18 år det finns i Sverige baserat på det här datasetet. Du får leta upp statistik på hur stor totala befolkningen är i Sverige.\n"
   ]
  },
  {
   "cell_type": "code",
   "execution_count": 114,
   "metadata": {},
   "outputs": [
    {
     "data": {
      "text/plain": [
       "0    12-15\n",
       "1    16-17\n",
       "2    18-29\n",
       "Name: Ålder, dtype: object"
      ]
     },
     "execution_count": 114,
     "metadata": {},
     "output_type": "execute_result"
    }
   ],
   "source": [
    "vaccin[\"Ålder\"][0:3]"
   ]
  },
  {
   "cell_type": "code",
   "execution_count": 115,
   "metadata": {},
   "outputs": [
    {
     "data": {
      "text/plain": [
       "0       2422\n",
       "1       1203\n",
       "2       6692\n",
       "3       7332\n",
       "4       6946\n",
       "        ... \n",
       "2895    3079\n",
       "2896    2781\n",
       "2897    2194\n",
       "2898    1280\n",
       "2899     219\n",
       "Name: Befolkning, Length: 2900, dtype: int64"
      ]
     },
     "execution_count": 115,
     "metadata": {},
     "output_type": "execute_result"
    }
   ],
   "source": [
    "vaccin[\"Befolkning\"]"
   ]
  },
  {
   "cell_type": "markdown",
   "metadata": {},
   "source": [
    "### Uppgift e)\n",
    "Rita ett diagram som visar på åldersfördelningen av Sveriges befolkning."
   ]
  },
  {
   "cell_type": "code",
   "execution_count": 116,
   "metadata": {},
   "outputs": [
    {
     "data": {
      "application/vnd.plotly.v1+json": {
       "config": {
        "plotlyServerURL": "https://plot.ly"
       },
       "data": [
        {
         "domain": {
          "x": [
           0,
           1
          ],
          "y": [
           0,
           1
          ]
         },
         "hovertemplate": "Ålder=%{label}<br>Befolkning=%{value}<extra></extra>",
         "labels": [
          "12-15",
          "16-17",
          "18-29",
          "30-39",
          "40-49",
          "50-59",
          "60-69",
          "70-79",
          "80-89",
          "90 eller äldre",
          "12-15",
          "16-17",
          "18-29",
          "30-39",
          "40-49",
          "50-59",
          "60-69",
          "70-79",
          "80-89",
          "90 eller äldre",
          "12-15",
          "16-17",
          "18-29",
          "30-39",
          "40-49",
          "50-59",
          "60-69",
          "70-79",
          "80-89",
          "90 eller äldre",
          "12-15",
          "16-17",
          "18-29",
          "30-39",
          "40-49",
          "50-59",
          "60-69",
          "70-79",
          "80-89",
          "90 eller äldre",
          "12-15",
          "16-17",
          "18-29",
          "30-39",
          "40-49",
          "50-59",
          "60-69",
          "70-79",
          "80-89",
          "90 eller äldre",
          "12-15",
          "16-17",
          "18-29",
          "30-39",
          "40-49",
          "50-59",
          "60-69",
          "70-79",
          "80-89",
          "90 eller äldre",
          "12-15",
          "16-17",
          "18-29",
          "30-39",
          "40-49",
          "50-59",
          "60-69",
          "70-79",
          "80-89",
          "90 eller äldre",
          "12-15",
          "16-17",
          "18-29",
          "30-39",
          "40-49",
          "50-59",
          "60-69",
          "70-79",
          "80-89",
          "90 eller äldre",
          "12-15",
          "16-17",
          "18-29",
          "30-39",
          "40-49",
          "50-59",
          "60-69",
          "70-79",
          "80-89",
          "90 eller äldre",
          "12-15",
          "16-17",
          "18-29",
          "30-39",
          "40-49",
          "50-59",
          "60-69",
          "70-79",
          "80-89",
          "90 eller äldre",
          "12-15",
          "16-17",
          "18-29",
          "30-39",
          "40-49",
          "50-59",
          "60-69",
          "70-79",
          "80-89",
          "90 eller äldre",
          "12-15",
          "16-17",
          "18-29",
          "30-39",
          "40-49",
          "50-59",
          "60-69",
          "70-79",
          "80-89",
          "90 eller äldre",
          "12-15",
          "16-17",
          "18-29",
          "30-39",
          "40-49",
          "50-59",
          "60-69",
          "70-79",
          "80-89",
          "90 eller äldre",
          "12-15",
          "16-17",
          "18-29",
          "30-39",
          "40-49",
          "50-59",
          "60-69",
          "70-79",
          "80-89",
          "90 eller äldre",
          "12-15",
          "16-17",
          "18-29",
          "30-39",
          "40-49",
          "50-59",
          "60-69",
          "70-79",
          "80-89",
          "90 eller äldre",
          "12-15",
          "16-17",
          "18-29",
          "30-39",
          "40-49",
          "50-59",
          "60-69",
          "70-79",
          "80-89",
          "90 eller äldre",
          "12-15",
          "16-17",
          "18-29",
          "30-39",
          "40-49",
          "50-59",
          "60-69",
          "70-79",
          "80-89",
          "90 eller äldre",
          "12-15",
          "16-17",
          "18-29",
          "30-39",
          "40-49",
          "50-59",
          "60-69",
          "70-79",
          "80-89",
          "90 eller äldre",
          "12-15",
          "16-17",
          "18-29",
          "30-39",
          "40-49",
          "50-59",
          "60-69",
          "70-79",
          "80-89",
          "90 eller äldre",
          "12-15",
          "16-17",
          "18-29",
          "30-39",
          "40-49",
          "50-59",
          "60-69",
          "70-79",
          "80-89",
          "90 eller äldre",
          "12-15",
          "16-17",
          "18-29",
          "30-39",
          "40-49",
          "50-59",
          "60-69",
          "70-79",
          "80-89",
          "90 eller äldre",
          "12-15",
          "16-17",
          "18-29",
          "30-39",
          "40-49",
          "50-59",
          "60-69",
          "70-79",
          "80-89",
          "90 eller äldre",
          "12-15",
          "16-17",
          "18-29",
          "30-39",
          "40-49",
          "50-59",
          "60-69",
          "70-79",
          "80-89",
          "90 eller äldre",
          "12-15",
          "16-17",
          "18-29",
          "30-39",
          "40-49",
          "50-59",
          "60-69",
          "70-79",
          "80-89",
          "90 eller äldre",
          "12-15",
          "16-17",
          "18-29",
          "30-39",
          "40-49",
          "50-59",
          "60-69",
          "70-79",
          "80-89",
          "90 eller äldre",
          "12-15",
          "16-17",
          "18-29",
          "30-39",
          "40-49",
          "50-59",
          "60-69",
          "70-79",
          "80-89",
          "90 eller äldre",
          "12-15",
          "16-17",
          "18-29",
          "30-39",
          "40-49",
          "50-59",
          "60-69",
          "70-79",
          "80-89",
          "90 eller äldre",
          "12-15",
          "16-17",
          "18-29",
          "30-39",
          "40-49",
          "50-59",
          "60-69",
          "70-79",
          "80-89",
          "90 eller äldre",
          "12-15",
          "16-17",
          "18-29",
          "30-39",
          "40-49",
          "50-59",
          "60-69",
          "70-79",
          "80-89",
          "90 eller äldre",
          "12-15",
          "16-17",
          "18-29",
          "30-39",
          "40-49",
          "50-59",
          "60-69",
          "70-79",
          "80-89",
          "90 eller äldre",
          "12-15",
          "16-17",
          "18-29",
          "30-39",
          "40-49",
          "50-59",
          "60-69",
          "70-79",
          "80-89",
          "90 eller äldre",
          "12-15",
          "16-17",
          "18-29",
          "30-39",
          "40-49",
          "50-59",
          "60-69",
          "70-79",
          "80-89",
          "90 eller äldre",
          "12-15",
          "16-17",
          "18-29",
          "30-39",
          "40-49",
          "50-59",
          "60-69",
          "70-79",
          "80-89",
          "90 eller äldre",
          "12-15",
          "16-17",
          "18-29",
          "30-39",
          "40-49",
          "50-59",
          "60-69",
          "70-79",
          "80-89",
          "90 eller äldre",
          "12-15",
          "16-17",
          "18-29",
          "30-39",
          "40-49",
          "50-59",
          "60-69",
          "70-79",
          "80-89",
          "90 eller äldre",
          "12-15",
          "16-17",
          "18-29",
          "30-39",
          "40-49",
          "50-59",
          "60-69",
          "70-79",
          "80-89",
          "90 eller äldre",
          "12-15",
          "16-17",
          "18-29",
          "30-39",
          "40-49",
          "50-59",
          "60-69",
          "70-79",
          "80-89",
          "90 eller äldre",
          "12-15",
          "16-17",
          "18-29",
          "30-39",
          "40-49",
          "50-59",
          "60-69",
          "70-79",
          "80-89",
          "90 eller äldre",
          "12-15",
          "16-17",
          "18-29",
          "30-39",
          "40-49",
          "50-59",
          "60-69",
          "70-79",
          "80-89",
          "90 eller äldre",
          "12-15",
          "16-17",
          "18-29",
          "30-39",
          "40-49",
          "50-59",
          "60-69",
          "70-79",
          "80-89",
          "90 eller äldre",
          "12-15",
          "16-17",
          "18-29",
          "30-39",
          "40-49",
          "50-59",
          "60-69",
          "70-79",
          "80-89",
          "90 eller äldre",
          "12-15",
          "16-17",
          "18-29",
          "30-39",
          "40-49",
          "50-59",
          "60-69",
          "70-79",
          "80-89",
          "90 eller äldre",
          "12-15",
          "16-17",
          "18-29",
          "30-39",
          "40-49",
          "50-59",
          "60-69",
          "70-79",
          "80-89",
          "90 eller äldre",
          "12-15",
          "16-17",
          "18-29",
          "30-39",
          "40-49",
          "50-59",
          "60-69",
          "70-79",
          "80-89",
          "90 eller äldre",
          "12-15",
          "16-17",
          "18-29",
          "30-39",
          "40-49",
          "50-59",
          "60-69",
          "70-79",
          "80-89",
          "90 eller äldre",
          "12-15",
          "16-17",
          "18-29",
          "30-39",
          "40-49",
          "50-59",
          "60-69",
          "70-79",
          "80-89",
          "90 eller äldre",
          "12-15",
          "16-17",
          "18-29",
          "30-39",
          "40-49",
          "50-59",
          "60-69",
          "70-79",
          "80-89",
          "90 eller äldre",
          "12-15",
          "16-17",
          "18-29",
          "30-39",
          "40-49",
          "50-59",
          "60-69",
          "70-79",
          "80-89",
          "90 eller äldre",
          "12-15",
          "16-17",
          "18-29",
          "30-39",
          "40-49",
          "50-59",
          "60-69",
          "70-79",
          "80-89",
          "90 eller äldre",
          "12-15",
          "16-17",
          "18-29",
          "30-39",
          "40-49",
          "50-59",
          "60-69",
          "70-79",
          "80-89",
          "90 eller äldre",
          "12-15",
          "16-17",
          "18-29",
          "30-39",
          "40-49",
          "50-59",
          "60-69",
          "70-79",
          "80-89",
          "90 eller äldre",
          "12-15",
          "16-17",
          "18-29",
          "30-39",
          "40-49",
          "50-59",
          "60-69",
          "70-79",
          "80-89",
          "90 eller äldre",
          "12-15",
          "16-17",
          "18-29",
          "30-39",
          "40-49",
          "50-59",
          "60-69",
          "70-79",
          "80-89",
          "90 eller äldre",
          "12-15",
          "16-17",
          "18-29",
          "30-39",
          "40-49",
          "50-59",
          "60-69",
          "70-79",
          "80-89",
          "90 eller äldre",
          "12-15",
          "16-17",
          "18-29",
          "30-39",
          "40-49",
          "50-59",
          "60-69",
          "70-79",
          "80-89",
          "90 eller äldre",
          "12-15",
          "16-17",
          "18-29",
          "30-39",
          "40-49",
          "50-59",
          "60-69",
          "70-79",
          "80-89",
          "90 eller äldre",
          "12-15",
          "16-17",
          "18-29",
          "30-39",
          "40-49",
          "50-59",
          "60-69",
          "70-79",
          "80-89",
          "90 eller äldre",
          "12-15",
          "16-17",
          "18-29",
          "30-39",
          "40-49",
          "50-59",
          "60-69",
          "70-79",
          "80-89",
          "90 eller äldre",
          "12-15",
          "16-17",
          "18-29",
          "30-39",
          "40-49",
          "50-59",
          "60-69",
          "70-79",
          "80-89",
          "90 eller äldre",
          "12-15",
          "16-17",
          "18-29",
          "30-39",
          "40-49",
          "50-59",
          "60-69",
          "70-79",
          "80-89",
          "90 eller äldre",
          "12-15",
          "16-17",
          "18-29",
          "30-39",
          "40-49",
          "50-59",
          "60-69",
          "70-79",
          "80-89",
          "90 eller äldre",
          "12-15",
          "16-17",
          "18-29",
          "30-39",
          "40-49",
          "50-59",
          "60-69",
          "70-79",
          "80-89",
          "90 eller äldre",
          "12-15",
          "16-17",
          "18-29",
          "30-39",
          "40-49",
          "50-59",
          "60-69",
          "70-79",
          "80-89",
          "90 eller äldre",
          "12-15",
          "16-17",
          "18-29",
          "30-39",
          "40-49",
          "50-59",
          "60-69",
          "70-79",
          "80-89",
          "90 eller äldre",
          "12-15",
          "16-17",
          "18-29",
          "30-39",
          "40-49",
          "50-59",
          "60-69",
          "70-79",
          "80-89",
          "90 eller äldre",
          "12-15",
          "16-17",
          "18-29",
          "30-39",
          "40-49",
          "50-59",
          "60-69",
          "70-79",
          "80-89",
          "90 eller äldre",
          "12-15",
          "16-17",
          "18-29",
          "30-39",
          "40-49",
          "50-59",
          "60-69",
          "70-79",
          "80-89",
          "90 eller äldre",
          "12-15",
          "16-17",
          "18-29",
          "30-39",
          "40-49",
          "50-59",
          "60-69",
          "70-79",
          "80-89",
          "90 eller äldre",
          "12-15",
          "16-17",
          "18-29",
          "30-39",
          "40-49",
          "50-59",
          "60-69",
          "70-79",
          "80-89",
          "90 eller äldre",
          "12-15",
          "16-17",
          "18-29",
          "30-39",
          "40-49",
          "50-59",
          "60-69",
          "70-79",
          "80-89",
          "90 eller äldre",
          "12-15",
          "16-17",
          "18-29",
          "30-39",
          "40-49",
          "50-59",
          "60-69",
          "70-79",
          "80-89",
          "90 eller äldre",
          "12-15",
          "16-17",
          "18-29",
          "30-39",
          "40-49",
          "50-59",
          "60-69",
          "70-79",
          "80-89",
          "90 eller äldre",
          "12-15",
          "16-17",
          "18-29",
          "30-39",
          "40-49",
          "50-59",
          "60-69",
          "70-79",
          "80-89",
          "90 eller äldre",
          "12-15",
          "16-17",
          "18-29",
          "30-39",
          "40-49",
          "50-59",
          "60-69",
          "70-79",
          "80-89",
          "90 eller äldre",
          "12-15",
          "16-17",
          "18-29",
          "30-39",
          "40-49",
          "50-59",
          "60-69",
          "70-79",
          "80-89",
          "90 eller äldre",
          "12-15",
          "16-17",
          "18-29",
          "30-39",
          "40-49",
          "50-59",
          "60-69",
          "70-79",
          "80-89",
          "90 eller äldre",
          "12-15",
          "16-17",
          "18-29",
          "30-39",
          "40-49",
          "50-59",
          "60-69",
          "70-79",
          "80-89",
          "90 eller äldre",
          "12-15",
          "16-17",
          "18-29",
          "30-39",
          "40-49",
          "50-59",
          "60-69",
          "70-79",
          "80-89",
          "90 eller äldre",
          "12-15",
          "16-17",
          "18-29",
          "30-39",
          "40-49",
          "50-59",
          "60-69",
          "70-79",
          "80-89",
          "90 eller äldre",
          "12-15",
          "16-17",
          "18-29",
          "30-39",
          "40-49",
          "50-59",
          "60-69",
          "70-79",
          "80-89",
          "90 eller äldre",
          "12-15",
          "16-17",
          "18-29",
          "30-39",
          "40-49",
          "50-59",
          "60-69",
          "70-79",
          "80-89",
          "90 eller äldre",
          "12-15",
          "16-17",
          "18-29",
          "30-39",
          "40-49",
          "50-59",
          "60-69",
          "70-79",
          "80-89",
          "90 eller äldre",
          "12-15",
          "16-17",
          "18-29",
          "30-39",
          "40-49",
          "50-59",
          "60-69",
          "70-79",
          "80-89",
          "90 eller äldre",
          "12-15",
          "16-17",
          "18-29",
          "30-39",
          "40-49",
          "50-59",
          "60-69",
          "70-79",
          "80-89",
          "90 eller äldre",
          "12-15",
          "16-17",
          "18-29",
          "30-39",
          "40-49",
          "50-59",
          "60-69",
          "70-79",
          "80-89",
          "90 eller äldre",
          "12-15",
          "16-17",
          "18-29",
          "30-39",
          "40-49",
          "50-59",
          "60-69",
          "70-79",
          "80-89",
          "90 eller äldre",
          "12-15",
          "16-17",
          "18-29",
          "30-39",
          "40-49",
          "50-59",
          "60-69",
          "70-79",
          "80-89",
          "90 eller äldre",
          "12-15",
          "16-17",
          "18-29",
          "30-39",
          "40-49",
          "50-59",
          "60-69",
          "70-79",
          "80-89",
          "90 eller äldre",
          "12-15",
          "16-17",
          "18-29",
          "30-39",
          "40-49",
          "50-59",
          "60-69",
          "70-79",
          "80-89",
          "90 eller äldre",
          "12-15",
          "16-17",
          "18-29",
          "30-39",
          "40-49",
          "50-59",
          "60-69",
          "70-79",
          "80-89",
          "90 eller äldre",
          "12-15",
          "16-17",
          "18-29",
          "30-39",
          "40-49",
          "50-59",
          "60-69",
          "70-79",
          "80-89",
          "90 eller äldre",
          "12-15",
          "16-17",
          "18-29",
          "30-39",
          "40-49",
          "50-59",
          "60-69",
          "70-79",
          "80-89",
          "90 eller äldre",
          "12-15",
          "16-17",
          "18-29",
          "30-39",
          "40-49",
          "50-59",
          "60-69",
          "70-79",
          "80-89",
          "90 eller äldre",
          "12-15",
          "16-17",
          "18-29",
          "30-39",
          "40-49",
          "50-59",
          "60-69",
          "70-79",
          "80-89",
          "90 eller äldre",
          "12-15",
          "16-17",
          "18-29",
          "30-39",
          "40-49",
          "50-59",
          "60-69",
          "70-79",
          "80-89",
          "90 eller äldre",
          "12-15",
          "16-17",
          "18-29",
          "30-39",
          "40-49",
          "50-59",
          "60-69",
          "70-79",
          "80-89",
          "90 eller äldre",
          "12-15",
          "16-17",
          "18-29",
          "30-39",
          "40-49",
          "50-59",
          "60-69",
          "70-79",
          "80-89",
          "90 eller äldre",
          "12-15",
          "16-17",
          "18-29",
          "30-39",
          "40-49",
          "50-59",
          "60-69",
          "70-79",
          "80-89",
          "90 eller äldre",
          "12-15",
          "16-17",
          "18-29",
          "30-39",
          "40-49",
          "50-59",
          "60-69",
          "70-79",
          "80-89",
          "90 eller äldre",
          "12-15",
          "16-17",
          "18-29",
          "30-39",
          "40-49",
          "50-59",
          "60-69",
          "70-79",
          "80-89",
          "90 eller äldre",
          "12-15",
          "16-17",
          "18-29",
          "30-39",
          "40-49",
          "50-59",
          "60-69",
          "70-79",
          "80-89",
          "90 eller äldre",
          "12-15",
          "16-17",
          "18-29",
          "30-39",
          "40-49",
          "50-59",
          "60-69",
          "70-79",
          "80-89",
          "90 eller äldre",
          "12-15",
          "16-17",
          "18-29",
          "30-39",
          "40-49",
          "50-59",
          "60-69",
          "70-79",
          "80-89",
          "90 eller äldre",
          "12-15",
          "16-17",
          "18-29",
          "30-39",
          "40-49",
          "50-59",
          "60-69",
          "70-79",
          "80-89",
          "90 eller äldre",
          "12-15",
          "16-17",
          "18-29",
          "30-39",
          "40-49",
          "50-59",
          "60-69",
          "70-79",
          "80-89",
          "90 eller äldre",
          "12-15",
          "16-17",
          "18-29",
          "30-39",
          "40-49",
          "50-59",
          "60-69",
          "70-79",
          "80-89",
          "90 eller äldre",
          "12-15",
          "16-17",
          "18-29",
          "30-39",
          "40-49",
          "50-59",
          "60-69",
          "70-79",
          "80-89",
          "90 eller äldre",
          "12-15",
          "16-17",
          "18-29",
          "30-39",
          "40-49",
          "50-59",
          "60-69",
          "70-79",
          "80-89",
          "90 eller äldre",
          "12-15",
          "16-17",
          "18-29",
          "30-39",
          "40-49",
          "50-59",
          "60-69",
          "70-79",
          "80-89",
          "90 eller äldre",
          "12-15",
          "16-17",
          "18-29",
          "30-39",
          "40-49",
          "50-59",
          "60-69",
          "70-79",
          "80-89",
          "90 eller äldre",
          "12-15",
          "16-17",
          "18-29",
          "30-39",
          "40-49",
          "50-59",
          "60-69",
          "70-79",
          "80-89",
          "90 eller äldre",
          "12-15",
          "16-17",
          "18-29",
          "30-39",
          "40-49",
          "50-59",
          "60-69",
          "70-79",
          "80-89",
          "90 eller äldre",
          "12-15",
          "16-17",
          "18-29",
          "30-39",
          "40-49",
          "50-59",
          "60-69",
          "70-79",
          "80-89",
          "90 eller äldre",
          "12-15",
          "16-17",
          "18-29",
          "30-39",
          "40-49",
          "50-59",
          "60-69",
          "70-79",
          "80-89",
          "90 eller äldre",
          "12-15",
          "16-17",
          "18-29",
          "30-39",
          "40-49",
          "50-59",
          "60-69",
          "70-79",
          "80-89",
          "90 eller äldre",
          "12-15",
          "16-17",
          "18-29",
          "30-39",
          "40-49",
          "50-59",
          "60-69",
          "70-79",
          "80-89",
          "90 eller äldre",
          "12-15",
          "16-17",
          "18-29",
          "30-39",
          "40-49",
          "50-59",
          "60-69",
          "70-79",
          "80-89",
          "90 eller äldre",
          "12-15",
          "16-17",
          "18-29",
          "30-39",
          "40-49",
          "50-59",
          "60-69",
          "70-79",
          "80-89",
          "90 eller äldre",
          "12-15",
          "16-17",
          "18-29",
          "30-39",
          "40-49",
          "50-59",
          "60-69",
          "70-79",
          "80-89",
          "90 eller äldre",
          "12-15",
          "16-17",
          "18-29",
          "30-39",
          "40-49",
          "50-59",
          "60-69",
          "70-79",
          "80-89",
          "90 eller äldre",
          "12-15",
          "16-17",
          "18-29",
          "30-39",
          "40-49",
          "50-59",
          "60-69",
          "70-79",
          "80-89",
          "90 eller äldre",
          "12-15",
          "16-17",
          "18-29",
          "30-39",
          "40-49",
          "50-59",
          "60-69",
          "70-79",
          "80-89",
          "90 eller äldre",
          "12-15",
          "16-17",
          "18-29",
          "30-39",
          "40-49",
          "50-59",
          "60-69",
          "70-79",
          "80-89",
          "90 eller äldre",
          "12-15",
          "16-17",
          "18-29",
          "30-39",
          "40-49",
          "50-59",
          "60-69",
          "70-79",
          "80-89",
          "90 eller äldre",
          "12-15",
          "16-17",
          "18-29",
          "30-39",
          "40-49",
          "50-59",
          "60-69",
          "70-79",
          "80-89",
          "90 eller äldre",
          "12-15",
          "16-17",
          "18-29",
          "30-39",
          "40-49",
          "50-59",
          "60-69",
          "70-79",
          "80-89",
          "90 eller äldre",
          "12-15",
          "16-17",
          "18-29",
          "30-39",
          "40-49",
          "50-59",
          "60-69",
          "70-79",
          "80-89",
          "90 eller äldre",
          "12-15",
          "16-17",
          "18-29",
          "30-39",
          "40-49",
          "50-59",
          "60-69",
          "70-79",
          "80-89",
          "90 eller äldre",
          "12-15",
          "16-17",
          "18-29",
          "30-39",
          "40-49",
          "50-59",
          "60-69",
          "70-79",
          "80-89",
          "90 eller äldre",
          "12-15",
          "16-17",
          "18-29",
          "30-39",
          "40-49",
          "50-59",
          "60-69",
          "70-79",
          "80-89",
          "90 eller äldre",
          "12-15",
          "16-17",
          "18-29",
          "30-39",
          "40-49",
          "50-59",
          "60-69",
          "70-79",
          "80-89",
          "90 eller äldre",
          "12-15",
          "16-17",
          "18-29",
          "30-39",
          "40-49",
          "50-59",
          "60-69",
          "70-79",
          "80-89",
          "90 eller äldre",
          "12-15",
          "16-17",
          "18-29",
          "30-39",
          "40-49",
          "50-59",
          "60-69",
          "70-79",
          "80-89",
          "90 eller äldre",
          "12-15",
          "16-17",
          "18-29",
          "30-39",
          "40-49",
          "50-59",
          "60-69",
          "70-79",
          "80-89",
          "90 eller äldre",
          "12-15",
          "16-17",
          "18-29",
          "30-39",
          "40-49",
          "50-59",
          "60-69",
          "70-79",
          "80-89",
          "90 eller äldre",
          "12-15",
          "16-17",
          "18-29",
          "30-39",
          "40-49",
          "50-59",
          "60-69",
          "70-79",
          "80-89",
          "90 eller äldre",
          "12-15",
          "16-17",
          "18-29",
          "30-39",
          "40-49",
          "50-59",
          "60-69",
          "70-79",
          "80-89",
          "90 eller äldre",
          "12-15",
          "16-17",
          "18-29",
          "30-39",
          "40-49",
          "50-59",
          "60-69",
          "70-79",
          "80-89",
          "90 eller äldre",
          "12-15",
          "16-17",
          "18-29",
          "30-39",
          "40-49",
          "50-59",
          "60-69",
          "70-79",
          "80-89",
          "90 eller äldre",
          "12-15",
          "16-17",
          "18-29",
          "30-39",
          "40-49",
          "50-59",
          "60-69",
          "70-79",
          "80-89",
          "90 eller äldre",
          "12-15",
          "16-17",
          "18-29",
          "30-39",
          "40-49",
          "50-59",
          "60-69",
          "70-79",
          "80-89",
          "90 eller äldre",
          "12-15",
          "16-17",
          "18-29",
          "30-39",
          "40-49",
          "50-59",
          "60-69",
          "70-79",
          "80-89",
          "90 eller äldre",
          "12-15",
          "16-17",
          "18-29",
          "30-39",
          "40-49",
          "50-59",
          "60-69",
          "70-79",
          "80-89",
          "90 eller äldre",
          "12-15",
          "16-17",
          "18-29",
          "30-39",
          "40-49",
          "50-59",
          "60-69",
          "70-79",
          "80-89",
          "90 eller äldre",
          "12-15",
          "16-17",
          "18-29",
          "30-39",
          "40-49",
          "50-59",
          "60-69",
          "70-79",
          "80-89",
          "90 eller äldre",
          "12-15",
          "16-17",
          "18-29",
          "30-39",
          "40-49",
          "50-59",
          "60-69",
          "70-79",
          "80-89",
          "90 eller äldre",
          "12-15",
          "16-17",
          "18-29",
          "30-39",
          "40-49",
          "50-59",
          "60-69",
          "70-79",
          "80-89",
          "90 eller äldre",
          "12-15",
          "16-17",
          "18-29",
          "30-39",
          "40-49",
          "50-59",
          "60-69",
          "70-79",
          "80-89",
          "90 eller äldre",
          "12-15",
          "16-17",
          "18-29",
          "30-39",
          "40-49",
          "50-59",
          "60-69",
          "70-79",
          "80-89",
          "90 eller äldre",
          "12-15",
          "16-17",
          "18-29",
          "30-39",
          "40-49",
          "50-59",
          "60-69",
          "70-79",
          "80-89",
          "90 eller äldre",
          "12-15",
          "16-17",
          "18-29",
          "30-39",
          "40-49",
          "50-59",
          "60-69",
          "70-79",
          "80-89",
          "90 eller äldre",
          "12-15",
          "16-17",
          "18-29",
          "30-39",
          "40-49",
          "50-59",
          "60-69",
          "70-79",
          "80-89",
          "90 eller äldre",
          "12-15",
          "16-17",
          "18-29",
          "30-39",
          "40-49",
          "50-59",
          "60-69",
          "70-79",
          "80-89",
          "90 eller äldre",
          "12-15",
          "16-17",
          "18-29",
          "30-39",
          "40-49",
          "50-59",
          "60-69",
          "70-79",
          "80-89",
          "90 eller äldre",
          "12-15",
          "16-17",
          "18-29",
          "30-39",
          "40-49",
          "50-59",
          "60-69",
          "70-79",
          "80-89",
          "90 eller äldre",
          "12-15",
          "16-17",
          "18-29",
          "30-39",
          "40-49",
          "50-59",
          "60-69",
          "70-79",
          "80-89",
          "90 eller äldre",
          "12-15",
          "16-17",
          "18-29",
          "30-39",
          "40-49",
          "50-59",
          "60-69",
          "70-79",
          "80-89",
          "90 eller äldre",
          "12-15",
          "16-17",
          "18-29",
          "30-39",
          "40-49",
          "50-59",
          "60-69",
          "70-79",
          "80-89",
          "90 eller äldre",
          "12-15",
          "16-17",
          "18-29",
          "30-39",
          "40-49",
          "50-59",
          "60-69",
          "70-79",
          "80-89",
          "90 eller äldre",
          "12-15",
          "16-17",
          "18-29",
          "30-39",
          "40-49",
          "50-59",
          "60-69",
          "70-79",
          "80-89",
          "90 eller äldre",
          "12-15",
          "16-17",
          "18-29",
          "30-39",
          "40-49",
          "50-59",
          "60-69",
          "70-79",
          "80-89",
          "90 eller äldre",
          "12-15",
          "16-17",
          "18-29",
          "30-39",
          "40-49",
          "50-59",
          "60-69",
          "70-79",
          "80-89",
          "90 eller äldre",
          "12-15",
          "16-17",
          "18-29",
          "30-39",
          "40-49",
          "50-59",
          "60-69",
          "70-79",
          "80-89",
          "90 eller äldre",
          "12-15",
          "16-17",
          "18-29",
          "30-39",
          "40-49",
          "50-59",
          "60-69",
          "70-79",
          "80-89",
          "90 eller äldre",
          "12-15",
          "16-17",
          "18-29",
          "30-39",
          "40-49",
          "50-59",
          "60-69",
          "70-79",
          "80-89",
          "90 eller äldre",
          "12-15",
          "16-17",
          "18-29",
          "30-39",
          "40-49",
          "50-59",
          "60-69",
          "70-79",
          "80-89",
          "90 eller äldre",
          "12-15",
          "16-17",
          "18-29",
          "30-39",
          "40-49",
          "50-59",
          "60-69",
          "70-79",
          "80-89",
          "90 eller äldre",
          "12-15",
          "16-17",
          "18-29",
          "30-39",
          "40-49",
          "50-59",
          "60-69",
          "70-79",
          "80-89",
          "90 eller äldre",
          "12-15",
          "16-17",
          "18-29",
          "30-39",
          "40-49",
          "50-59",
          "60-69",
          "70-79",
          "80-89",
          "90 eller äldre",
          "12-15",
          "16-17",
          "18-29",
          "30-39",
          "40-49",
          "50-59",
          "60-69",
          "70-79",
          "80-89",
          "90 eller äldre",
          "12-15",
          "16-17",
          "18-29",
          "30-39",
          "40-49",
          "50-59",
          "60-69",
          "70-79",
          "80-89",
          "90 eller äldre",
          "12-15",
          "16-17",
          "18-29",
          "30-39",
          "40-49",
          "50-59",
          "60-69",
          "70-79",
          "80-89",
          "90 eller äldre",
          "12-15",
          "16-17",
          "18-29",
          "30-39",
          "40-49",
          "50-59",
          "60-69",
          "70-79",
          "80-89",
          "90 eller äldre",
          "12-15",
          "16-17",
          "18-29",
          "30-39",
          "40-49",
          "50-59",
          "60-69",
          "70-79",
          "80-89",
          "90 eller äldre",
          "12-15",
          "16-17",
          "18-29",
          "30-39",
          "40-49",
          "50-59",
          "60-69",
          "70-79",
          "80-89",
          "90 eller äldre",
          "12-15",
          "16-17",
          "18-29",
          "30-39",
          "40-49",
          "50-59",
          "60-69",
          "70-79",
          "80-89",
          "90 eller äldre",
          "12-15",
          "16-17",
          "18-29",
          "30-39",
          "40-49",
          "50-59",
          "60-69",
          "70-79",
          "80-89",
          "90 eller äldre",
          "12-15",
          "16-17",
          "18-29",
          "30-39",
          "40-49",
          "50-59",
          "60-69",
          "70-79",
          "80-89",
          "90 eller äldre",
          "12-15",
          "16-17",
          "18-29",
          "30-39",
          "40-49",
          "50-59",
          "60-69",
          "70-79",
          "80-89",
          "90 eller äldre",
          "12-15",
          "16-17",
          "18-29",
          "30-39",
          "40-49",
          "50-59",
          "60-69",
          "70-79",
          "80-89",
          "90 eller äldre",
          "12-15",
          "16-17",
          "18-29",
          "30-39",
          "40-49",
          "50-59",
          "60-69",
          "70-79",
          "80-89",
          "90 eller äldre",
          "12-15",
          "16-17",
          "18-29",
          "30-39",
          "40-49",
          "50-59",
          "60-69",
          "70-79",
          "80-89",
          "90 eller äldre",
          "12-15",
          "16-17",
          "18-29",
          "30-39",
          "40-49",
          "50-59",
          "60-69",
          "70-79",
          "80-89",
          "90 eller äldre",
          "12-15",
          "16-17",
          "18-29",
          "30-39",
          "40-49",
          "50-59",
          "60-69",
          "70-79",
          "80-89",
          "90 eller äldre",
          "12-15",
          "16-17",
          "18-29",
          "30-39",
          "40-49",
          "50-59",
          "60-69",
          "70-79",
          "80-89",
          "90 eller äldre",
          "12-15",
          "16-17",
          "18-29",
          "30-39",
          "40-49",
          "50-59",
          "60-69",
          "70-79",
          "80-89",
          "90 eller äldre",
          "12-15",
          "16-17",
          "18-29",
          "30-39",
          "40-49",
          "50-59",
          "60-69",
          "70-79",
          "80-89",
          "90 eller äldre",
          "12-15",
          "16-17",
          "18-29",
          "30-39",
          "40-49",
          "50-59",
          "60-69",
          "70-79",
          "80-89",
          "90 eller äldre",
          "12-15",
          "16-17",
          "18-29",
          "30-39",
          "40-49",
          "50-59",
          "60-69",
          "70-79",
          "80-89",
          "90 eller äldre",
          "12-15",
          "16-17",
          "18-29",
          "30-39",
          "40-49",
          "50-59",
          "60-69",
          "70-79",
          "80-89",
          "90 eller äldre",
          "12-15",
          "16-17",
          "18-29",
          "30-39",
          "40-49",
          "50-59",
          "60-69",
          "70-79",
          "80-89",
          "90 eller äldre",
          "12-15",
          "16-17",
          "18-29",
          "30-39",
          "40-49",
          "50-59",
          "60-69",
          "70-79",
          "80-89",
          "90 eller äldre",
          "12-15",
          "16-17",
          "18-29",
          "30-39",
          "40-49",
          "50-59",
          "60-69",
          "70-79",
          "80-89",
          "90 eller äldre",
          "12-15",
          "16-17",
          "18-29",
          "30-39",
          "40-49",
          "50-59",
          "60-69",
          "70-79",
          "80-89",
          "90 eller äldre",
          "12-15",
          "16-17",
          "18-29",
          "30-39",
          "40-49",
          "50-59",
          "60-69",
          "70-79",
          "80-89",
          "90 eller äldre",
          "12-15",
          "16-17",
          "18-29",
          "30-39",
          "40-49",
          "50-59",
          "60-69",
          "70-79",
          "80-89",
          "90 eller äldre",
          "12-15",
          "16-17",
          "18-29",
          "30-39",
          "40-49",
          "50-59",
          "60-69",
          "70-79",
          "80-89",
          "90 eller äldre",
          "12-15",
          "16-17",
          "18-29",
          "30-39",
          "40-49",
          "50-59",
          "60-69",
          "70-79",
          "80-89",
          "90 eller äldre",
          "12-15",
          "16-17",
          "18-29",
          "30-39",
          "40-49",
          "50-59",
          "60-69",
          "70-79",
          "80-89",
          "90 eller äldre",
          "12-15",
          "16-17",
          "18-29",
          "30-39",
          "40-49",
          "50-59",
          "60-69",
          "70-79",
          "80-89",
          "90 eller äldre",
          "12-15",
          "16-17",
          "18-29",
          "30-39",
          "40-49",
          "50-59",
          "60-69",
          "70-79",
          "80-89",
          "90 eller äldre",
          "12-15",
          "16-17",
          "18-29",
          "30-39",
          "40-49",
          "50-59",
          "60-69",
          "70-79",
          "80-89",
          "90 eller äldre",
          "12-15",
          "16-17",
          "18-29",
          "30-39",
          "40-49",
          "50-59",
          "60-69",
          "70-79",
          "80-89",
          "90 eller äldre",
          "12-15",
          "16-17",
          "18-29",
          "30-39",
          "40-49",
          "50-59",
          "60-69",
          "70-79",
          "80-89",
          "90 eller äldre",
          "12-15",
          "16-17",
          "18-29",
          "30-39",
          "40-49",
          "50-59",
          "60-69",
          "70-79",
          "80-89",
          "90 eller äldre",
          "12-15",
          "16-17",
          "18-29",
          "30-39",
          "40-49",
          "50-59",
          "60-69",
          "70-79",
          "80-89",
          "90 eller äldre",
          "12-15",
          "16-17",
          "18-29",
          "30-39",
          "40-49",
          "50-59",
          "60-69",
          "70-79",
          "80-89",
          "90 eller äldre",
          "12-15",
          "16-17",
          "18-29",
          "30-39",
          "40-49",
          "50-59",
          "60-69",
          "70-79",
          "80-89",
          "90 eller äldre",
          "12-15",
          "16-17",
          "18-29",
          "30-39",
          "40-49",
          "50-59",
          "60-69",
          "70-79",
          "80-89",
          "90 eller äldre",
          "12-15",
          "16-17",
          "18-29",
          "30-39",
          "40-49",
          "50-59",
          "60-69",
          "70-79",
          "80-89",
          "90 eller äldre",
          "12-15",
          "16-17",
          "18-29",
          "30-39",
          "40-49",
          "50-59",
          "60-69",
          "70-79",
          "80-89",
          "90 eller äldre",
          "12-15",
          "16-17",
          "18-29",
          "30-39",
          "40-49",
          "50-59",
          "60-69",
          "70-79",
          "80-89",
          "90 eller äldre",
          "12-15",
          "16-17",
          "18-29",
          "30-39",
          "40-49",
          "50-59",
          "60-69",
          "70-79",
          "80-89",
          "90 eller äldre",
          "12-15",
          "16-17",
          "18-29",
          "30-39",
          "40-49",
          "50-59",
          "60-69",
          "70-79",
          "80-89",
          "90 eller äldre",
          "12-15",
          "16-17",
          "18-29",
          "30-39",
          "40-49",
          "50-59",
          "60-69",
          "70-79",
          "80-89",
          "90 eller äldre",
          "12-15",
          "16-17",
          "18-29",
          "30-39",
          "40-49",
          "50-59",
          "60-69",
          "70-79",
          "80-89",
          "90 eller äldre",
          "12-15",
          "16-17",
          "18-29",
          "30-39",
          "40-49",
          "50-59",
          "60-69",
          "70-79",
          "80-89",
          "90 eller äldre",
          "12-15",
          "16-17",
          "18-29",
          "30-39",
          "40-49",
          "50-59",
          "60-69",
          "70-79",
          "80-89",
          "90 eller äldre",
          "12-15",
          "16-17",
          "18-29",
          "30-39",
          "40-49",
          "50-59",
          "60-69",
          "70-79",
          "80-89",
          "90 eller äldre",
          "12-15",
          "16-17",
          "18-29",
          "30-39",
          "40-49",
          "50-59",
          "60-69",
          "70-79",
          "80-89",
          "90 eller äldre",
          "12-15",
          "16-17",
          "18-29",
          "30-39",
          "40-49",
          "50-59",
          "60-69",
          "70-79",
          "80-89",
          "90 eller äldre",
          "12-15",
          "16-17",
          "18-29",
          "30-39",
          "40-49",
          "50-59",
          "60-69",
          "70-79",
          "80-89",
          "90 eller äldre",
          "12-15",
          "16-17",
          "18-29",
          "30-39",
          "40-49",
          "50-59",
          "60-69",
          "70-79",
          "80-89",
          "90 eller äldre",
          "12-15",
          "16-17",
          "18-29",
          "30-39",
          "40-49",
          "50-59",
          "60-69",
          "70-79",
          "80-89",
          "90 eller äldre",
          "12-15",
          "16-17",
          "18-29",
          "30-39",
          "40-49",
          "50-59",
          "60-69",
          "70-79",
          "80-89",
          "90 eller äldre",
          "12-15",
          "16-17",
          "18-29",
          "30-39",
          "40-49",
          "50-59",
          "60-69",
          "70-79",
          "80-89",
          "90 eller äldre",
          "12-15",
          "16-17",
          "18-29",
          "30-39",
          "40-49",
          "50-59",
          "60-69",
          "70-79",
          "80-89",
          "90 eller äldre",
          "12-15",
          "16-17",
          "18-29",
          "30-39",
          "40-49",
          "50-59",
          "60-69",
          "70-79",
          "80-89",
          "90 eller äldre",
          "12-15",
          "16-17",
          "18-29",
          "30-39",
          "40-49",
          "50-59",
          "60-69",
          "70-79",
          "80-89",
          "90 eller äldre",
          "12-15",
          "16-17",
          "18-29",
          "30-39",
          "40-49",
          "50-59",
          "60-69",
          "70-79",
          "80-89",
          "90 eller äldre",
          "12-15",
          "16-17",
          "18-29",
          "30-39",
          "40-49",
          "50-59",
          "60-69",
          "70-79",
          "80-89",
          "90 eller äldre",
          "12-15",
          "16-17",
          "18-29",
          "30-39",
          "40-49",
          "50-59",
          "60-69",
          "70-79",
          "80-89",
          "90 eller äldre",
          "12-15",
          "16-17",
          "18-29",
          "30-39",
          "40-49",
          "50-59",
          "60-69",
          "70-79",
          "80-89",
          "90 eller äldre",
          "12-15",
          "16-17",
          "18-29",
          "30-39",
          "40-49",
          "50-59",
          "60-69",
          "70-79",
          "80-89",
          "90 eller äldre",
          "12-15",
          "16-17",
          "18-29",
          "30-39",
          "40-49",
          "50-59",
          "60-69",
          "70-79",
          "80-89",
          "90 eller äldre",
          "12-15",
          "16-17",
          "18-29",
          "30-39",
          "40-49",
          "50-59",
          "60-69",
          "70-79",
          "80-89",
          "90 eller äldre",
          "12-15",
          "16-17",
          "18-29",
          "30-39",
          "40-49",
          "50-59",
          "60-69",
          "70-79",
          "80-89",
          "90 eller äldre",
          "12-15",
          "16-17",
          "18-29",
          "30-39",
          "40-49",
          "50-59",
          "60-69",
          "70-79",
          "80-89",
          "90 eller äldre",
          "12-15",
          "16-17",
          "18-29",
          "30-39",
          "40-49",
          "50-59",
          "60-69",
          "70-79",
          "80-89",
          "90 eller äldre",
          "12-15",
          "16-17",
          "18-29",
          "30-39",
          "40-49",
          "50-59",
          "60-69",
          "70-79",
          "80-89",
          "90 eller äldre",
          "12-15",
          "16-17",
          "18-29",
          "30-39",
          "40-49",
          "50-59",
          "60-69",
          "70-79",
          "80-89",
          "90 eller äldre",
          "12-15",
          "16-17",
          "18-29",
          "30-39",
          "40-49",
          "50-59",
          "60-69",
          "70-79",
          "80-89",
          "90 eller äldre",
          "12-15",
          "16-17",
          "18-29",
          "30-39",
          "40-49",
          "50-59",
          "60-69",
          "70-79",
          "80-89",
          "90 eller äldre",
          "12-15",
          "16-17",
          "18-29",
          "30-39",
          "40-49",
          "50-59",
          "60-69",
          "70-79",
          "80-89",
          "90 eller äldre",
          "12-15",
          "16-17",
          "18-29",
          "30-39",
          "40-49",
          "50-59",
          "60-69",
          "70-79",
          "80-89",
          "90 eller äldre",
          "12-15",
          "16-17",
          "18-29",
          "30-39",
          "40-49",
          "50-59",
          "60-69",
          "70-79",
          "80-89",
          "90 eller äldre",
          "12-15",
          "16-17",
          "18-29",
          "30-39",
          "40-49",
          "50-59",
          "60-69",
          "70-79",
          "80-89",
          "90 eller äldre",
          "12-15",
          "16-17",
          "18-29",
          "30-39",
          "40-49",
          "50-59",
          "60-69",
          "70-79",
          "80-89",
          "90 eller äldre",
          "12-15",
          "16-17",
          "18-29",
          "30-39",
          "40-49",
          "50-59",
          "60-69",
          "70-79",
          "80-89",
          "90 eller äldre",
          "12-15",
          "16-17",
          "18-29",
          "30-39",
          "40-49",
          "50-59",
          "60-69",
          "70-79",
          "80-89",
          "90 eller äldre",
          "12-15",
          "16-17",
          "18-29",
          "30-39",
          "40-49",
          "50-59",
          "60-69",
          "70-79",
          "80-89",
          "90 eller äldre",
          "12-15",
          "16-17",
          "18-29",
          "30-39",
          "40-49",
          "50-59",
          "60-69",
          "70-79",
          "80-89",
          "90 eller äldre",
          "12-15",
          "16-17",
          "18-29",
          "30-39",
          "40-49",
          "50-59",
          "60-69",
          "70-79",
          "80-89",
          "90 eller äldre",
          "12-15",
          "16-17",
          "18-29",
          "30-39",
          "40-49",
          "50-59",
          "60-69",
          "70-79",
          "80-89",
          "90 eller äldre",
          "12-15",
          "16-17",
          "18-29",
          "30-39",
          "40-49",
          "50-59",
          "60-69",
          "70-79",
          "80-89",
          "90 eller äldre",
          "12-15",
          "16-17",
          "18-29",
          "30-39",
          "40-49",
          "50-59",
          "60-69",
          "70-79",
          "80-89",
          "90 eller äldre",
          "12-15",
          "16-17",
          "18-29",
          "30-39",
          "40-49",
          "50-59",
          "60-69",
          "70-79",
          "80-89",
          "90 eller äldre",
          "12-15",
          "16-17",
          "18-29",
          "30-39",
          "40-49",
          "50-59",
          "60-69",
          "70-79",
          "80-89",
          "90 eller äldre",
          "12-15",
          "16-17",
          "18-29",
          "30-39",
          "40-49",
          "50-59",
          "60-69",
          "70-79",
          "80-89",
          "90 eller äldre",
          "12-15",
          "16-17",
          "18-29",
          "30-39",
          "40-49",
          "50-59",
          "60-69",
          "70-79",
          "80-89",
          "90 eller äldre",
          "12-15",
          "16-17",
          "18-29",
          "30-39",
          "40-49",
          "50-59",
          "60-69",
          "70-79",
          "80-89",
          "90 eller äldre",
          "12-15",
          "16-17",
          "18-29",
          "30-39",
          "40-49",
          "50-59",
          "60-69",
          "70-79",
          "80-89",
          "90 eller äldre",
          "12-15",
          "16-17",
          "18-29",
          "30-39",
          "40-49",
          "50-59",
          "60-69",
          "70-79",
          "80-89",
          "90 eller äldre",
          "12-15",
          "16-17",
          "18-29",
          "30-39",
          "40-49",
          "50-59",
          "60-69",
          "70-79",
          "80-89",
          "90 eller äldre",
          "12-15",
          "16-17",
          "18-29",
          "30-39",
          "40-49",
          "50-59",
          "60-69",
          "70-79",
          "80-89",
          "90 eller äldre",
          "12-15",
          "16-17",
          "18-29",
          "30-39",
          "40-49",
          "50-59",
          "60-69",
          "70-79",
          "80-89",
          "90 eller äldre",
          "12-15",
          "16-17",
          "18-29",
          "30-39",
          "40-49",
          "50-59",
          "60-69",
          "70-79",
          "80-89",
          "90 eller äldre",
          "12-15",
          "16-17",
          "18-29",
          "30-39",
          "40-49",
          "50-59",
          "60-69",
          "70-79",
          "80-89",
          "90 eller äldre",
          "12-15",
          "16-17",
          "18-29",
          "30-39",
          "40-49",
          "50-59",
          "60-69",
          "70-79",
          "80-89",
          "90 eller äldre",
          "12-15",
          "16-17",
          "18-29",
          "30-39",
          "40-49",
          "50-59",
          "60-69",
          "70-79",
          "80-89",
          "90 eller äldre",
          "12-15",
          "16-17",
          "18-29",
          "30-39",
          "40-49",
          "50-59",
          "60-69",
          "70-79",
          "80-89",
          "90 eller äldre",
          "12-15",
          "16-17",
          "18-29",
          "30-39",
          "40-49",
          "50-59",
          "60-69",
          "70-79",
          "80-89",
          "90 eller äldre",
          "12-15",
          "16-17",
          "18-29",
          "30-39",
          "40-49",
          "50-59",
          "60-69",
          "70-79",
          "80-89",
          "90 eller äldre",
          "12-15",
          "16-17",
          "18-29",
          "30-39",
          "40-49",
          "50-59",
          "60-69",
          "70-79",
          "80-89",
          "90 eller äldre",
          "12-15",
          "16-17",
          "18-29",
          "30-39",
          "40-49",
          "50-59",
          "60-69",
          "70-79",
          "80-89",
          "90 eller äldre",
          "12-15",
          "16-17",
          "18-29",
          "30-39",
          "40-49",
          "50-59",
          "60-69",
          "70-79",
          "80-89",
          "90 eller äldre",
          "12-15",
          "16-17",
          "18-29",
          "30-39",
          "40-49",
          "50-59",
          "60-69",
          "70-79",
          "80-89",
          "90 eller äldre",
          "12-15",
          "16-17",
          "18-29",
          "30-39",
          "40-49",
          "50-59",
          "60-69",
          "70-79",
          "80-89",
          "90 eller äldre",
          "12-15",
          "16-17",
          "18-29",
          "30-39",
          "40-49",
          "50-59",
          "60-69",
          "70-79",
          "80-89",
          "90 eller äldre",
          "12-15",
          "16-17",
          "18-29",
          "30-39",
          "40-49",
          "50-59",
          "60-69",
          "70-79",
          "80-89",
          "90 eller äldre",
          "12-15",
          "16-17",
          "18-29",
          "30-39",
          "40-49",
          "50-59",
          "60-69",
          "70-79",
          "80-89",
          "90 eller äldre",
          "12-15",
          "16-17",
          "18-29",
          "30-39",
          "40-49",
          "50-59",
          "60-69",
          "70-79",
          "80-89",
          "90 eller äldre",
          "12-15",
          "16-17",
          "18-29",
          "30-39",
          "40-49",
          "50-59",
          "60-69",
          "70-79",
          "80-89",
          "90 eller äldre",
          "12-15",
          "16-17",
          "18-29",
          "30-39",
          "40-49",
          "50-59",
          "60-69",
          "70-79",
          "80-89",
          "90 eller äldre",
          "12-15",
          "16-17",
          "18-29",
          "30-39",
          "40-49",
          "50-59",
          "60-69",
          "70-79",
          "80-89",
          "90 eller äldre",
          "12-15",
          "16-17",
          "18-29",
          "30-39",
          "40-49",
          "50-59",
          "60-69",
          "70-79",
          "80-89",
          "90 eller äldre",
          "12-15",
          "16-17",
          "18-29",
          "30-39",
          "40-49",
          "50-59",
          "60-69",
          "70-79",
          "80-89",
          "90 eller äldre",
          "12-15",
          "16-17",
          "18-29",
          "30-39",
          "40-49",
          "50-59",
          "60-69",
          "70-79",
          "80-89",
          "90 eller äldre",
          "12-15",
          "16-17",
          "18-29",
          "30-39",
          "40-49",
          "50-59",
          "60-69",
          "70-79",
          "80-89",
          "90 eller äldre",
          "12-15",
          "16-17",
          "18-29",
          "30-39",
          "40-49",
          "50-59",
          "60-69",
          "70-79",
          "80-89",
          "90 eller äldre"
         ],
         "legendgroup": "",
         "name": "",
         "showlegend": true,
         "type": "pie",
         "values": [
          2422,
          1203,
          6692,
          7332,
          6946,
          6332,
          4258,
          3987,
          1934,
          337,
          2109,
          1014,
          4210,
          4286,
          5277,
          4996,
          3215,
          2651,
          1412,
          242,
          2655,
          1376,
          5995,
          6157,
          6737,
          7185,
          4511,
          4601,
          2065,
          371,
          2556,
          1338,
          5484,
          5706,
          6427,
          7054,
          4869,
          4324,
          1671,
          312,
          4286,
          2110,
          12501,
          13196,
          11632,
          10163,
          7441,
          6383,
          3392,
          727,
          1994,
          912,
          2938,
          3125,
          4419,
          4356,
          2937,
          2514,
          1239,
          219,
          6542,
          3137,
          16400,
          16793,
          17125,
          15106,
          10026,
          7642,
          3487,
          737,
          5286,
          2484,
          14525,
          13797,
          13871,
          12356,
          8629,
          6714,
          2909,
          527,
          1094,
          565,
          2174,
          2214,
          2364,
          2415,
          1333,
          1452,
          857,
          144,
          4975,
          2349,
          14345,
          15303,
          13557,
          12067,
          8112,
          7213,
          3315,
          531,
          2937,
          1453,
          6300,
          6153,
          6939,
          7377,
          4500,
          3974,
          2198,
          444,
          1679,
          772,
          4538,
          4817,
          4375,
          3808,
          2705,
          2460,
          986,
          183,
          719,
          358,
          1380,
          1500,
          1642,
          1658,
          1040,
          986,
          477,
          53,
          4403,
          2138,
          9661,
          8519,
          10607,
          10681,
          6772,
          6743,
          3775,
          819,
          2192,
          1195,
          4366,
          2995,
          4391,
          4877,
          3131,
          3021,
          1823,
          521,
          4536,
          2227,
          10199,
          10307,
          10882,
          10677,
          6951,
          5646,
          2926,
          641,
          42332,
          19501,
          148698,
          178611,
          135739,
          121354,
          96337,
          73370,
          31155,
          8562,
          5092,
          2539,
          15392,
          15288,
          13588,
          13613,
          10052,
          7532,
          3932,
          776,
          6322,
          3014,
          13490,
          14392,
          15886,
          15097,
          9963,
          8970,
          4088,
          988,
          2146,
          928,
          8491,
          11824,
          7469,
          6048,
          4695,
          3380,
          1301,
          324,
          2834,
          1212,
          14281,
          18716,
          11278,
          9066,
          7206,
          6272,
          2828,
          794,
          2790,
          1399,
          5878,
          5462,
          6717,
          6608,
          4813,
          4835,
          2506,
          725,
          716,
          386,
          1305,
          1031,
          1586,
          1915,
          1411,
          1491,
          536,
          103,
          2669,
          1298,
          7520,
          7887,
          6877,
          8638,
          8770,
          9059,
          4063,
          900,
          2756,
          1280,
          7284,
          7749,
          7160,
          6741,
          4468,
          3432,
          1879,
          299,
          1401,
          640,
          3668,
          3933,
          3538,
          4135,
          3341,
          3311,
          1530,
          278,
          1290,
          649,
          2830,
          2884,
          3075,
          3362,
          2075,
          2135,
          898,
          136,
          492,
          223,
          1099,
          1131,
          1090,
          1314,
          1230,
          1165,
          557,
          102,
          1254,
          595,
          2532,
          2919,
          3071,
          2476,
          1542,
          1472,
          516,
          107,
          676,
          275,
          1739,
          1820,
          1494,
          1842,
          1929,
          1684,
          845,
          176,
          988,
          461,
          2631,
          2690,
          2367,
          2802,
          2573,
          2491,
          1219,
          308,
          10934,
          5149,
          46902,
          37114,
          28677,
          26330,
          21772,
          19982,
          8801,
          2160,
          2328,
          1139,
          6269,
          6529,
          5440,
          6312,
          5205,
          4790,
          2279,
          523,
          935,
          485,
          2489,
          2600,
          2287,
          2850,
          3066,
          3195,
          1402,
          303,
          391,
          226,
          1144,
          909,
          938,
          1211,
          1193,
          1253,
          524,
          104,
          607,
          255,
          1206,
          1390,
          1478,
          1511,
          1372,
          1448,
          581,
          108,
          2826,
          1440,
          7260,
          7273,
          6668,
          7161,
          6633,
          6765,
          3447,
          760,
          548,
          266,
          1343,
          1452,
          1322,
          1438,
          1517,
          1663,
          844,
          182,
          745,
          374,
          1849,
          1582,
          1697,
          2108,
          2195,
          2366,
          1093,
          208,
          1660,
          810,
          4657,
          4305,
          3736,
          4319,
          4136,
          3934,
          1868,
          476,
          5464,
          2729,
          15448,
          14378,
          12851,
          13885,
          11347,
          10572,
          5054,
          1162,
          2020,
          1061,
          4301,
          4685,
          4769,
          5210,
          4360,
          4448,
          1926,
          378,
          743,
          330,
          1586,
          1680,
          1814,
          2045,
          1723,
          1961,
          759,
          132,
          217,
          125,
          576,
          595,
          587,
          713,
          647,
          794,
          325,
          89,
          152,
          81,
          337,
          346,
          388,
          482,
          574,
          592,
          261,
          56,
          458,
          236,
          1103,
          1159,
          1047,
          1328,
          1340,
          1297,
          666,
          148,
          228,
          110,
          608,
          636,
          558,
          809,
          741,
          744,
          319,
          78,
          479,
          265,
          1284,
          1339,
          1283,
          1594,
          1413,
          1495,
          770,
          152,
          971,
          480,
          2586,
          2667,
          2515,
          2960,
          2636,
          2678,
          1306,
          290,
          304,
          162,
          720,
          783,
          761,
          1033,
          1089,
          1314,
          534,
          128,
          7805,
          3776,
          31146,
          23364,
          19916,
          19500,
          15429,
          13586,
          7320,
          1769,
          7268,
          3458,
          21769,
          20382,
          17702,
          18066,
          14990,
          13653,
          6516,
          1441,
          739,
          335,
          1424,
          1744,
          1766,
          1997,
          1887,
          1902,
          830,
          164,
          2134,
          1017,
          5368,
          5235,
          5039,
          6011,
          5328,
          5036,
          2450,
          604,
          266,
          138,
          721,
          791,
          696,
          1062,
          1063,
          1245,
          629,
          133,
          1373,
          711,
          3746,
          3723,
          3501,
          3602,
          3024,
          2969,
          1488,
          345,
          326,
          151,
          766,
          892,
          767,
          852,
          933,
          745,
          367,
          73,
          454,
          263,
          1218,
          1143,
          1179,
          1342,
          1096,
          1027,
          413,
          124,
          395,
          207,
          852,
          933,
          869,
          935,
          834,
          975,
          359,
          91,
          797,
          376,
          1337,
          1886,
          1752,
          1480,
          1213,
          1177,
          527,
          91,
          1565,
          767,
          3784,
          3594,
          3470,
          4171,
          3440,
          2894,
          1516,
          391,
          788,
          349,
          1806,
          2097,
          1791,
          1917,
          1591,
          1415,
          685,
          153,
          6979,
          3271,
          24184,
          20248,
          17270,
          17470,
          13799,
          12944,
          6749,
          1668,
          1512,
          795,
          4217,
          4150,
          3505,
          4039,
          3603,
          3313,
          1565,
          433,
          1717,
          826,
          4552,
          4333,
          4065,
          4722,
          4207,
          3500,
          1859,
          417,
          634,
          299,
          1532,
          1328,
          1300,
          1475,
          1328,
          1342,
          655,
          184,
          1407,
          627,
          3449,
          3291,
          3010,
          3665,
          3265,
          3175,
          1648,
          432,
          814,
          416,
          2243,
          2189,
          1917,
          2252,
          2213,
          2149,
          1058,
          288,
          888,
          467,
          2561,
          2263,
          2055,
          2430,
          2050,
          2204,
          1233,
          306,
          454,
          208,
          1145,
          1095,
          1083,
          1273,
          1089,
          1109,
          550,
          158,
          493,
          229,
          975,
          966,
          991,
          1060,
          987,
          1072,
          450,
          119,
          527,
          281,
          1353,
          1310,
          1336,
          1702,
          1685,
          1604,
          865,
          243,
          1078,
          522,
          2465,
          2528,
          2435,
          2392,
          2354,
          2187,
          1024,
          317,
          989,
          424,
          2052,
          2477,
          2460,
          2252,
          1813,
          1721,
          840,
          238,
          501,
          221,
          1300,
          1223,
          1146,
          1330,
          1180,
          1246,
          632,
          158,
          4689,
          2307,
          16358,
          13427,
          11510,
          11160,
          9054,
          8768,
          4335,
          1005,
          1324,
          672,
          3471,
          3518,
          3334,
          3883,
          3393,
          3249,
          1701,
          428,
          267,
          132,
          585,
          573,
          608,
          739,
          862,
          736,
          354,
          69,
          309,
          167,
          759,
          709,
          729,
          1046,
          989,
          1035,
          449,
          101,
          792,
          371,
          1377,
          1712,
          1896,
          2024,
          2105,
          2316,
          956,
          160,
          685,
          301,
          1550,
          1523,
          1414,
          1902,
          1998,
          1806,
          936,
          223,
          570,
          300,
          1503,
          1546,
          1417,
          1734,
          1765,
          1705,
          864,
          184,
          432,
          211,
          1076,
          976,
          1000,
          1279,
          1269,
          1205,
          659,
          157,
          3347,
          1526,
          11432,
          10033,
          8471,
          8809,
          7299,
          6922,
          3390,
          842,
          956,
          441,
          2393,
          2546,
          2109,
          2697,
          2443,
          2365,
          1358,
          317,
          1231,
          662,
          3489,
          3235,
          3102,
          3645,
          3093,
          3237,
          1720,
          342,
          1612,
          750,
          4056,
          3964,
          3802,
          4864,
          5027,
          5305,
          2624,
          618,
          682,
          327,
          1950,
          1890,
          1646,
          2038,
          1974,
          1908,
          1000,
          235,
          395,
          196,
          909,
          949,
          1040,
          1399,
          1845,
          2024,
          985,
          180,
          2710,
          1290,
          7395,
          6977,
          6731,
          8114,
          8223,
          7900,
          3789,
          795,
          564,
          294,
          1641,
          1538,
          1345,
          1915,
          1656,
          1614,
          968,
          226,
          3218,
          1664,
          9694,
          8393,
          8158,
          8337,
          7117,
          7302,
          3628,
          790,
          1483,
          732,
          3363,
          3326,
          3414,
          3858,
          3363,
          3495,
          1859,
          459,
          1484,
          729,
          4062,
          3818,
          3543,
          4477,
          3837,
          3842,
          2115,
          447,
          768,
          411,
          2065,
          1969,
          1984,
          2407,
          2300,
          2265,
          1149,
          241,
          747,
          348,
          1748,
          2032,
          1891,
          1956,
          1526,
          1311,
          553,
          129,
          1667,
          727,
          2804,
          3408,
          3957,
          3453,
          2151,
          2289,
          1371,
          237,
          1029,
          466,
          2681,
          2840,
          2783,
          2377,
          1907,
          1590,
          817,
          176,
          2108,
          1074,
          3531,
          3747,
          5151,
          5739,
          3909,
          4348,
          2231,
          391,
          796,
          369,
          1791,
          1827,
          1676,
          1930,
          1648,
          1659,
          785,
          180,
          501,
          245,
          1300,
          1261,
          1193,
          1390,
          1339,
          1201,
          560,
          151,
          857,
          404,
          2113,
          2052,
          2024,
          2195,
          1679,
          1503,
          630,
          119,
          1943,
          997,
          3448,
          4049,
          4788,
          4537,
          2837,
          3205,
          1417,
          269,
          1701,
          791,
          2257,
          2143,
          3821,
          3628,
          2262,
          2456,
          1531,
          303,
          1423,
          608,
          2329,
          3233,
          3546,
          2893,
          2068,
          2028,
          921,
          190,
          810,
          400,
          2006,
          2133,
          2093,
          2306,
          1870,
          1721,
          708,
          152,
          882,
          390,
          2162,
          2473,
          2259,
          2813,
          2562,
          2228,
          1023,
          208,
          729,
          366,
          1818,
          2028,
          1924,
          2085,
          1954,
          1768,
          810,
          191,
          902,
          400,
          1800,
          2134,
          2215,
          2382,
          2020,
          1780,
          812,
          202,
          662,
          301,
          1605,
          1631,
          1538,
          1681,
          1891,
          1705,
          837,
          173,
          666,
          337,
          1423,
          1509,
          1486,
          1760,
          1471,
          1570,
          766,
          128,
          644,
          310,
          1572,
          1559,
          1471,
          1689,
          1561,
          1608,
          874,
          224,
          431,
          205,
          929,
          1006,
          788,
          989,
          840,
          768,
          383,
          104,
          818,
          412,
          2372,
          2233,
          2095,
          2432,
          2032,
          1989,
          899,
          221,
          960,
          493,
          2099,
          2201,
          2227,
          2147,
          1515,
          1419,
          667,
          115,
          674,
          315,
          1565,
          1554,
          1748,
          2105,
          2234,
          2410,
          1188,
          285,
          15977,
          7182,
          57279,
          63772,
          47997,
          39449,
          31777,
          24925,
          12135,
          3152,
          6035,
          2819,
          28119,
          16929,
          15567,
          13977,
          11343,
          10745,
          5067,
          1156,
          2293,
          1024,
          6031,
          6324,
          5957,
          6006,
          5085,
          4819,
          2178,
          468,
          7307,
          3523,
          21984,
          21240,
          18944,
          19668,
          15654,
          13575,
          6557,
          1582,
          1442,
          728,
          2796,
          2837,
          3492,
          3851,
          3302,
          3826,
          1830,
          386,
          1868,
          894,
          4628,
          4708,
          4436,
          4658,
          3547,
          3088,
          1540,
          343,
          1397,
          680,
          3632,
          3438,
          3542,
          4131,
          4226,
          4446,
          2029,
          464,
          2236,
          1113,
          5668,
          5930,
          5785,
          6398,
          5320,
          4832,
          2427,
          499,
          4323,
          2130,
          11988,
          11083,
          10055,
          11149,
          9741,
          9093,
          4620,
          1133,
          740,
          355,
          1884,
          1732,
          1747,
          2516,
          3128,
          3364,
          1563,
          349,
          2145,
          1020,
          5152,
          5417,
          5266,
          5934,
          5074,
          5154,
          2532,
          667,
          2470,
          1215,
          6747,
          6613,
          5981,
          7038,
          5974,
          5809,
          3098,
          796,
          551,
          300,
          1234,
          1248,
          1195,
          1403,
          1293,
          1133,
          574,
          158,
          5034,
          2398,
          15531,
          14475,
          12268,
          13034,
          11086,
          10329,
          5342,
          1271,
          1199,
          613,
          3004,
          3127,
          2987,
          3437,
          3445,
          3390,
          1511,
          343,
          2194,
          1028,
          5833,
          5757,
          5247,
          5951,
          5626,
          5555,
          2764,
          676,
          3206,
          1522,
          8107,
          8476,
          7879,
          8502,
          8218,
          8033,
          3621,
          890,
          5123,
          2550,
          9900,
          9458,
          11412,
          12680,
          8904,
          8404,
          4367,
          867,
          2641,
          1123,
          4446,
          4844,
          6078,
          5543,
          3706,
          3136,
          1473,
          329,
          2305,
          991,
          4767,
          5558,
          5621,
          5193,
          3884,
          3191,
          1581,
          414,
          680,
          354,
          1422,
          1168,
          1439,
          1916,
          1773,
          1718,
          784,
          173,
          1500,
          787,
          3442,
          3491,
          3540,
          3947,
          2845,
          2644,
          1420,
          284,
          762,
          368,
          1574,
          1755,
          1783,
          2202,
          2302,
          2379,
          1001,
          211,
          636,
          322,
          1561,
          1471,
          1609,
          2121,
          2390,
          2381,
          1084,
          211,
          326,
          137,
          883,
          853,
          972,
          1272,
          1471,
          1673,
          632,
          167,
          471,
          253,
          1248,
          1335,
          1163,
          1368,
          1354,
          1268,
          635,
          156,
          566,
          256,
          1356,
          1406,
          1359,
          1709,
          1922,
          1931,
          813,
          205,
          215,
          114,
          527,
          545,
          531,
          604,
          571,
          671,
          340,
          67,
          306,
          150,
          750,
          751,
          686,
          898,
          910,
          833,
          369,
          96,
          1765,
          863,
          4060,
          4591,
          4478,
          4123,
          2876,
          2866,
          1350,
          204,
          2711,
          1312,
          4622,
          5371,
          6359,
          6040,
          3974,
          3701,
          1980,
          401,
          626,
          314,
          1520,
          1647,
          1448,
          1581,
          1362,
          1265,
          561,
          126,
          536,
          260,
          1038,
          1231,
          1271,
          1353,
          1024,
          1040,
          457,
          86,
          271,
          126,
          635,
          659,
          632,
          803,
          769,
          745,
          337,
          92,
          296,
          105,
          597,
          663,
          623,
          775,
          741,
          769,
          330,
          85,
          277,
          151,
          795,
          786,
          749,
          888,
          883,
          1118,
          487,
          98,
          198,
          93,
          508,
          476,
          467,
          752,
          843,
          839,
          365,
          87,
          574,
          284,
          1371,
          1421,
          1378,
          1641,
          1451,
          1483,
          658,
          177,
          399,
          195,
          1049,
          956,
          913,
          1278,
          1295,
          1417,
          652,
          191,
          431,
          168,
          1092,
          1054,
          923,
          1185,
          1259,
          1286,
          581,
          161,
          667,
          291,
          1754,
          2122,
          1726,
          1932,
          1695,
          1441,
          612,
          133,
          1871,
          858,
          4314,
          4320,
          4103,
          4786,
          4233,
          3923,
          1856,
          445,
          529,
          230,
          1192,
          1302,
          1144,
          1507,
          1401,
          1395,
          611,
          118,
          428,
          199,
          1204,
          1112,
          1034,
          1286,
          1200,
          1174,
          538,
          118,
          760,
          348,
          2013,
          1917,
          1884,
          2183,
          2075,
          1820,
          929,
          194,
          668,
          292,
          1416,
          1488,
          1469,
          1854,
          1811,
          1750,
          779,
          153,
          525,
          262,
          1383,
          1433,
          1218,
          1510,
          1337,
          1310,
          729,
          164,
          415,
          205,
          1097,
          1020,
          987,
          1204,
          1322,
          1232,
          518,
          128,
          25395,
          11922,
          102778,
          104015,
          76366,
          69463,
          55765,
          44288,
          19954,
          5160,
          3679,
          1703,
          9991,
          10898,
          9847,
          9180,
          6566,
          5254,
          2606,
          629,
          2500,
          1163,
          6187,
          6640,
          5901,
          6593,
          5220,
          4597,
          2487,
          582,
          617,
          289,
          1444,
          1444,
          1448,
          1939,
          2139,
          2165,
          1019,
          256,
          2844,
          1297,
          7765,
          7416,
          6566,
          7360,
          6601,
          5688,
          3066,
          745,
          621,
          271,
          1560,
          1775,
          1680,
          1679,
          1559,
          1525,
          700,
          175,
          1966,
          963,
          5131,
          4953,
          4346,
          5334,
          4639,
          4357,
          2315,
          471,
          2958,
          1467,
          9178,
          8009,
          7014,
          7656,
          6109,
          5439,
          2758,
          650,
          2172,
          1071,
          5133,
          5448,
          5154,
          5141,
          4606,
          4717,
          2243,
          511,
          5623,
          2694,
          17454,
          16024,
          13883,
          14298,
          11541,
          10403,
          5421,
          1311,
          1193,
          569,
          3051,
          3055,
          2880,
          3362,
          3014,
          2864,
          1396,
          370,
          605,
          281,
          1447,
          1294,
          1281,
          1705,
          1615,
          1544,
          858,
          239,
          1037,
          525,
          3084,
          3066,
          2515,
          3280,
          3104,
          3121,
          1677,
          359,
          1962,
          929,
          5310,
          4928,
          4666,
          5405,
          4823,
          4626,
          2369,
          527,
          877,
          460,
          2517,
          2381,
          2053,
          2654,
          2159,
          2086,
          1015,
          230,
          2553,
          1223,
          9311,
          8362,
          6419,
          6978,
          5909,
          5288,
          2732,
          650,
          420,
          184,
          1032,
          1080,
          1040,
          1209,
          1142,
          1267,
          592,
          118,
          560,
          272,
          1600,
          1602,
          1340,
          1763,
          1588,
          1438,
          799,
          200,
          1633,
          852,
          4373,
          4282,
          3769,
          4174,
          3866,
          3397,
          1881,
          471,
          540,
          314,
          1269,
          1536,
          1407,
          1548,
          1435,
          1502,
          711,
          159,
          346,
          154,
          942,
          1112,
          883,
          1185,
          1172,
          1011,
          482,
          136,
          428,
          217,
          1245,
          1221,
          1223,
          1550,
          1671,
          1638,
          811,
          180,
          162,
          96,
          414,
          394,
          363,
          603,
          606,
          614,
          225,
          62,
          1012,
          444,
          1463,
          2220,
          2359,
          2139,
          1808,
          1643,
          773,
          143,
          169,
          71,
          405,
          427,
          351,
          508,
          517,
          460,
          290,
          74,
          588,
          267,
          1272,
          1499,
          1343,
          1560,
          1243,
          1373,
          686,
          124,
          402,
          184,
          1011,
          1115,
          932,
          1278,
          1177,
          1209,
          557,
          139,
          459,
          207,
          1224,
          1191,
          1085,
          1402,
          1238,
          1226,
          595,
          137,
          572,
          270,
          1625,
          1476,
          1419,
          1873,
          1906,
          1609,
          818,
          208,
          4153,
          2014,
          16388,
          13008,
          11047,
          11840,
          10126,
          9403,
          4763,
          1132,
          1045,
          515,
          2838,
          2740,
          2565,
          3320,
          3160,
          3280,
          1519,
          359,
          454,
          214,
          1313,
          1114,
          1013,
          1325,
          1378,
          1452,
          685,
          180,
          444,
          221,
          1190,
          1228,
          1106,
          1632,
          1901,
          1617,
          879,
          196,
          1100,
          542,
          3090,
          3016,
          2848,
          3424,
          3245,
          3292,
          1650,
          469,
          675,
          370,
          1802,
          1644,
          1509,
          2147,
          2027,
          2021,
          1085,
          259,
          491,
          187,
          851,
          1347,
          1063,
          1013,
          913,
          874,
          434,
          82,
          254,
          108,
          576,
          579,
          551,
          835,
          795,
          807,
          381,
          94,
          815,
          391,
          1944,
          2129,
          1880,
          2091,
          1887,
          1855,
          826,
          166,
          398,
          201,
          1080,
          950,
          1040,
          1356,
          1284,
          1394,
          628,
          140,
          299,
          143,
          815,
          724,
          593,
          915,
          905,
          940,
          521,
          98,
          163,
          88,
          457,
          425,
          481,
          653,
          731,
          701,
          358,
          72,
          7733,
          3542,
          27125,
          21701,
          19150,
          18815,
          15153,
          14289,
          6599,
          1585,
          1263,
          524,
          2774,
          3053,
          2864,
          2862,
          2169,
          2218,
          1063,
          219,
          475,
          272,
          1277,
          1199,
          1192,
          1542,
          1654,
          1696,
          764,
          153,
          1422,
          687,
          4058,
          3690,
          3275,
          4137,
          3527,
          3622,
          1968,
          408,
          538,
          254,
          1109,
          1233,
          1213,
          1387,
          1344,
          1511,
          726,
          122,
          1138,
          505,
          2869,
          2770,
          2607,
          3077,
          2922,
          3037,
          1349,
          342,
          172,
          102,
          465,
          450,
          447,
          602,
          663,
          686,
          287,
          60,
          501,
          249,
          1089,
          1238,
          1146,
          1332,
          1188,
          1294,
          590,
          127,
          455,
          198,
          1032,
          1012,
          975,
          1190,
          1090,
          1063,
          477,
          107,
          824,
          387,
          2105,
          2136,
          1805,
          2158,
          1859,
          1895,
          1031,
          207,
          262,
          127,
          627,
          651,
          587,
          715,
          778,
          812,
          342,
          83,
          7520,
          3747,
          23221,
          22451,
          19137,
          20524,
          15701,
          14704,
          7545,
          1772,
          1116,
          481,
          2734,
          2806,
          2529,
          2991,
          2825,
          2885,
          1318,
          306,
          662,
          331,
          1574,
          1639,
          1469,
          1753,
          1539,
          1525,
          823,
          191,
          1220,
          615,
          3379,
          3203,
          2817,
          3418,
          3127,
          3059,
          1549,
          369,
          590,
          299,
          1793,
          1663,
          1457,
          1881,
          1713,
          1845,
          935,
          201,
          331,
          144,
          823,
          773,
          676,
          953,
          893,
          912,
          464,
          90,
          434,
          215,
          1224,
          1179,
          1128,
          1412,
          1339,
          1359,
          667,
          148,
          542,
          236,
          1054,
          1302,
          1137,
          1332,
          1334,
          1356,
          596,
          112,
          705,
          334,
          1704,
          1742,
          1714,
          2076,
          2191,
          2381,
          1090,
          258,
          445,
          225,
          1220,
          1105,
          1109,
          1391,
          1574,
          1889,
          889,
          216,
          285,
          143,
          858,
          842,
          641,
          1001,
          942,
          926,
          460,
          116,
          321,
          160,
          790,
          774,
          746,
          930,
          964,
          979,
          515,
          109,
          489,
          237,
          1066,
          1190,
          1144,
          1535,
          1590,
          1628,
          697,
          121,
          935,
          496,
          2370,
          2433,
          2324,
          2633,
          2688,
          2860,
          1367,
          268,
          2902,
          1427,
          7726,
          7906,
          7262,
          7208,
          6786,
          6737,
          3160,
          706,
          2647,
          1305,
          7686,
          7033,
          5927,
          6588,
          5643,
          5164,
          2572,
          538,
          507,
          241,
          1140,
          1426,
          1264,
          1416,
          1525,
          1495,
          663,
          139,
          748,
          330,
          1772,
          1823,
          1565,
          2076,
          2106,
          2032,
          932,
          205,
          1028,
          490,
          2698,
          2787,
          2468,
          2907,
          2934,
          2873,
          1417,
          330,
          1163,
          561,
          3114,
          3423,
          2898,
          3275,
          3190,
          3219,
          1563,
          413,
          241,
          112,
          597,
          630,
          583,
          829,
          873,
          938,
          310,
          95,
          426,
          211,
          1176,
          1103,
          906,
          1331,
          1342,
          1233,
          570,
          125,
          514,
          264,
          1310,
          1323,
          1190,
          1500,
          1538,
          1636,
          777,
          181,
          449,
          206,
          1029,
          1052,
          952,
          1319,
          1295,
          1359,
          547,
          106,
          850,
          446,
          2103,
          2140,
          1980,
          2491,
          2531,
          2662,
          1200,
          279,
          4877,
          2351,
          15177,
          13928,
          12372,
          13418,
          11209,
          10475,
          5147,
          1061,
          1742,
          945,
          4848,
          4875,
          4397,
          5365,
          4651,
          4596,
          2362,
          477,
          1124,
          550,
          2858,
          2755,
          2601,
          3499,
          3496,
          3566,
          1612,
          355,
          1200,
          613,
          3174,
          3093,
          2923,
          3423,
          3422,
          3463,
          1652,
          394,
          1778,
          898,
          4565,
          4419,
          4188,
          4917,
          4881,
          5026,
          2178,
          460,
          378,
          200,
          1032,
          965,
          936,
          1304,
          1416,
          1219,
          623,
          128,
          829,
          422,
          2253,
          2090,
          2158,
          2580,
          2090,
          2158,
          971,
          161,
          1228,
          561,
          2991,
          3009,
          2752,
          3140,
          3007,
          3383,
          1594,
          309,
          4820,
          2436,
          13519,
          12763,
          12005,
          13410,
          11001,
          10717,
          5389,
          1093,
          738,
          367,
          2002,
          1861,
          1793,
          2563,
          2661,
          2649,
          1159,
          275,
          809,
          394,
          1986,
          2057,
          1913,
          2427,
          2740,
          2591,
          1352,
          308,
          2700,
          1272,
          6533,
          6769,
          6608,
          7198,
          6786,
          6781,
          3293,
          692,
          235,
          97,
          506,
          593,
          514,
          723,
          741,
          724,
          381,
          76,
          245,
          142,
          645,
          625,
          605,
          922,
          948,
          923,
          371,
          91,
          961,
          450,
          1483,
          1853,
          2044,
          2033,
          1781,
          1722,
          681,
          133,
          449,
          220,
          1245,
          1254,
          1127,
          1427,
          1691,
          1676,
          814,
          190,
          621,
          263,
          1663,
          1938,
          1641,
          1514,
          1333,
          1018,
          459,
          92,
          309,
          166,
          759,
          828,
          682,
          905,
          1024,
          1004,
          487,
          113,
          364,
          188,
          1169,
          1160,
          1049,
          1393,
          1446,
          1476,
          705,
          163,
          3052,
          1447,
          9348,
          8878,
          7629,
          7834,
          6991,
          6990,
          3260,
          696,
          308,
          163,
          833,
          741,
          783,
          923,
          954,
          966,
          492,
          105,
          99,
          52,
          289,
          278,
          231,
          280,
          301,
          325,
          177,
          58,
          282,
          101,
          580,
          622,
          629,
          646,
          726,
          744,
          350,
          98,
          325,
          156,
          689,
          855,
          725,
          796,
          1009,
          877,
          392,
          91,
          194,
          87,
          407,
          443,
          390,
          525,
          576,
          560,
          267,
          55,
          143,
          60,
          386,
          301,
          307,
          355,
          450,
          417,
          196,
          42,
          266,
          103,
          625,
          576,
          588,
          762,
          870,
          803,
          405,
          109,
          94,
          40,
          251,
          257,
          246,
          339,
          365,
          322,
          200,
          43,
          110,
          53,
          223,
          250,
          228,
          312,
          398,
          367,
          183,
          61,
          442,
          221,
          1133,
          1244,
          1032,
          1120,
          967,
          905,
          491,
          117,
          294,
          148,
          850,
          737,
          638,
          775,
          972,
          825,
          416,
          90,
          109,
          58,
          327,
          270,
          291,
          348,
          401,
          422,
          206,
          54,
          5852,
          2765,
          24573,
          20192,
          16097,
          14638,
          12082,
          11298,
          5070,
          1066,
          591,
          286,
          1535,
          1575,
          1255,
          1481,
          1555,
          1444,
          753,
          145,
          3366,
          1678,
          9620,
          9414,
          8704,
          9308,
          9152,
          8421,
          4248,
          876,
          249,
          108,
          702,
          771,
          644,
          751,
          860,
          784,
          459,
          85,
          96,
          50,
          284,
          304,
          270,
          386,
          407,
          359,
          195,
          57,
          161,
          78,
          536,
          554,
          460,
          666,
          734,
          681,
          338,
          72,
          98,
          55,
          315,
          353,
          256,
          386,
          560,
          524,
          291,
          69,
          638,
          340,
          1762,
          1692,
          1610,
          2193,
          2253,
          2198,
          1164,
          237,
          159,
          77,
          423,
          342,
          354,
          530,
          737,
          749,
          351,
          78,
          221,
          118,
          659,
          542,
          475,
          688,
          956,
          1012,
          539,
          84,
          664,
          335,
          2038,
          2423,
          1829,
          2295,
          2392,
          1997,
          1155,
          245,
          328,
          160,
          1022,
          963,
          869,
          1019,
          1033,
          1018,
          500,
          133,
          3427,
          1716,
          12599,
          10549,
          9112,
          10434,
          8757,
          7924,
          4078,
          800,
          1838,
          942,
          5510,
          5310,
          4969,
          5586,
          5169,
          5181,
          2263,
          433,
          1156,
          573,
          3802,
          3464,
          3117,
          3618,
          3577,
          3532,
          1645,
          370,
          452,
          225,
          990,
          876,
          978,
          1142,
          1488,
          1478,
          624,
          108,
          954,
          519,
          3167,
          3202,
          2385,
          3079,
          2781,
          2194,
          1280,
          219
         ]
        }
       ],
       "layout": {
        "legend": {
         "tracegroupgap": 0
        },
        "margin": {
         "t": 60
        },
        "template": {
         "data": {
          "bar": [
           {
            "error_x": {
             "color": "#f2f5fa"
            },
            "error_y": {
             "color": "#f2f5fa"
            },
            "marker": {
             "line": {
              "color": "rgb(17,17,17)",
              "width": 0.5
             },
             "pattern": {
              "fillmode": "overlay",
              "size": 10,
              "solidity": 0.2
             }
            },
            "type": "bar"
           }
          ],
          "barpolar": [
           {
            "marker": {
             "line": {
              "color": "rgb(17,17,17)",
              "width": 0.5
             },
             "pattern": {
              "fillmode": "overlay",
              "size": 10,
              "solidity": 0.2
             }
            },
            "type": "barpolar"
           }
          ],
          "carpet": [
           {
            "aaxis": {
             "endlinecolor": "#A2B1C6",
             "gridcolor": "#506784",
             "linecolor": "#506784",
             "minorgridcolor": "#506784",
             "startlinecolor": "#A2B1C6"
            },
            "baxis": {
             "endlinecolor": "#A2B1C6",
             "gridcolor": "#506784",
             "linecolor": "#506784",
             "minorgridcolor": "#506784",
             "startlinecolor": "#A2B1C6"
            },
            "type": "carpet"
           }
          ],
          "choropleth": [
           {
            "colorbar": {
             "outlinewidth": 0,
             "ticks": ""
            },
            "type": "choropleth"
           }
          ],
          "contour": [
           {
            "colorbar": {
             "outlinewidth": 0,
             "ticks": ""
            },
            "colorscale": [
             [
              0,
              "#0d0887"
             ],
             [
              0.1111111111111111,
              "#46039f"
             ],
             [
              0.2222222222222222,
              "#7201a8"
             ],
             [
              0.3333333333333333,
              "#9c179e"
             ],
             [
              0.4444444444444444,
              "#bd3786"
             ],
             [
              0.5555555555555556,
              "#d8576b"
             ],
             [
              0.6666666666666666,
              "#ed7953"
             ],
             [
              0.7777777777777778,
              "#fb9f3a"
             ],
             [
              0.8888888888888888,
              "#fdca26"
             ],
             [
              1,
              "#f0f921"
             ]
            ],
            "type": "contour"
           }
          ],
          "contourcarpet": [
           {
            "colorbar": {
             "outlinewidth": 0,
             "ticks": ""
            },
            "type": "contourcarpet"
           }
          ],
          "heatmap": [
           {
            "colorbar": {
             "outlinewidth": 0,
             "ticks": ""
            },
            "colorscale": [
             [
              0,
              "#0d0887"
             ],
             [
              0.1111111111111111,
              "#46039f"
             ],
             [
              0.2222222222222222,
              "#7201a8"
             ],
             [
              0.3333333333333333,
              "#9c179e"
             ],
             [
              0.4444444444444444,
              "#bd3786"
             ],
             [
              0.5555555555555556,
              "#d8576b"
             ],
             [
              0.6666666666666666,
              "#ed7953"
             ],
             [
              0.7777777777777778,
              "#fb9f3a"
             ],
             [
              0.8888888888888888,
              "#fdca26"
             ],
             [
              1,
              "#f0f921"
             ]
            ],
            "type": "heatmap"
           }
          ],
          "heatmapgl": [
           {
            "colorbar": {
             "outlinewidth": 0,
             "ticks": ""
            },
            "colorscale": [
             [
              0,
              "#0d0887"
             ],
             [
              0.1111111111111111,
              "#46039f"
             ],
             [
              0.2222222222222222,
              "#7201a8"
             ],
             [
              0.3333333333333333,
              "#9c179e"
             ],
             [
              0.4444444444444444,
              "#bd3786"
             ],
             [
              0.5555555555555556,
              "#d8576b"
             ],
             [
              0.6666666666666666,
              "#ed7953"
             ],
             [
              0.7777777777777778,
              "#fb9f3a"
             ],
             [
              0.8888888888888888,
              "#fdca26"
             ],
             [
              1,
              "#f0f921"
             ]
            ],
            "type": "heatmapgl"
           }
          ],
          "histogram": [
           {
            "marker": {
             "pattern": {
              "fillmode": "overlay",
              "size": 10,
              "solidity": 0.2
             }
            },
            "type": "histogram"
           }
          ],
          "histogram2d": [
           {
            "colorbar": {
             "outlinewidth": 0,
             "ticks": ""
            },
            "colorscale": [
             [
              0,
              "#0d0887"
             ],
             [
              0.1111111111111111,
              "#46039f"
             ],
             [
              0.2222222222222222,
              "#7201a8"
             ],
             [
              0.3333333333333333,
              "#9c179e"
             ],
             [
              0.4444444444444444,
              "#bd3786"
             ],
             [
              0.5555555555555556,
              "#d8576b"
             ],
             [
              0.6666666666666666,
              "#ed7953"
             ],
             [
              0.7777777777777778,
              "#fb9f3a"
             ],
             [
              0.8888888888888888,
              "#fdca26"
             ],
             [
              1,
              "#f0f921"
             ]
            ],
            "type": "histogram2d"
           }
          ],
          "histogram2dcontour": [
           {
            "colorbar": {
             "outlinewidth": 0,
             "ticks": ""
            },
            "colorscale": [
             [
              0,
              "#0d0887"
             ],
             [
              0.1111111111111111,
              "#46039f"
             ],
             [
              0.2222222222222222,
              "#7201a8"
             ],
             [
              0.3333333333333333,
              "#9c179e"
             ],
             [
              0.4444444444444444,
              "#bd3786"
             ],
             [
              0.5555555555555556,
              "#d8576b"
             ],
             [
              0.6666666666666666,
              "#ed7953"
             ],
             [
              0.7777777777777778,
              "#fb9f3a"
             ],
             [
              0.8888888888888888,
              "#fdca26"
             ],
             [
              1,
              "#f0f921"
             ]
            ],
            "type": "histogram2dcontour"
           }
          ],
          "mesh3d": [
           {
            "colorbar": {
             "outlinewidth": 0,
             "ticks": ""
            },
            "type": "mesh3d"
           }
          ],
          "parcoords": [
           {
            "line": {
             "colorbar": {
              "outlinewidth": 0,
              "ticks": ""
             }
            },
            "type": "parcoords"
           }
          ],
          "pie": [
           {
            "automargin": true,
            "type": "pie"
           }
          ],
          "scatter": [
           {
            "marker": {
             "line": {
              "color": "#283442"
             }
            },
            "type": "scatter"
           }
          ],
          "scatter3d": [
           {
            "line": {
             "colorbar": {
              "outlinewidth": 0,
              "ticks": ""
             }
            },
            "marker": {
             "colorbar": {
              "outlinewidth": 0,
              "ticks": ""
             }
            },
            "type": "scatter3d"
           }
          ],
          "scattercarpet": [
           {
            "marker": {
             "colorbar": {
              "outlinewidth": 0,
              "ticks": ""
             }
            },
            "type": "scattercarpet"
           }
          ],
          "scattergeo": [
           {
            "marker": {
             "colorbar": {
              "outlinewidth": 0,
              "ticks": ""
             }
            },
            "type": "scattergeo"
           }
          ],
          "scattergl": [
           {
            "marker": {
             "line": {
              "color": "#283442"
             }
            },
            "type": "scattergl"
           }
          ],
          "scattermapbox": [
           {
            "marker": {
             "colorbar": {
              "outlinewidth": 0,
              "ticks": ""
             }
            },
            "type": "scattermapbox"
           }
          ],
          "scatterpolar": [
           {
            "marker": {
             "colorbar": {
              "outlinewidth": 0,
              "ticks": ""
             }
            },
            "type": "scatterpolar"
           }
          ],
          "scatterpolargl": [
           {
            "marker": {
             "colorbar": {
              "outlinewidth": 0,
              "ticks": ""
             }
            },
            "type": "scatterpolargl"
           }
          ],
          "scatterternary": [
           {
            "marker": {
             "colorbar": {
              "outlinewidth": 0,
              "ticks": ""
             }
            },
            "type": "scatterternary"
           }
          ],
          "surface": [
           {
            "colorbar": {
             "outlinewidth": 0,
             "ticks": ""
            },
            "colorscale": [
             [
              0,
              "#0d0887"
             ],
             [
              0.1111111111111111,
              "#46039f"
             ],
             [
              0.2222222222222222,
              "#7201a8"
             ],
             [
              0.3333333333333333,
              "#9c179e"
             ],
             [
              0.4444444444444444,
              "#bd3786"
             ],
             [
              0.5555555555555556,
              "#d8576b"
             ],
             [
              0.6666666666666666,
              "#ed7953"
             ],
             [
              0.7777777777777778,
              "#fb9f3a"
             ],
             [
              0.8888888888888888,
              "#fdca26"
             ],
             [
              1,
              "#f0f921"
             ]
            ],
            "type": "surface"
           }
          ],
          "table": [
           {
            "cells": {
             "fill": {
              "color": "#506784"
             },
             "line": {
              "color": "rgb(17,17,17)"
             }
            },
            "header": {
             "fill": {
              "color": "#2a3f5f"
             },
             "line": {
              "color": "rgb(17,17,17)"
             }
            },
            "type": "table"
           }
          ]
         },
         "layout": {
          "annotationdefaults": {
           "arrowcolor": "#f2f5fa",
           "arrowhead": 0,
           "arrowwidth": 1
          },
          "autotypenumbers": "strict",
          "coloraxis": {
           "colorbar": {
            "outlinewidth": 0,
            "ticks": ""
           }
          },
          "colorscale": {
           "diverging": [
            [
             0,
             "#8e0152"
            ],
            [
             0.1,
             "#c51b7d"
            ],
            [
             0.2,
             "#de77ae"
            ],
            [
             0.3,
             "#f1b6da"
            ],
            [
             0.4,
             "#fde0ef"
            ],
            [
             0.5,
             "#f7f7f7"
            ],
            [
             0.6,
             "#e6f5d0"
            ],
            [
             0.7,
             "#b8e186"
            ],
            [
             0.8,
             "#7fbc41"
            ],
            [
             0.9,
             "#4d9221"
            ],
            [
             1,
             "#276419"
            ]
           ],
           "sequential": [
            [
             0,
             "#0d0887"
            ],
            [
             0.1111111111111111,
             "#46039f"
            ],
            [
             0.2222222222222222,
             "#7201a8"
            ],
            [
             0.3333333333333333,
             "#9c179e"
            ],
            [
             0.4444444444444444,
             "#bd3786"
            ],
            [
             0.5555555555555556,
             "#d8576b"
            ],
            [
             0.6666666666666666,
             "#ed7953"
            ],
            [
             0.7777777777777778,
             "#fb9f3a"
            ],
            [
             0.8888888888888888,
             "#fdca26"
            ],
            [
             1,
             "#f0f921"
            ]
           ],
           "sequentialminus": [
            [
             0,
             "#0d0887"
            ],
            [
             0.1111111111111111,
             "#46039f"
            ],
            [
             0.2222222222222222,
             "#7201a8"
            ],
            [
             0.3333333333333333,
             "#9c179e"
            ],
            [
             0.4444444444444444,
             "#bd3786"
            ],
            [
             0.5555555555555556,
             "#d8576b"
            ],
            [
             0.6666666666666666,
             "#ed7953"
            ],
            [
             0.7777777777777778,
             "#fb9f3a"
            ],
            [
             0.8888888888888888,
             "#fdca26"
            ],
            [
             1,
             "#f0f921"
            ]
           ]
          },
          "colorway": [
           "#636efa",
           "#EF553B",
           "#00cc96",
           "#ab63fa",
           "#FFA15A",
           "#19d3f3",
           "#FF6692",
           "#B6E880",
           "#FF97FF",
           "#FECB52"
          ],
          "font": {
           "color": "#f2f5fa"
          },
          "geo": {
           "bgcolor": "rgb(17,17,17)",
           "lakecolor": "rgb(17,17,17)",
           "landcolor": "rgb(17,17,17)",
           "showlakes": true,
           "showland": true,
           "subunitcolor": "#506784"
          },
          "hoverlabel": {
           "align": "left"
          },
          "hovermode": "closest",
          "mapbox": {
           "style": "dark"
          },
          "paper_bgcolor": "rgb(17,17,17)",
          "plot_bgcolor": "rgb(17,17,17)",
          "polar": {
           "angularaxis": {
            "gridcolor": "#506784",
            "linecolor": "#506784",
            "ticks": ""
           },
           "bgcolor": "rgb(17,17,17)",
           "radialaxis": {
            "gridcolor": "#506784",
            "linecolor": "#506784",
            "ticks": ""
           }
          },
          "scene": {
           "xaxis": {
            "backgroundcolor": "rgb(17,17,17)",
            "gridcolor": "#506784",
            "gridwidth": 2,
            "linecolor": "#506784",
            "showbackground": true,
            "ticks": "",
            "zerolinecolor": "#C8D4E3"
           },
           "yaxis": {
            "backgroundcolor": "rgb(17,17,17)",
            "gridcolor": "#506784",
            "gridwidth": 2,
            "linecolor": "#506784",
            "showbackground": true,
            "ticks": "",
            "zerolinecolor": "#C8D4E3"
           },
           "zaxis": {
            "backgroundcolor": "rgb(17,17,17)",
            "gridcolor": "#506784",
            "gridwidth": 2,
            "linecolor": "#506784",
            "showbackground": true,
            "ticks": "",
            "zerolinecolor": "#C8D4E3"
           }
          },
          "shapedefaults": {
           "line": {
            "color": "#f2f5fa"
           }
          },
          "sliderdefaults": {
           "bgcolor": "#C8D4E3",
           "bordercolor": "rgb(17,17,17)",
           "borderwidth": 1,
           "tickwidth": 0
          },
          "ternary": {
           "aaxis": {
            "gridcolor": "#506784",
            "linecolor": "#506784",
            "ticks": ""
           },
           "baxis": {
            "gridcolor": "#506784",
            "linecolor": "#506784",
            "ticks": ""
           },
           "bgcolor": "rgb(17,17,17)",
           "caxis": {
            "gridcolor": "#506784",
            "linecolor": "#506784",
            "ticks": ""
           }
          },
          "title": {
           "x": 0.05
          },
          "updatemenudefaults": {
           "bgcolor": "#506784",
           "borderwidth": 0
          },
          "xaxis": {
           "automargin": true,
           "gridcolor": "#283442",
           "linecolor": "#506784",
           "ticks": "",
           "title": {
            "standoff": 15
           },
           "zerolinecolor": "#283442",
           "zerolinewidth": 2
          },
          "yaxis": {
           "automargin": true,
           "gridcolor": "#283442",
           "linecolor": "#506784",
           "ticks": "",
           "title": {
            "standoff": 15
           },
           "zerolinecolor": "#283442",
           "zerolinewidth": 2
          }
         }
        }
       }
      }
     },
     "metadata": {},
     "output_type": "display_data"
    }
   ],
   "source": [
    "# Pie chart with Plotly Express\n",
    "fig2e_pie = px.pie(data_frame=vaccin, values=\"Befolkning\", names=\"Ålder\")\n",
    "\n",
    "fig2e_pie.show()"
   ]
  },
  {
   "cell_type": "code",
   "execution_count": 151,
   "metadata": {},
   "outputs": [
    {
     "data": {
      "image/png": "[encoded data removed]",
      "text/plain": [
       "<Figure size 1600x800 with 1 Axes>"
      ]
     },
     "metadata": {},
     "output_type": "display_data"
    }
   ],
   "source": [
    "# Single-axis scatter plot (stripplot) with seaborn\n",
    "\n",
    "plt.figure(figsize=(16,8))\n",
    "sns.set_style(\"darkgrid\")\n",
    "fig2e_strip = sns.barplot(data=vaccin, x=\"Ålder\", y=\"Befolkning\")\n",
    "sns.despine(top=True, right=True, left=True, bottom=False)\n"
   ]
  },
  {
   "cell_type": "markdown",
   "metadata": {},
   "source": [
    " \n",
    " ### Uppgift f)\n",
    " Rita stapeldiagram för andel med minst 1 dos per län, andel två doser per län och andel tre doser per län"
   ]
  },
  {
   "cell_type": "code",
   "execution_count": 118,
   "metadata": {},
   "outputs": [
    {
     "data": {
      "application/vnd.plotly.v1+json": {
       "config": {
        "plotlyServerURL": "https://plot.ly"
       },
       "data": [
        {
         "alignmentgroup": "True",
         "hovertemplate": "Vaccin:=wide_variable_0<br>Län=%{x}<br>Befolkning=%{y}<extra></extra>",
         "legendgroup": "wide_variable_0",
         "marker": {
          "color": "#636efa",
          "pattern": {
           "shape": ""
          }
         },
         "name": "Dos 1",
         "offsetgroup": "wide_variable_0",
         "orientation": "v",
         "showlegend": true,
         "textposition": "auto",
         "type": "bar",
         "x": [
          "Stockholms län",
          "Uppsala län",
          "Södermanlands län",
          "Östergötlands län",
          "Jönköpings län",
          "Kronobergs län",
          "Kalmar län",
          "Gotlands län",
          "Blekinge län",
          "Skåne län",
          "Hallands län",
          "Västra Götalands län",
          "Värmlands län",
          "Örebro län",
          "Västmanlands län",
          "Dalarnas län",
          "Gävleborgs län",
          "Västernorrlands län",
          "Jämtlands län",
          "Västerbottens län",
          "Norrbottens län"
         ],
         "xaxis": "x",
         "y": [
          0.8792122129953276,
          0.8783457304373699,
          0.9045323047251688,
          0.8737669299330733,
          0.8764404068145152,
          0.8858472417199604,
          0.8663830725843299,
          0.8807314901528397,
          0.8497632519102237,
          0.9013165364057057,
          0.829509475765135,
          0.8314042777057183,
          0.8682089940213154,
          0.8954401737520307,
          0.907266605990802,
          0.9179396003405619,
          0.8912405455470168,
          0.8611466018217039,
          0.8551882449491044,
          0.876001710786962,
          0.8833696740106648
         ],
         "yaxis": "y"
        },
        {
         "alignmentgroup": "True",
         "hovertemplate": "Vaccin:=wide_variable_1<br>Län=%{x}<br>Befolkning=%{y}<extra></extra>",
         "legendgroup": "wide_variable_1",
         "marker": {
          "color": "#EF553B",
          "pattern": {
           "shape": ""
          }
         },
         "name": "Dos 2",
         "offsetgroup": "wide_variable_1",
         "orientation": "v",
         "showlegend": true,
         "textposition": "auto",
         "type": "bar",
         "x": [
          "Stockholms län",
          "Uppsala län",
          "Södermanlands län",
          "Östergötlands län",
          "Jönköpings län",
          "Kronobergs län",
          "Kalmar län",
          "Gotlands län",
          "Blekinge län",
          "Skåne län",
          "Hallands län",
          "Västra Götalands län",
          "Värmlands län",
          "Örebro län",
          "Västmanlands län",
          "Dalarnas län",
          "Gävleborgs län",
          "Västernorrlands län",
          "Jämtlands län",
          "Västerbottens län",
          "Norrbottens län"
         ],
         "xaxis": "x",
         "y": [
          0.8665657051397073,
          0.8647981751462859,
          0.8887508345078259,
          0.8535104830779966,
          0.8636014651816426,
          0.8710202949791157,
          0.8516078208945818,
          0.8696825565248681,
          0.8346922844623739,
          0.889563531169533,
          0.8111052494265654,
          0.8013143516487399,
          0.8461329683940121,
          0.8758523107739069,
          0.8967879378528798,
          0.9035491894960017,
          0.8761600806282283,
          0.840159914272761,
          0.8337375278301896,
          0.8624092082357885,
          0.8709477697591727
         ],
         "yaxis": "y"
        },
        {
         "alignmentgroup": "True",
         "hovertemplate": "Vaccin:=wide_variable_2<br>Län=%{x}<br>Befolkning=%{y}<extra></extra>",
         "legendgroup": "wide_variable_2",
         "marker": {
          "color": "#00cc96",
          "pattern": {
           "shape": ""
          }
         },
         "name": "Dos 3",
         "offsetgroup": "wide_variable_2",
         "orientation": "v",
         "showlegend": true,
         "textposition": "auto",
         "type": "bar",
         "x": [
          "Stockholms län",
          "Uppsala län",
          "Södermanlands län",
          "Östergötlands län",
          "Jönköpings län",
          "Kronobergs län",
          "Kalmar län",
          "Gotlands län",
          "Blekinge län",
          "Skåne län",
          "Hallands län",
          "Västra Götalands län",
          "Värmlands län",
          "Örebro län",
          "Västmanlands län",
          "Dalarnas län",
          "Gävleborgs län",
          "Västernorrlands län",
          "Jämtlands län",
          "Västerbottens län",
          "Norrbottens län"
         ],
         "xaxis": "x",
         "y": [
          0.6625851414298736,
          0.6520678369532877,
          0.6945701357466063,
          0.6332468994829829,
          0.6496078305367936,
          0.6356782613216867,
          0.6287847993571868,
          0.6793225781152687,
          0.5917106830082677,
          0.6785271504411918,
          0.5644942129810616,
          0.5699565717821132,
          0.6137173351274484,
          0.6576403728914224,
          0.69278010905547,
          0.6774302599288826,
          0.6632558313152946,
          0.6132094135102831,
          0.5814661960680048,
          0.6431958701002461,
          0.6595796227911108
         ],
         "yaxis": "y"
        }
       ],
       "layout": {
        "barmode": "group",
        "legend": {
         "title": {
          "text": "Vaccin:"
         },
         "tracegroupgap": 0
        },
        "template": {
         "data": {
          "bar": [
           {
            "error_x": {
             "color": "#f2f5fa"
            },
            "error_y": {
             "color": "#f2f5fa"
            },
            "marker": {
             "line": {
              "color": "rgb(17,17,17)",
              "width": 0.5
             },
             "pattern": {
              "fillmode": "overlay",
              "size": 10,
              "solidity": 0.2
             }
            },
            "type": "bar"
           }
          ],
          "barpolar": [
           {
            "marker": {
             "line": {
              "color": "rgb(17,17,17)",
              "width": 0.5
             },
             "pattern": {
              "fillmode": "overlay",
              "size": 10,
              "solidity": 0.2
             }
            },
            "type": "barpolar"
           }
          ],
          "carpet": [
           {
            "aaxis": {
             "endlinecolor": "#A2B1C6",
             "gridcolor": "#506784",
             "linecolor": "#506784",
             "minorgridcolor": "#506784",
             "startlinecolor": "#A2B1C6"
            },
            "baxis": {
             "endlinecolor": "#A2B1C6",
             "gridcolor": "#506784",
             "linecolor": "#506784",
             "minorgridcolor": "#506784",
             "startlinecolor": "#A2B1C6"
            },
            "type": "carpet"
           }
          ],
          "choropleth": [
           {
            "colorbar": {
             "outlinewidth": 0,
             "ticks": ""
            },
            "type": "choropleth"
           }
          ],
          "contour": [
           {
            "colorbar": {
             "outlinewidth": 0,
             "ticks": ""
            },
            "colorscale": [
             [
              0,
              "#0d0887"
             ],
             [
              0.1111111111111111,
              "#46039f"
             ],
             [
              0.2222222222222222,
              "#7201a8"
             ],
             [
              0.3333333333333333,
              "#9c179e"
             ],
             [
              0.4444444444444444,
              "#bd3786"
             ],
             [
              0.5555555555555556,
              "#d8576b"
             ],
             [
              0.6666666666666666,
              "#ed7953"
             ],
             [
              0.7777777777777778,
              "#fb9f3a"
             ],
             [
              0.8888888888888888,
              "#fdca26"
             ],
             [
              1,
              "#f0f921"
             ]
            ],
            "type": "contour"
           }
          ],
          "contourcarpet": [
           {
            "colorbar": {
             "outlinewidth": 0,
             "ticks": ""
            },
            "type": "contourcarpet"
           }
          ],
          "heatmap": [
           {
            "colorbar": {
             "outlinewidth": 0,
             "ticks": ""
            },
            "colorscale": [
             [
              0,
              "#0d0887"
             ],
             [
              0.1111111111111111,
              "#46039f"
             ],
             [
              0.2222222222222222,
              "#7201a8"
             ],
             [
              0.3333333333333333,
              "#9c179e"
             ],
             [
              0.4444444444444444,
              "#bd3786"
             ],
             [
              0.5555555555555556,
              "#d8576b"
             ],
             [
              0.6666666666666666,
              "#ed7953"
             ],
             [
              0.7777777777777778,
              "#fb9f3a"
             ],
             [
              0.8888888888888888,
              "#fdca26"
             ],
             [
              1,
              "#f0f921"
             ]
            ],
            "type": "heatmap"
           }
          ],
          "heatmapgl": [
           {
            "colorbar": {
             "outlinewidth": 0,
             "ticks": ""
            },
            "colorscale": [
             [
              0,
              "#0d0887"
             ],
             [
              0.1111111111111111,
              "#46039f"
             ],
             [
              0.2222222222222222,
              "#7201a8"
             ],
             [
              0.3333333333333333,
              "#9c179e"
             ],
             [
              0.4444444444444444,
              "#bd3786"
             ],
             [
              0.5555555555555556,
              "#d8576b"
             ],
             [
              0.6666666666666666,
              "#ed7953"
             ],
             [
              0.7777777777777778,
              "#fb9f3a"
             ],
             [
              0.8888888888888888,
              "#fdca26"
             ],
             [
              1,
              "#f0f921"
             ]
            ],
            "type": "heatmapgl"
           }
          ],
          "histogram": [
           {
            "marker": {
             "pattern": {
              "fillmode": "overlay",
              "size": 10,
              "solidity": 0.2
             }
            },
            "type": "histogram"
           }
          ],
          "histogram2d": [
           {
            "colorbar": {
             "outlinewidth": 0,
             "ticks": ""
            },
            "colorscale": [
             [
              0,
              "#0d0887"
             ],
             [
              0.1111111111111111,
              "#46039f"
             ],
             [
              0.2222222222222222,
              "#7201a8"
             ],
             [
              0.3333333333333333,
              "#9c179e"
             ],
             [
              0.4444444444444444,
              "#bd3786"
             ],
             [
              0.5555555555555556,
              "#d8576b"
             ],
             [
              0.6666666666666666,
              "#ed7953"
             ],
             [
              0.7777777777777778,
              "#fb9f3a"
             ],
             [
              0.8888888888888888,
              "#fdca26"
             ],
             [
              1,
              "#f0f921"
             ]
            ],
            "type": "histogram2d"
           }
          ],
          "histogram2dcontour": [
           {
            "colorbar": {
             "outlinewidth": 0,
             "ticks": ""
            },
            "colorscale": [
             [
              0,
              "#0d0887"
             ],
             [
              0.1111111111111111,
              "#46039f"
             ],
             [
              0.2222222222222222,
              "#7201a8"
             ],
             [
              0.3333333333333333,
              "#9c179e"
             ],
             [
              0.4444444444444444,
              "#bd3786"
             ],
             [
              0.5555555555555556,
              "#d8576b"
             ],
             [
              0.6666666666666666,
              "#ed7953"
             ],
             [
              0.7777777777777778,
              "#fb9f3a"
             ],
             [
              0.8888888888888888,
              "#fdca26"
             ],
             [
              1,
              "#f0f921"
             ]
            ],
            "type": "histogram2dcontour"
           }
          ],
          "mesh3d": [
           {
            "colorbar": {
             "outlinewidth": 0,
             "ticks": ""
            },
            "type": "mesh3d"
           }
          ],
          "parcoords": [
           {
            "line": {
             "colorbar": {
              "outlinewidth": 0,
              "ticks": ""
             }
            },
            "type": "parcoords"
           }
          ],
          "pie": [
           {
            "automargin": true,
            "type": "pie"
           }
          ],
          "scatter": [
           {
            "marker": {
             "line": {
              "color": "#283442"
             }
            },
            "type": "scatter"
           }
          ],
          "scatter3d": [
           {
            "line": {
             "colorbar": {
              "outlinewidth": 0,
              "ticks": ""
             }
            },
            "marker": {
             "colorbar": {
              "outlinewidth": 0,
              "ticks": ""
             }
            },
            "type": "scatter3d"
           }
          ],
          "scattercarpet": [
           {
            "marker": {
             "colorbar": {
              "outlinewidth": 0,
              "ticks": ""
             }
            },
            "type": "scattercarpet"
           }
          ],
          "scattergeo": [
           {
            "marker": {
             "colorbar": {
              "outlinewidth": 0,
              "ticks": ""
             }
            },
            "type": "scattergeo"
           }
          ],
          "scattergl": [
           {
            "marker": {
             "line": {
              "color": "#283442"
             }
            },
            "type": "scattergl"
           }
          ],
          "scattermapbox": [
           {
            "marker": {
             "colorbar": {
              "outlinewidth": 0,
              "ticks": ""
             }
            },
            "type": "scattermapbox"
           }
          ],
          "scatterpolar": [
           {
            "marker": {
             "colorbar": {
              "outlinewidth": 0,
              "ticks": ""
             }
            },
            "type": "scatterpolar"
           }
          ],
          "scatterpolargl": [
           {
            "marker": {
             "colorbar": {
              "outlinewidth": 0,
              "ticks": ""
             }
            },
            "type": "scatterpolargl"
           }
          ],
          "scatterternary": [
           {
            "marker": {
             "colorbar": {
              "outlinewidth": 0,
              "ticks": ""
             }
            },
            "type": "scatterternary"
           }
          ],
          "surface": [
           {
            "colorbar": {
             "outlinewidth": 0,
             "ticks": ""
            },
            "colorscale": [
             [
              0,
              "#0d0887"
             ],
             [
              0.1111111111111111,
              "#46039f"
             ],
             [
              0.2222222222222222,
              "#7201a8"
             ],
             [
              0.3333333333333333,
              "#9c179e"
             ],
             [
              0.4444444444444444,
              "#bd3786"
             ],
             [
              0.5555555555555556,
              "#d8576b"
             ],
             [
              0.6666666666666666,
              "#ed7953"
             ],
             [
              0.7777777777777778,
              "#fb9f3a"
             ],
             [
              0.8888888888888888,
              "#fdca26"
             ],
             [
              1,
              "#f0f921"
             ]
            ],
            "type": "surface"
           }
          ],
          "table": [
           {
            "cells": {
             "fill": {
              "color": "#506784"
             },
             "line": {
              "color": "rgb(17,17,17)"
             }
            },
            "header": {
             "fill": {
              "color": "#2a3f5f"
             },
             "line": {
              "color": "rgb(17,17,17)"
             }
            },
            "type": "table"
           }
          ]
         },
         "layout": {
          "annotationdefaults": {
           "arrowcolor": "#f2f5fa",
           "arrowhead": 0,
           "arrowwidth": 1
          },
          "autotypenumbers": "strict",
          "coloraxis": {
           "colorbar": {
            "outlinewidth": 0,
            "ticks": ""
           }
          },
          "colorscale": {
           "diverging": [
            [
             0,
             "#8e0152"
            ],
            [
             0.1,
             "#c51b7d"
            ],
            [
             0.2,
             "#de77ae"
            ],
            [
             0.3,
             "#f1b6da"
            ],
            [
             0.4,
             "#fde0ef"
            ],
            [
             0.5,
             "#f7f7f7"
            ],
            [
             0.6,
             "#e6f5d0"
            ],
            [
             0.7,
             "#b8e186"
            ],
            [
             0.8,
             "#7fbc41"
            ],
            [
             0.9,
             "#4d9221"
            ],
            [
             1,
             "#276419"
            ]
           ],
           "sequential": [
            [
             0,
             "#0d0887"
            ],
            [
             0.1111111111111111,
             "#46039f"
            ],
            [
             0.2222222222222222,
             "#7201a8"
            ],
            [
             0.3333333333333333,
             "#9c179e"
            ],
            [
             0.4444444444444444,
             "#bd3786"
            ],
            [
             0.5555555555555556,
             "#d8576b"
            ],
            [
             0.6666666666666666,
             "#ed7953"
            ],
            [
             0.7777777777777778,
             "#fb9f3a"
            ],
            [
             0.8888888888888888,
             "#fdca26"
            ],
            [
             1,
             "#f0f921"
            ]
           ],
           "sequentialminus": [
            [
             0,
             "#0d0887"
            ],
            [
             0.1111111111111111,
             "#46039f"
            ],
            [
             0.2222222222222222,
             "#7201a8"
            ],
            [
             0.3333333333333333,
             "#9c179e"
            ],
            [
             0.4444444444444444,
             "#bd3786"
            ],
            [
             0.5555555555555556,
             "#d8576b"
            ],
            [
             0.6666666666666666,
             "#ed7953"
            ],
            [
             0.7777777777777778,
             "#fb9f3a"
            ],
            [
             0.8888888888888888,
             "#fdca26"
            ],
            [
             1,
             "#f0f921"
            ]
           ]
          },
          "colorway": [
           "#636efa",
           "#EF553B",
           "#00cc96",
           "#ab63fa",
           "#FFA15A",
           "#19d3f3",
           "#FF6692",
           "#B6E880",
           "#FF97FF",
           "#FECB52"
          ],
          "font": {
           "color": "#f2f5fa"
          },
          "geo": {
           "bgcolor": "rgb(17,17,17)",
           "lakecolor": "rgb(17,17,17)",
           "landcolor": "rgb(17,17,17)",
           "showlakes": true,
           "showland": true,
           "subunitcolor": "#506784"
          },
          "hoverlabel": {
           "align": "left"
          },
          "hovermode": "closest",
          "mapbox": {
           "style": "dark"
          },
          "paper_bgcolor": "rgb(17,17,17)",
          "plot_bgcolor": "rgb(17,17,17)",
          "polar": {
           "angularaxis": {
            "gridcolor": "#506784",
            "linecolor": "#506784",
            "ticks": ""
           },
           "bgcolor": "rgb(17,17,17)",
           "radialaxis": {
            "gridcolor": "#506784",
            "linecolor": "#506784",
            "ticks": ""
           }
          },
          "scene": {
           "xaxis": {
            "backgroundcolor": "rgb(17,17,17)",
            "gridcolor": "#506784",
            "gridwidth": 2,
            "linecolor": "#506784",
            "showbackground": true,
            "ticks": "",
            "zerolinecolor": "#C8D4E3"
           },
           "yaxis": {
            "backgroundcolor": "rgb(17,17,17)",
            "gridcolor": "#506784",
            "gridwidth": 2,
            "linecolor": "#506784",
            "showbackground": true,
            "ticks": "",
            "zerolinecolor": "#C8D4E3"
           },
           "zaxis": {
            "backgroundcolor": "rgb(17,17,17)",
            "gridcolor": "#506784",
            "gridwidth": 2,
            "linecolor": "#506784",
            "showbackground": true,
            "ticks": "",
            "zerolinecolor": "#C8D4E3"
           }
          },
          "shapedefaults": {
           "line": {
            "color": "#f2f5fa"
           }
          },
          "sliderdefaults": {
           "bgcolor": "#C8D4E3",
           "bordercolor": "rgb(17,17,17)",
           "borderwidth": 1,
           "tickwidth": 0
          },
          "ternary": {
           "aaxis": {
            "gridcolor": "#506784",
            "linecolor": "#506784",
            "ticks": ""
           },
           "baxis": {
            "gridcolor": "#506784",
            "linecolor": "#506784",
            "ticks": ""
           },
           "bgcolor": "rgb(17,17,17)",
           "caxis": {
            "gridcolor": "#506784",
            "linecolor": "#506784",
            "ticks": ""
           }
          },
          "title": {
           "x": 0.05
          },
          "updatemenudefaults": {
           "bgcolor": "#506784",
           "borderwidth": 0
          },
          "xaxis": {
           "automargin": true,
           "gridcolor": "#283442",
           "linecolor": "#506784",
           "ticks": "",
           "title": {
            "standoff": 15
           },
           "zerolinecolor": "#283442",
           "zerolinewidth": 2
          },
          "yaxis": {
           "automargin": true,
           "gridcolor": "#283442",
           "linecolor": "#506784",
           "ticks": "",
           "title": {
            "standoff": 15
           },
           "zerolinecolor": "#283442",
           "zerolinewidth": 2
          }
         }
        },
        "title": {
         "text": "Andel vaccinerade per län"
        },
        "xaxis": {
         "anchor": "y",
         "domain": [
          0,
          1
         ],
         "tickangle": 40,
         "title": {
          "text": "Län"
         }
        },
        "yaxis": {
         "anchor": "x",
         "domain": [
          0,
          1
         ],
         "title": {
          "text": "Befolkning"
         }
        }
       }
      }
     },
     "metadata": {},
     "output_type": "display_data"
    }
   ],
   "source": [
    "befolk, doser = vaccin.groupby(\"Län_namn\")[\"Befolkning\"].sum(), vaccin.groupby(\"Län_namn\")\n",
    "\n",
    "# Group province population sum with name of province\n",
    "dos1 = doser[\"Antal minst 1 dos\"].sum() / befolk\n",
    "dos2 = doser[\"Antal minst 2 doser\"].sum() / befolk\n",
    "dos3 = doser[\"Antal 3 doser\"].sum() / befolk\n",
    "\n",
    "# Function by @Danneftw1\n",
    "def plotly_bar_plot_with_labels_sublabels (x, y, title, labels, sublabels, file_name_save):\n",
    "    fig2f = px.bar(\n",
    "        x=x,\n",
    "        y=y,\n",
    "        barmode= 'group', # group bars horizontally\n",
    "        labels=labels,\n",
    "        title=title\n",
    "    )\n",
    "\n",
    "    newnames = sublabels\n",
    "    # To be able to change the sub titles for 'Antal doser' without changing the data source,\n",
    "    # you can switch the legendgroups name with a dict and map it onto existing subtitle names.\n",
    "    # I had to do this since I couldn't change it through 'labels=' like the other titles\n",
    "    # source: https://stackoverflow.com/questions/64371174/plotly-how-to-change-variable-label-names-for-the-legend-in-a-plotly-express-li\n",
    "    fig2f.for_each_trace(lambda t: t.update(name=newnames[t.name]))\n",
    "\n",
    "    # Angle province names for readability\n",
    "    fig2f.update_xaxes(tickangle=40)\n",
    "    fig2f.show()\n",
    "\n",
    "labels_ = {\"value\": \"Befolkning\",\n",
    "            \"variable\": \"Vaccin:\",\n",
    "            \"x\": \"Län\",}\n",
    "\n",
    "newnames = {\"wide_variable_0\": \"Dos 1\",\n",
    "            \"wide_variable_1\": \"Dos 2\",\n",
    "            \"wide_variable_2\": \"Dos 3\",}\n",
    "\n",
    "plotly_bar_plot_with_labels_sublabels(vaccin.Län_namn.unique(), [dos1, dos2, dos3],\"Andel vaccinerade per län\", labels_, newnames, \"Andel_vaccinerade_per_lä234n\")\n"
   ]
  },
  {
   "cell_type": "markdown",
   "metadata": {},
   "source": [
    "### Uppgift g)\n",
    "Tag Västra Götalands län och Stockholms län och rita diagram över andelen vaccinerade med minst 1 dos, två doser, tre doser och fyra doser."
   ]
  },
  {
   "cell_type": "code",
   "execution_count": 119,
   "metadata": {},
   "outputs": [
    {
     "data": {
      "application/vnd.plotly.v1+json": {
       "config": {
        "plotlyServerURL": "https://plot.ly"
       },
       "data": [
        {
         "alignmentgroup": "True",
         "hovertemplate": "variable=wide_variable_0<br>x=%{x}<br>value=%{y}<extra></extra>",
         "legendgroup": "wide_variable_0",
         "marker": {
          "color": "#636efa",
          "pattern": {
           "shape": ""
          }
         },
         "name": "Dos 1",
         "offsetgroup": "wide_variable_0",
         "orientation": "v",
         "showlegend": true,
         "textposition": "auto",
         "type": "bar",
         "x": [
          "Stockholms län",
          "Västra Götalands län"
         ],
         "xaxis": "x",
         "y": [
          0.8314042777057183,
          0.8551882449491044
         ],
         "yaxis": "y"
        },
        {
         "alignmentgroup": "True",
         "hovertemplate": "variable=wide_variable_1<br>x=%{x}<br>value=%{y}<extra></extra>",
         "legendgroup": "wide_variable_1",
         "marker": {
          "color": "#EF553B",
          "pattern": {
           "shape": ""
          }
         },
         "name": "Dos 2",
         "offsetgroup": "wide_variable_1",
         "orientation": "v",
         "showlegend": true,
         "textposition": "auto",
         "type": "bar",
         "x": [
          "Stockholms län",
          "Västra Götalands län"
         ],
         "xaxis": "x",
         "y": [
          0.8013143516487399,
          0.8337375278301896
         ],
         "yaxis": "y"
        },
        {
         "alignmentgroup": "True",
         "hovertemplate": "variable=wide_variable_2<br>x=%{x}<br>value=%{y}<extra></extra>",
         "legendgroup": "wide_variable_2",
         "marker": {
          "color": "#00cc96",
          "pattern": {
           "shape": ""
          }
         },
         "name": "Dos 3",
         "offsetgroup": "wide_variable_2",
         "orientation": "v",
         "showlegend": true,
         "textposition": "auto",
         "type": "bar",
         "x": [
          "Stockholms län",
          "Västra Götalands län"
         ],
         "xaxis": "x",
         "y": [
          0.5699565717821132,
          0.5814661960680048
         ],
         "yaxis": "y"
        },
        {
         "alignmentgroup": "True",
         "hovertemplate": "variable=wide_variable_3<br>x=%{x}<br>value=%{y}<extra></extra>",
         "legendgroup": "wide_variable_3",
         "marker": {
          "color": "#ab63fa",
          "pattern": {
           "shape": ""
          }
         },
         "name": "Dos 4",
         "offsetgroup": "wide_variable_3",
         "orientation": "v",
         "showlegend": true,
         "textposition": "auto",
         "type": "bar",
         "x": [
          "Stockholms län",
          "Västra Götalands län"
         ],
         "xaxis": "x",
         "y": [
          0.11316495132287308,
          0.14105718853057256
         ],
         "yaxis": "y"
        }
       ],
       "layout": {
        "barmode": "group",
        "legend": {
         "title": {
          "text": "variable"
         },
         "tracegroupgap": 0
        },
        "template": {
         "data": {
          "bar": [
           {
            "error_x": {
             "color": "#f2f5fa"
            },
            "error_y": {
             "color": "#f2f5fa"
            },
            "marker": {
             "line": {
              "color": "rgb(17,17,17)",
              "width": 0.5
             },
             "pattern": {
              "fillmode": "overlay",
              "size": 10,
              "solidity": 0.2
             }
            },
            "type": "bar"
           }
          ],
          "barpolar": [
           {
            "marker": {
             "line": {
              "color": "rgb(17,17,17)",
              "width": 0.5
             },
             "pattern": {
              "fillmode": "overlay",
              "size": 10,
              "solidity": 0.2
             }
            },
            "type": "barpolar"
           }
          ],
          "carpet": [
           {
            "aaxis": {
             "endlinecolor": "#A2B1C6",
             "gridcolor": "#506784",
             "linecolor": "#506784",
             "minorgridcolor": "#506784",
             "startlinecolor": "#A2B1C6"
            },
            "baxis": {
             "endlinecolor": "#A2B1C6",
             "gridcolor": "#506784",
             "linecolor": "#506784",
             "minorgridcolor": "#506784",
             "startlinecolor": "#A2B1C6"
            },
            "type": "carpet"
           }
          ],
          "choropleth": [
           {
            "colorbar": {
             "outlinewidth": 0,
             "ticks": ""
            },
            "type": "choropleth"
           }
          ],
          "contour": [
           {
            "colorbar": {
             "outlinewidth": 0,
             "ticks": ""
            },
            "colorscale": [
             [
              0,
              "#0d0887"
             ],
             [
              0.1111111111111111,
              "#46039f"
             ],
             [
              0.2222222222222222,
              "#7201a8"
             ],
             [
              0.3333333333333333,
              "#9c179e"
             ],
             [
              0.4444444444444444,
              "#bd3786"
             ],
             [
              0.5555555555555556,
              "#d8576b"
             ],
             [
              0.6666666666666666,
              "#ed7953"
             ],
             [
              0.7777777777777778,
              "#fb9f3a"
             ],
             [
              0.8888888888888888,
              "#fdca26"
             ],
             [
              1,
              "#f0f921"
             ]
            ],
            "type": "contour"
           }
          ],
          "contourcarpet": [
           {
            "colorbar": {
             "outlinewidth": 0,
             "ticks": ""
            },
            "type": "contourcarpet"
           }
          ],
          "heatmap": [
           {
            "colorbar": {
             "outlinewidth": 0,
             "ticks": ""
            },
            "colorscale": [
             [
              0,
              "#0d0887"
             ],
             [
              0.1111111111111111,
              "#46039f"
             ],
             [
              0.2222222222222222,
              "#7201a8"
             ],
             [
              0.3333333333333333,
              "#9c179e"
             ],
             [
              0.4444444444444444,
              "#bd3786"
             ],
             [
              0.5555555555555556,
              "#d8576b"
             ],
             [
              0.6666666666666666,
              "#ed7953"
             ],
             [
              0.7777777777777778,
              "#fb9f3a"
             ],
             [
              0.8888888888888888,
              "#fdca26"
             ],
             [
              1,
              "#f0f921"
             ]
            ],
            "type": "heatmap"
           }
          ],
          "heatmapgl": [
           {
            "colorbar": {
             "outlinewidth": 0,
             "ticks": ""
            },
            "colorscale": [
             [
              0,
              "#0d0887"
             ],
             [
              0.1111111111111111,
              "#46039f"
             ],
             [
              0.2222222222222222,
              "#7201a8"
             ],
             [
              0.3333333333333333,
              "#9c179e"
             ],
             [
              0.4444444444444444,
              "#bd3786"
             ],
             [
              0.5555555555555556,
              "#d8576b"
             ],
             [
              0.6666666666666666,
              "#ed7953"
             ],
             [
              0.7777777777777778,
              "#fb9f3a"
             ],
             [
              0.8888888888888888,
              "#fdca26"
             ],
             [
              1,
              "#f0f921"
             ]
            ],
            "type": "heatmapgl"
           }
          ],
          "histogram": [
           {
            "marker": {
             "pattern": {
              "fillmode": "overlay",
              "size": 10,
              "solidity": 0.2
             }
            },
            "type": "histogram"
           }
          ],
          "histogram2d": [
           {
            "colorbar": {
             "outlinewidth": 0,
             "ticks": ""
            },
            "colorscale": [
             [
              0,
              "#0d0887"
             ],
             [
              0.1111111111111111,
              "#46039f"
             ],
             [
              0.2222222222222222,
              "#7201a8"
             ],
             [
              0.3333333333333333,
              "#9c179e"
             ],
             [
              0.4444444444444444,
              "#bd3786"
             ],
             [
              0.5555555555555556,
              "#d8576b"
             ],
             [
              0.6666666666666666,
              "#ed7953"
             ],
             [
              0.7777777777777778,
              "#fb9f3a"
             ],
             [
              0.8888888888888888,
              "#fdca26"
             ],
             [
              1,
              "#f0f921"
             ]
            ],
            "type": "histogram2d"
           }
          ],
          "histogram2dcontour": [
           {
            "colorbar": {
             "outlinewidth": 0,
             "ticks": ""
            },
            "colorscale": [
             [
              0,
              "#0d0887"
             ],
             [
              0.1111111111111111,
              "#46039f"
             ],
             [
              0.2222222222222222,
              "#7201a8"
             ],
             [
              0.3333333333333333,
              "#9c179e"
             ],
             [
              0.4444444444444444,
              "#bd3786"
             ],
             [
              0.5555555555555556,
              "#d8576b"
             ],
             [
              0.6666666666666666,
              "#ed7953"
             ],
             [
              0.7777777777777778,
              "#fb9f3a"
             ],
             [
              0.8888888888888888,
              "#fdca26"
             ],
             [
              1,
              "#f0f921"
             ]
            ],
            "type": "histogram2dcontour"
           }
          ],
          "mesh3d": [
           {
            "colorbar": {
             "outlinewidth": 0,
             "ticks": ""
            },
            "type": "mesh3d"
           }
          ],
          "parcoords": [
           {
            "line": {
             "colorbar": {
              "outlinewidth": 0,
              "ticks": ""
             }
            },
            "type": "parcoords"
           }
          ],
          "pie": [
           {
            "automargin": true,
            "type": "pie"
           }
          ],
          "scatter": [
           {
            "marker": {
             "line": {
              "color": "#283442"
             }
            },
            "type": "scatter"
           }
          ],
          "scatter3d": [
           {
            "line": {
             "colorbar": {
              "outlinewidth": 0,
              "ticks": ""
             }
            },
            "marker": {
             "colorbar": {
              "outlinewidth": 0,
              "ticks": ""
             }
            },
            "type": "scatter3d"
           }
          ],
          "scattercarpet": [
           {
            "marker": {
             "colorbar": {
              "outlinewidth": 0,
              "ticks": ""
             }
            },
            "type": "scattercarpet"
           }
          ],
          "scattergeo": [
           {
            "marker": {
             "colorbar": {
              "outlinewidth": 0,
              "ticks": ""
             }
            },
            "type": "scattergeo"
           }
          ],
          "scattergl": [
           {
            "marker": {
             "line": {
              "color": "#283442"
             }
            },
            "type": "scattergl"
           }
          ],
          "scattermapbox": [
           {
            "marker": {
             "colorbar": {
              "outlinewidth": 0,
              "ticks": ""
             }
            },
            "type": "scattermapbox"
           }
          ],
          "scatterpolar": [
           {
            "marker": {
             "colorbar": {
              "outlinewidth": 0,
              "ticks": ""
             }
            },
            "type": "scatterpolar"
           }
          ],
          "scatterpolargl": [
           {
            "marker": {
             "colorbar": {
              "outlinewidth": 0,
              "ticks": ""
             }
            },
            "type": "scatterpolargl"
           }
          ],
          "scatterternary": [
           {
            "marker": {
             "colorbar": {
              "outlinewidth": 0,
              "ticks": ""
             }
            },
            "type": "scatterternary"
           }
          ],
          "surface": [
           {
            "colorbar": {
             "outlinewidth": 0,
             "ticks": ""
            },
            "colorscale": [
             [
              0,
              "#0d0887"
             ],
             [
              0.1111111111111111,
              "#46039f"
             ],
             [
              0.2222222222222222,
              "#7201a8"
             ],
             [
              0.3333333333333333,
              "#9c179e"
             ],
             [
              0.4444444444444444,
              "#bd3786"
             ],
             [
              0.5555555555555556,
              "#d8576b"
             ],
             [
              0.6666666666666666,
              "#ed7953"
             ],
             [
              0.7777777777777778,
              "#fb9f3a"
             ],
             [
              0.8888888888888888,
              "#fdca26"
             ],
             [
              1,
              "#f0f921"
             ]
            ],
            "type": "surface"
           }
          ],
          "table": [
           {
            "cells": {
             "fill": {
              "color": "#506784"
             },
             "line": {
              "color": "rgb(17,17,17)"
             }
            },
            "header": {
             "fill": {
              "color": "#2a3f5f"
             },
             "line": {
              "color": "rgb(17,17,17)"
             }
            },
            "type": "table"
           }
          ]
         },
         "layout": {
          "annotationdefaults": {
           "arrowcolor": "#f2f5fa",
           "arrowhead": 0,
           "arrowwidth": 1
          },
          "autotypenumbers": "strict",
          "coloraxis": {
           "colorbar": {
            "outlinewidth": 0,
            "ticks": ""
           }
          },
          "colorscale": {
           "diverging": [
            [
             0,
             "#8e0152"
            ],
            [
             0.1,
             "#c51b7d"
            ],
            [
             0.2,
             "#de77ae"
            ],
            [
             0.3,
             "#f1b6da"
            ],
            [
             0.4,
             "#fde0ef"
            ],
            [
             0.5,
             "#f7f7f7"
            ],
            [
             0.6,
             "#e6f5d0"
            ],
            [
             0.7,
             "#b8e186"
            ],
            [
             0.8,
             "#7fbc41"
            ],
            [
             0.9,
             "#4d9221"
            ],
            [
             1,
             "#276419"
            ]
           ],
           "sequential": [
            [
             0,
             "#0d0887"
            ],
            [
             0.1111111111111111,
             "#46039f"
            ],
            [
             0.2222222222222222,
             "#7201a8"
            ],
            [
             0.3333333333333333,
             "#9c179e"
            ],
            [
             0.4444444444444444,
             "#bd3786"
            ],
            [
             0.5555555555555556,
             "#d8576b"
            ],
            [
             0.6666666666666666,
             "#ed7953"
            ],
            [
             0.7777777777777778,
             "#fb9f3a"
            ],
            [
             0.8888888888888888,
             "#fdca26"
            ],
            [
             1,
             "#f0f921"
            ]
           ],
           "sequentialminus": [
            [
             0,
             "#0d0887"
            ],
            [
             0.1111111111111111,
             "#46039f"
            ],
            [
             0.2222222222222222,
             "#7201a8"
            ],
            [
             0.3333333333333333,
             "#9c179e"
            ],
            [
             0.4444444444444444,
             "#bd3786"
            ],
            [
             0.5555555555555556,
             "#d8576b"
            ],
            [
             0.6666666666666666,
             "#ed7953"
            ],
            [
             0.7777777777777778,
             "#fb9f3a"
            ],
            [
             0.8888888888888888,
             "#fdca26"
            ],
            [
             1,
             "#f0f921"
            ]
           ]
          },
          "colorway": [
           "#636efa",
           "#EF553B",
           "#00cc96",
           "#ab63fa",
           "#FFA15A",
           "#19d3f3",
           "#FF6692",
           "#B6E880",
           "#FF97FF",
           "#FECB52"
          ],
          "font": {
           "color": "#f2f5fa"
          },
          "geo": {
           "bgcolor": "rgb(17,17,17)",
           "lakecolor": "rgb(17,17,17)",
           "landcolor": "rgb(17,17,17)",
           "showlakes": true,
           "showland": true,
           "subunitcolor": "#506784"
          },
          "hoverlabel": {
           "align": "left"
          },
          "hovermode": "closest",
          "mapbox": {
           "style": "dark"
          },
          "paper_bgcolor": "rgb(17,17,17)",
          "plot_bgcolor": "rgb(17,17,17)",
          "polar": {
           "angularaxis": {
            "gridcolor": "#506784",
            "linecolor": "#506784",
            "ticks": ""
           },
           "bgcolor": "rgb(17,17,17)",
           "radialaxis": {
            "gridcolor": "#506784",
            "linecolor": "#506784",
            "ticks": ""
           }
          },
          "scene": {
           "xaxis": {
            "backgroundcolor": "rgb(17,17,17)",
            "gridcolor": "#506784",
            "gridwidth": 2,
            "linecolor": "#506784",
            "showbackground": true,
            "ticks": "",
            "zerolinecolor": "#C8D4E3"
           },
           "yaxis": {
            "backgroundcolor": "rgb(17,17,17)",
            "gridcolor": "#506784",
            "gridwidth": 2,
            "linecolor": "#506784",
            "showbackground": true,
            "ticks": "",
            "zerolinecolor": "#C8D4E3"
           },
           "zaxis": {
            "backgroundcolor": "rgb(17,17,17)",
            "gridcolor": "#506784",
            "gridwidth": 2,
            "linecolor": "#506784",
            "showbackground": true,
            "ticks": "",
            "zerolinecolor": "#C8D4E3"
           }
          },
          "shapedefaults": {
           "line": {
            "color": "#f2f5fa"
           }
          },
          "sliderdefaults": {
           "bgcolor": "#C8D4E3",
           "bordercolor": "rgb(17,17,17)",
           "borderwidth": 1,
           "tickwidth": 0
          },
          "ternary": {
           "aaxis": {
            "gridcolor": "#506784",
            "linecolor": "#506784",
            "ticks": ""
           },
           "baxis": {
            "gridcolor": "#506784",
            "linecolor": "#506784",
            "ticks": ""
           },
           "bgcolor": "rgb(17,17,17)",
           "caxis": {
            "gridcolor": "#506784",
            "linecolor": "#506784",
            "ticks": ""
           }
          },
          "title": {
           "x": 0.05
          },
          "updatemenudefaults": {
           "bgcolor": "#506784",
           "borderwidth": 0
          },
          "xaxis": {
           "automargin": true,
           "gridcolor": "#283442",
           "linecolor": "#506784",
           "ticks": "",
           "title": {
            "standoff": 15
           },
           "zerolinecolor": "#283442",
           "zerolinewidth": 2
          },
          "yaxis": {
           "automargin": true,
           "gridcolor": "#283442",
           "linecolor": "#506784",
           "ticks": "",
           "title": {
            "standoff": 15
           },
           "zerolinecolor": "#283442",
           "zerolinewidth": 2
          }
         }
        },
        "title": {
         "text": "Antal vaccinerade / län"
        },
        "xaxis": {
         "anchor": "y",
         "domain": [
          0,
          1
         ],
         "tickangle": 40,
         "title": {
          "text": "x"
         }
        },
        "yaxis": {
         "anchor": "x",
         "domain": [
          0,
          1
         ],
         "title": {
          "text": "value"
         }
        }
       }
      }
     },
     "metadata": {},
     "output_type": "display_data"
    }
   ],
   "source": [
    "#\n",
    "\n",
    "# Received help from Håkan in order to group both provinces together to create 4 variables instead of 8\n",
    "västra_göta_stockh = vaccin[(vaccin[\"Län_namn\"] == \"Västra Götalands län\") | (vaccin[\"Län_namn\"] == \"Stockholms län\")]\n",
    "västra_göta_stockh_group = västra_göta_stockh.groupby(\"Län\")\n",
    "\n",
    "# works same as exercise above after grouping\n",
    "andel_dos1 = västra_göta_stockh_group[\"Antal minst 1 dos\"].sum() / västra_göta_stockh_group[\"Befolkning\"].sum()\n",
    "andel_dos2 = västra_göta_stockh_group[\"Antal minst 2 doser\"].sum() / västra_göta_stockh_group[\"Befolkning\"].sum()\n",
    "andel_dos3 = västra_göta_stockh_group[\"Antal 3 doser\"].sum() / västra_göta_stockh_group[\"Befolkning\"].sum()\n",
    "andel_dos4 = västra_göta_stockh_group[\"Antal 4 doser\"].sum() / västra_göta_stockh_group[\"Befolkning\"].sum()\n",
    "\n",
    "labels_dos ={\n",
    "            \"value\": \"Befolkning\",\n",
    "            \"variable\": \"Antal doser\",\n",
    "            \"x\": \"Sveriges Län\",},\n",
    "\n",
    "sub_labels = {\n",
    "            \"wide_variable_0\": \"Dos 1\",\n",
    "            \"wide_variable_1\": \"Dos 2\",\n",
    "            \"wide_variable_2\": \"Dos 3\",\n",
    "            \"wide_variable_3\": \"Dos 4\"}\n",
    "\n",
    "plotly_bar_plot_with_labels_sublabels( \n",
    "    västra_göta_stockh.Län_namn.unique(),\n",
    "    [andel_dos1, andel_dos2, andel_dos3, andel_dos4], \n",
    "    \"Antal vaccinerade / län\", \n",
    "    labels_dos, sub_labels, \n",
    "    \"Andel_vaccinerade_vg_sthl.html\")"
   ]
  },
  {
   "cell_type": "markdown",
   "metadata": {},
   "source": [
    "---\n",
    "\n",
    "### Uppgift 3 - KPIer & explorativ dataanalys\n",
    "Definiera 3-6 KPIer utöver de som använts i ovanstående uppgifter och gör explorativ dataanalys på flera sheets på båda Excel-filerna. Se till att dokumentera vad du undersöker med markdown kombinerad med kod i Jupyter notebook eller om du använder Pythonskript, skriv en markdown vid sidan om. Dokumentera också vad du kommer fram till och spara alla visualiseringar."
   ]
  },
  {
   "cell_type": "code",
   "execution_count": 120,
   "metadata": {},
   "outputs": [
    {
     "data": {
      "text/plain": [
       "{'Antal per dag region':      Statistikdatum  Totalt_antal_fall  Blekinge  Dalarna  Gotland  Gävleborg  \\\n",
       " 0        2020-02-04                  1         0        0        0          0   \n",
       " 1        2020-02-05                  0         0        0        0          0   \n",
       " 2        2020-02-06                  0         0        0        0          0   \n",
       " 3        2020-02-07                  0         0        0        0          0   \n",
       " 4        2020-02-08                  0         0        0        0          0   \n",
       " ...             ...                ...       ...      ...      ...        ...   \n",
       " 998      2022-10-29                340         2       18        1          0   \n",
       " 999      2022-10-30                194         2       18        0          3   \n",
       " 1000     2022-10-31                468         5       11        0          7   \n",
       " 1001     2022-11-01                697         3       44        1          8   \n",
       " 1002     2022-11-02                607        11       41        0          3   \n",
       " \n",
       "       Halland  Jämtland_Härjedalen  Jönköping  Kalmar  ...  Stockholm  \\\n",
       " 0           0                    0          1       0  ...          0   \n",
       " 1           0                    0          0       0  ...          0   \n",
       " 2           0                    0          0       0  ...          0   \n",
       " 3           0                    0          0       0  ...          0   \n",
       " 4           0                    0          0       0  ...          0   \n",
       " ...       ...                  ...        ...     ...  ...        ...   \n",
       " 998        13                    2         23       4  ...         69   \n",
       " 999        23                    1         11       2  ...         49   \n",
       " 1000        8                    6         11      20  ...         77   \n",
       " 1001       42                    7         30      36  ...         77   \n",
       " 1002       37                    7         18      29  ...         84   \n",
       " \n",
       "       Sörmland  Uppsala  Värmland  Västerbotten  Västernorrland  Västmanland  \\\n",
       " 0            0        0         0             0               0            0   \n",
       " 1            0        0         0             0               0            0   \n",
       " 2            0        0         0             0               0            0   \n",
       " 3            0        0         0             0               0            0   \n",
       " 4            0        0         0             0               0            0   \n",
       " ...        ...      ...       ...           ...             ...          ...   \n",
       " 998          5        4        12            25               0            7   \n",
       " 999          9       29         3             6               0            0   \n",
       " 1000        16       13        18            11              36           24   \n",
       " 1001        45       23        22            41              11           32   \n",
       " 1002        24       15        12            31              40           18   \n",
       " \n",
       "       Västra_Götaland  Örebro  Östergötland  \n",
       " 0                   0       0             0  \n",
       " 1                   0       0             0  \n",
       " 2                   0       0             0  \n",
       " 3                   0       0             0  \n",
       " 4                   0       0             0  \n",
       " ...               ...     ...           ...  \n",
       " 998                41      44             7  \n",
       " 999                 3      16             4  \n",
       " 1000               58      26            19  \n",
       " 1001               57      64            22  \n",
       " 1002               73      33            21  \n",
       " \n",
       " [1003 rows x 23 columns],\n",
       " 'Antal avlidna per dag':            Datum_avliden  Antal_avlidna\n",
       " 0    2020-03-11 00:00:00              1\n",
       " 1    2020-03-12 00:00:00              0\n",
       " 2    2020-03-13 00:00:00              1\n",
       " 3    2020-03-14 00:00:00              1\n",
       " 4    2020-03-15 00:00:00              2\n",
       " ..                   ...            ...\n",
       " 963  2022-10-30 00:00:00              2\n",
       " 964  2022-10-31 00:00:00              0\n",
       " 965  2022-11-01 00:00:00              0\n",
       " 966  2022-11-02 00:00:00              0\n",
       " 967       Uppgift saknas             32\n",
       " \n",
       " [968 rows x 2 columns],\n",
       " 'Antal intensivvårdade per dag':     Datum_vårdstart  Antal_intensivvårdade\n",
       " 0        2020-03-06                      1\n",
       " 1        2020-03-07                      1\n",
       " 2        2020-03-08                      1\n",
       " 3        2020-03-09                      0\n",
       " 4        2020-03-10                      2\n",
       " ..              ...                    ...\n",
       " 967      2022-10-29                      3\n",
       " 968      2022-10-30                      3\n",
       " 969      2022-10-31                      2\n",
       " 970      2022-11-01                      0\n",
       " 971      2022-11-02                      1\n",
       " \n",
       " [972 rows x 2 columns],\n",
       " 'Totalt antal per region':                  Region  Totalt_antal_fall  Fall_per_100000_inv  \\\n",
       " 0              Blekinge              30866         19394.711670   \n",
       " 1               Dalarna              75286         26166.565430   \n",
       " 2               Gotland              11880         19786.651367   \n",
       " 3             Gävleborg              74838         26032.677246   \n",
       " 4               Halland             108997         32401.013916   \n",
       " 5   Jämtland Härjedalen              34388         26228.635254   \n",
       " 6             Jönköping              89804         24622.063477   \n",
       " 7                Kalmar              62960         25598.851074   \n",
       " 8             Kronoberg              51593         25525.897461   \n",
       " 9            Norrbotten              50868         20372.598389   \n",
       " 10                Skåne             347090         25024.797363   \n",
       " 11            Stockholm             607121         25413.071289   \n",
       " 12             Sörmland              68061         22752.045166   \n",
       " 13              Uppsala              93873         24227.080078   \n",
       " 14             Värmland              69379         24529.213623   \n",
       " 15         Västerbotten              60351         22107.830566   \n",
       " 16       Västernorrland              56363         23033.294434   \n",
       " 17          Västmanland              78567         28373.183105   \n",
       " 18      Västra Götaland             444628         25656.645020   \n",
       " 19               Örebro              99199         32468.114746   \n",
       " 20         Östergötland              98885         21178.400391   \n",
       " \n",
       "     Totalt_antal_intensivvårdade  Totalt_antal_avlidna  \n",
       " 0                             85                   184  \n",
       " 1                            261                   546  \n",
       " 2                             46                    83  \n",
       " 3                            334                   755  \n",
       " 4                            229                   522  \n",
       " 5                             97                   205  \n",
       " 6                            417                   761  \n",
       " 7                            136                   386  \n",
       " 8                            162                   410  \n",
       " 9                            268                   467  \n",
       " 10                           821                  2597  \n",
       " 11                          2656                  5656  \n",
       " 12                           447                   663  \n",
       " 13                           471                   725  \n",
       " 14                           194                   413  \n",
       " 15                           195                   396  \n",
       " 16                           219                   678  \n",
       " 17                           156                   534  \n",
       " 18                          1674                  3357  \n",
       " 19                           276                   525  \n",
       " 20                           441                   890  ,\n",
       " 'Totalt antal per kön':               Kön  Totalt_antal_fall  Totalt_antal_intensivvårdade  \\\n",
       " 0             Man            1211237                          6579   \n",
       " 1          Kvinna            1383473                          2959   \n",
       " 2  Uppgift saknas              20287                            47   \n",
       " \n",
       "    Totalt_antal_avlidna  \n",
       " 0                 11331  \n",
       " 1                  9315  \n",
       " 2                   107  ,\n",
       " 'Totalt antal per åldersgrupp':        Åldersgrupp  Totalt_antal_fall  Totalt_antal_intensivvårdade  \\\n",
       " 0        Ålder_0_9             138102                           111   \n",
       " 1      Ålder_10_19             355852                           100   \n",
       " 2      Ålder_20_29             418826                           286   \n",
       " 3      Ålder_30_39             493884                           493   \n",
       " 4      Ålder_40_49             475087                          1000   \n",
       " 5      Ålder_50_59             379085                          1936   \n",
       " 6      Ålder_60_69             180523                          2605   \n",
       " 7      Ålder_70_79              87527                          2407   \n",
       " 8      Ålder_80_89              58644                           620   \n",
       " 9    Ålder_90_plus              26919                            21   \n",
       " 10  Uppgift saknas                548                             6   \n",
       " \n",
       "     Totalt_antal_avlidna  \n",
       " 0                     17  \n",
       " 1                     10  \n",
       " 2                     41  \n",
       " 3                     71  \n",
       " 4                    174  \n",
       " 5                    525  \n",
       " 6                   1427  \n",
       " 7                   4675  \n",
       " 8                   8362  \n",
       " 9                   5447  \n",
       " 10                     4  ,\n",
       " 'Veckodata Region':         år  veckonummer        Region  Antal_fall_vecka  Kum_antal_fall  \\\n",
       " 0     2020            1      Blekinge                 0               0   \n",
       " 1     2020            2      Blekinge                 0               0   \n",
       " 2     2020            3      Blekinge                 0               0   \n",
       " 3     2020            4      Blekinge                 0               0   \n",
       " 4     2020            5      Blekinge                 0               0   \n",
       " ...    ...          ...           ...               ...             ...   \n",
       " 3103  2022           39  Östergötland               238           98214   \n",
       " 3104  2022           40  Östergötland               204           98418   \n",
       " 3105  2022           41  Östergötland               145           98563   \n",
       " 3106  2022           42  Östergötland               152           98715   \n",
       " 3107  2022           43  Östergötland               108           98823   \n",
       " \n",
       "       Antal_intensivvårdade_vecka  Kum_antal_intensivvårdade  \\\n",
       " 0                               0                          0   \n",
       " 1                               0                          0   \n",
       " 2                               0                          0   \n",
       " 3                               0                          0   \n",
       " 4                               0                          0   \n",
       " ...                           ...                        ...   \n",
       " 3103                            2                        439   \n",
       " 3104                            0                        439   \n",
       " 3105                            1                        440   \n",
       " 3106                            0                        440   \n",
       " 3107                            1                        441   \n",
       " \n",
       "       Antal_avlidna_vecka  Kum_antal_avlidna  Antal_fall_100000inv_vecka  \\\n",
       " 0                       0                  0                           0   \n",
       " 1                       0                  0                           0   \n",
       " 2                       0                  0                           0   \n",
       " 3                       0                  0                           0   \n",
       " 4                       0                  0                           0   \n",
       " ...                   ...                ...                         ...   \n",
       " 3103                    7                878                          51   \n",
       " 3104                    3                881                          44   \n",
       " 3105                    4                885                          31   \n",
       " 3106                    4                889                          33   \n",
       " 3107                    0                889                          23   \n",
       " \n",
       "       Kum_fall_100000inv  \n",
       " 0                      0  \n",
       " 1                      0  \n",
       " 2                      0  \n",
       " 3                      0  \n",
       " 4                      0  \n",
       " ...                  ...  \n",
       " 3103               21024  \n",
       " 3104               21067  \n",
       " 3105               21098  \n",
       " 3106               21131  \n",
       " 3107               21154  \n",
       " \n",
       " [3108 rows x 11 columns],\n",
       " 'Veckodata Kommun_stadsdel':          år  veckonummer KnKod      KnNamn Stadsdel Kommun_stadsdel  \\\n",
       " 0      2020            1  1440         Ale      NaN             Ale   \n",
       " 1      2020            2  1440         Ale      NaN             Ale   \n",
       " 2      2020            3  1440         Ale      NaN             Ale   \n",
       " 3      2020            4  1440         Ale      NaN             Ale   \n",
       " 4      2020            5  1440         Ale      NaN             Ale   \n",
       " ...     ...          ...   ...         ...      ...             ...   \n",
       " 47503  2022           39  2518  Övertorneå      NaN      Övertorneå   \n",
       " 47504  2022           40  2518  Övertorneå      NaN      Övertorneå   \n",
       " 47505  2022           41  2518  Övertorneå      NaN      Övertorneå   \n",
       " 47506  2022           42  2518  Övertorneå      NaN      Övertorneå   \n",
       " 47507  2022           43  2518  Övertorneå      NaN      Övertorneå   \n",
       " \n",
       "        tot_antal_fall_per10000inv  antal_fall_per10000_inv tot_antal_fall  \\\n",
       " 0                             0.0                      0.0              0   \n",
       " 1                             0.0                      0.0              0   \n",
       " 2                             0.0                      0.0              0   \n",
       " 3                             0.0                      0.0              0   \n",
       " 4                             0.0                      0.0              0   \n",
       " ...                           ...                      ...            ...   \n",
       " 47503                      1169.0                      0.0            493   \n",
       " 47504                      1169.0                      0.0            493   \n",
       " 47505                      1169.0                      0.0            493   \n",
       " 47506                      1169.0                      0.0            493   \n",
       " 47507                      1171.0                      2.0            494   \n",
       " \n",
       "       nya_fall_vecka  \n",
       " 0                  0  \n",
       " 1                  0  \n",
       " 2                  0  \n",
       " 3                  0  \n",
       " 4                  0  \n",
       " ...              ...  \n",
       " 47503              0  \n",
       " 47504              0  \n",
       " 47505              0  \n",
       " 47506              0  \n",
       " 47507              1  \n",
       " \n",
       " [47508 rows x 10 columns],\n",
       " 'Veckodata Riket':        år  veckonummer  Antal_fall_vecka  Antal_fall_100000inv_vecka  \\\n",
       " 0    2020            6                 1                           0   \n",
       " 1    2020            7                 0                           0   \n",
       " 2    2020            8                 0                           0   \n",
       " 3    2020            9                13                           0   \n",
       " 4    2020           10               211                           2   \n",
       " ..    ...          ...               ...                         ...   \n",
       " 138  2022           39             13532                         130   \n",
       " 139  2022           40              3999                          39   \n",
       " 140  2022           41              3408                          33   \n",
       " 141  2022           42              3278                          32   \n",
       " 142  2022           43              3502                          34   \n",
       " \n",
       "      Antal_fall_100000inv_14dagar  Kum_antal_fall  Kum_fall_100000inv  \\\n",
       " 0                               0               1                   0   \n",
       " 1                               0               1                   0   \n",
       " 2                               0               1                   0   \n",
       " 3                               0              14                   0   \n",
       " 4                               2             225                   2   \n",
       " ..                            ...             ...                 ...   \n",
       " 138                           175         2599038               25041   \n",
       " 139                           169         2603037               25079   \n",
       " 140                            72         2606445               25112   \n",
       " 141                            65         2609723               25144   \n",
       " 142                            66         2613225               25177   \n",
       " \n",
       "      Antal_nyaintensivvårdade_vecka  Kum_antal_intensivvårdade  \\\n",
       " 0                                 0                          0   \n",
       " 1                                 0                          0   \n",
       " 2                                 0                          0   \n",
       " 3                                 0                          0   \n",
       " 4                                 3                          3   \n",
       " ..                              ...                        ...   \n",
       " 138                              17                       9510   \n",
       " 139                              20                       9530   \n",
       " 140                              15                       9545   \n",
       " 141                              20                       9565   \n",
       " 142                              14                       9579   \n",
       " \n",
       "      Antal_avlidna_vecka  Antal_avlidna_milj_inv_vecka  Kum_antal_avlidna  \\\n",
       " 0                      0                           0.0                  0   \n",
       " 1                      0                           0.0                  0   \n",
       " 2                      0                           0.0                  0   \n",
       " 3                      0                           0.0                  0   \n",
       " 4                      0                           0.0                  0   \n",
       " ..                   ...                           ...                ...   \n",
       " 138                   94                           9.1              20405   \n",
       " 139                   98                           9.4              20503   \n",
       " 140                   94                           9.1              20597   \n",
       " 141                   70                           6.7              20667   \n",
       " 142                   37                           3.6              20704   \n",
       " \n",
       "      Kum_antal_avlidna_milj_inv  \n",
       " 0                      0.000000  \n",
       " 1                      0.000000  \n",
       " 2                      0.000000  \n",
       " 3                      0.000000  \n",
       " 4                      0.000000  \n",
       " ..                          ...  \n",
       " 138                 1965.900024  \n",
       " 139                 1975.400024  \n",
       " 140                 1984.400024  \n",
       " 141                 1991.199951  \n",
       " 142                 1994.699951  \n",
       " \n",
       " [143 rows x 13 columns],\n",
       " 'FOHM  3 Nov 2022':                                          Information\n",
       " 0  Dagliga data uppdateras torsdagar kl 14.00 med...}"
      ]
     },
     "execution_count": 120,
     "metadata": {},
     "output_type": "execute_result"
    }
   ],
   "source": [
    "covid_swe = pd.read_excel(\"Data/covid19.xlsx\", sheet_name=None)\n",
    "vaccine_swe = pd.read_excel(\"Data/vaccin.xlsx\")\n",
    "\n",
    "covid_swe"
   ]
  }
 ],
 "metadata": {
  "kernelspec": {
   "display_name": "Python 3.9.13 ('Databehandling-William-Akilles-Lindstedt-bpWULdXK')",
   "language": "python",
   "name": "python3"
  },
  "language_info": {
   "codemirror_mode": {
    "name": "ipython",
    "version": 3
   },
   "file_extension": ".py",
   "mimetype": "text/x-python",
   "name": "python",
   "nbconvert_exporter": "python",
   "pygments_lexer": "ipython3",
   "version": "3.9.13"
  },
  "orig_nbformat": 4,
  "vscode": {
   "interpreter": {
    "hash": "08e7c39814852de79614705ad3fad31d43fa5fdc6f76ae0c28142b09245f6875"
   }
  }
 },
 "nbformat": 4,
 "nbformat_minor": 2
}
